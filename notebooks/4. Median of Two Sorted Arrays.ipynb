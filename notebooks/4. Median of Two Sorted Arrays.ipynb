{
 "cells": [
  {
   "cell_type": "markdown",
   "id": "9250a02f-747c-4f93-99f0-3e4c21026fdf",
   "metadata": {},
   "source": [
    "# Median of Two Sorted Arrays\n",
    "\n",
    "Given two sorted arrays `nums1` and `nums2` of size `m` and `n` respectively, return the median of the two sorted arrays.\n",
    "\n",
    "The overall run time complexity should be $O(log (m+n))$.\n",
    "\n",
    "## Examples\n",
    "\n",
    "Example 1:\n",
    "\n",
    "Input: nums1 = [1,3], nums2 = [2]\n",
    "Output: 2.00000\n",
    "Explanation: merged array = [1,2,3] and median is 2.\n",
    "\n",
    "Example 2:\n",
    "\n",
    "Input: nums1 = [1,2], nums2 = [3,4]\n",
    "Output: 2.50000\n",
    "Explanation: merged array = [1,2,3,4] and median is (2 + 3) / 2 = 2.5.\n",
    "\n",
    "## Constraints\n",
    "\n",
    "Constraints:\n",
    "\n",
    "- nums1.length == m\n",
    "- nums2.length == n\n",
    "- 0 <= m <= 1000\n",
    "- 0 <= n <= 1000\n",
    "- 1 <= m + n <= 2000\n",
    "- $-10^6$ <= nums1[i], nums2[i] <= $10^6$\n"
   ]
  },
  {
   "cell_type": "markdown",
   "id": "b8bdd904-7bda-4cf2-8f77-8ddbaaed0da8",
   "metadata": {},
   "source": [
    "## Imports"
   ]
  },
  {
   "cell_type": "code",
   "execution_count": 1,
   "id": "23310251-b08b-4e58-ac61-290dac8b556f",
   "metadata": {},
   "outputs": [],
   "source": [
    "from typing import List"
   ]
  },
  {
   "cell_type": "markdown",
   "id": "88df2323-95f8-4b4c-95fe-eb79624f3b7e",
   "metadata": {},
   "source": [
    "## Naive Approach\n",
    "\n",
    "### Solution 1\n",
    "\n",
    "Append the arrays, sort them, and find the median.\n",
    "\n",
    "Time complexity: $O(log(m+n))$\n",
    "\n",
    "Submission: https://leetcode.com/problems/median-of-two-sorted-arrays/submissions/1618030117/"
   ]
  },
  {
   "cell_type": "code",
   "execution_count": 2,
   "id": "8dde1cf0-698f-4b3b-bf43-2c1039591436",
   "metadata": {},
   "outputs": [],
   "source": [
    "class Solution:\n",
    "    def findMedianSortedArrays(self, nums1: List[int], nums2: List[int]) -> float:\n",
    "        len1 = len(nums1)\n",
    "        len2 = len(nums2)\n",
    "\n",
    "        isodd = (len1 + len2) % 2 == 1\n",
    "\n",
    "        total = sorted(nums1 + nums2)\n",
    "\n",
    "        if isodd:\n",
    "            return total[(len1 + len2) // 2]\n",
    "        else:\n",
    "            return (total[((len1 + len2) // 2) - 1] + total[((len1 + len2) // 2)]) / 2\n",
    "        "
   ]
  },
  {
   "cell_type": "markdown",
   "id": "37a15e60-533b-4d24-ade0-8172fffe00ad",
   "metadata": {},
   "source": [
    "## Solution 2\n",
    "\n",
    "Same as solution 1 but using native median method.\n",
    "\n",
    "Submission: https://leetcode.com/problems/median-of-two-sorted-arrays/submissions/1618032930/"
   ]
  },
  {
   "cell_type": "code",
   "execution_count": 3,
   "id": "ee79495b-6401-4223-8759-32c97cd8c647",
   "metadata": {},
   "outputs": [],
   "source": [
    "class Solution:\n",
    "    def findMedianSortedArrays(self, nums1: List[int], nums2: List[int]) -> float:\n",
    "        from statistics import median\n",
    "        return median(sorted(nums1 + nums2))"
   ]
  },
  {
   "cell_type": "markdown",
   "id": "ba6e79db-a87e-4b0b-87a7-f7dfd3ea70c1",
   "metadata": {},
   "source": [
    "## Test Cases"
   ]
  },
  {
   "cell_type": "code",
   "execution_count": 4,
   "id": "a261f588-00ff-4182-8e8d-2089c2af9420",
   "metadata": {},
   "outputs": [],
   "source": [
    "sln = Solution()"
   ]
  },
  {
   "cell_type": "code",
   "execution_count": 5,
   "id": "2315a7a3-9dc1-4d57-a125-97f1f491d120",
   "metadata": {},
   "outputs": [],
   "source": [
    "nums1 = [1,3]\n",
    "nums2 = [2]\n",
    "\n",
    "actual = sln.findMedianSortedArrays(nums1, nums2)\n",
    "assert actual == 2"
   ]
  },
  {
   "cell_type": "code",
   "execution_count": 6,
   "id": "a0a17b25-432d-457a-a096-d93d2411999b",
   "metadata": {},
   "outputs": [],
   "source": [
    "nums1 = [1,2]\n",
    "nums2 = [3,4]\n",
    "\n",
    "actual = sln.findMedianSortedArrays(nums1, nums2)\n",
    "assert actual == 2.5"
   ]
  },
  {
   "cell_type": "code",
   "execution_count": null,
   "id": "c30c80eb-99e7-4028-a88f-c8145906747f",
   "metadata": {},
   "outputs": [],
   "source": []
  }
 ],
 "metadata": {
  "kernelspec": {
   "display_name": "Python 3 (ipykernel)",
   "language": "python",
   "name": "python3"
  },
  "language_info": {
   "codemirror_mode": {
    "name": "ipython",
    "version": 3
   },
   "file_extension": ".py",
   "mimetype": "text/x-python",
   "name": "python",
   "nbconvert_exporter": "python",
   "pygments_lexer": "ipython3",
   "version": "3.13.2"
  }
 },
 "nbformat": 4,
 "nbformat_minor": 5
}
