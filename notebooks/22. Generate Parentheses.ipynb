{
 "cells": [
  {
   "cell_type": "markdown",
   "id": "e6ca6a2e-3ee7-4536-af4b-a58204856f80",
   "metadata": {},
   "source": [
    "# Generate Parentheses\n",
    "\n",
    "Given n pairs of parentheses, write a function to generate all combinations of well-formed parentheses.\n",
    "\n",
    "## Examples\n",
    "\n",
    "Example 1:\n",
    "\n",
    "    Input: n = 3\n",
    "    Output: [\"((()))\",\"(()())\",\"(())()\",\"()(())\",\"()()()\"]\n",
    "\n",
    "Example 2:\n",
    "\n",
    "    Input: n = 1\n",
    "    Output: [\"()\"]\n",
    "\n",
    "\n",
    "## Constraints\n",
    "\n",
    "- 1 <= n <= 8\n",
    "\n",
    "<div class=\"tag-container\">\n",
    "    <div class=\"tag red\">Dynamic programming</div>\n",
    "    <div class=\"tag orange\">Backtracking</div>\n",
    "    <div class=\"tag purple\">String</div>\n",
    "</div>"
   ]
  },
  {
   "cell_type": "markdown",
   "id": "b759da80-f13f-4acc-b8d3-e386980d5f43",
   "metadata": {},
   "source": [
    "## Backtrack Recursion\n",
    "\n",
    "### Solution 1\n",
    "\n",
    "Time complexity: $O(2^n)$\n",
    "\n",
    "Submission link: https://leetcode.com/problems/generate-parentheses/submissions/1771275142/\n"
   ]
  },
  {
   "cell_type": "code",
   "execution_count": 1,
   "id": "8baeace7-2b50-4c12-aead-760e8c0eb8ad",
   "metadata": {},
   "outputs": [],
   "source": [
    "from typing import List\n",
    "\n",
    "class Solution:\n",
    "    def generateParenthesis(self, n: int) -> List[str]:\n",
    "        res = []\n",
    "        def backtrack(current_string, open_count, close_count):\n",
    "            if len(current_string) == 2 * n:\n",
    "                res.append(current_string)\n",
    "                return\n",
    "\n",
    "            if open_count < n:\n",
    "                backtrack(current_string + \"(\", open_count + 1, close_count)\n",
    "\n",
    "            if close_count < open_count:\n",
    "                backtrack(current_string + \")\", open_count, close_count + 1)\n",
    "\n",
    "        backtrack(\"\", 0, 0)\n",
    "        return res"
   ]
  },
  {
   "cell_type": "markdown",
   "id": "36141c32-9941-4ba7-a533-c44f4bc64ec6",
   "metadata": {},
   "source": [
    "## Test Cases"
   ]
  },
  {
   "cell_type": "code",
   "execution_count": 2,
   "id": "980be65f-8056-4000-8054-67ac8cc7b16f",
   "metadata": {},
   "outputs": [],
   "source": [
    "sln = Solution()"
   ]
  },
  {
   "cell_type": "code",
   "execution_count": 3,
   "id": "67e7291a-f8cb-46b4-8a86-20b0f08d2afa",
   "metadata": {},
   "outputs": [
    {
     "name": "stdout",
     "output_type": "stream",
     "text": [
      "Actual   :  ['((()))', '(()())', '(())()', '()(())', '()()()']\n",
      "Expected :  ['((()))', '(()())', '(())()', '()(())', '()()()']\n",
      "--------------------------------------------------\n",
      "Actual   :  ['()']\n",
      "Expected :  ['()']\n",
      "--------------------------------------------------\n",
      "Actual   :  ['(())', '()()']\n",
      "Expected :  ['(())', '()()']\n",
      "--------------------------------------------------\n"
     ]
    }
   ],
   "source": [
    "scenarios = [\n",
    "    [3, [\"((()))\",\"(()())\",\"(())()\",\"()(())\",\"()()()\"]],\n",
    "    [1, [\"()\"]],\n",
    "    [2, [\"(())\", \"()()\"]],\n",
    "]\n",
    "\n",
    "for case in scenarios:\n",
    "    actual = sln.generateParenthesis(case[0])\n",
    "    print('Actual   : ', actual)\n",
    "    print('Expected : ', case[1])\n",
    "    print('-' * 50)\n",
    "    assert actual == case[1], f\"Case '{case[0]}' failed. {actual} does not equal to {case[1]}\""
   ]
  },
  {
   "cell_type": "code",
   "execution_count": null,
   "id": "e65c2f1d-e172-4bbf-9ece-123f079fd4a2",
   "metadata": {},
   "outputs": [],
   "source": []
  }
 ],
 "metadata": {
  "kernelspec": {
   "display_name": "Python 3 (ipykernel)",
   "language": "python",
   "name": "python3"
  },
  "language_info": {
   "codemirror_mode": {
    "name": "ipython",
    "version": 3
   },
   "file_extension": ".py",
   "mimetype": "text/x-python",
   "name": "python",
   "nbconvert_exporter": "python",
   "pygments_lexer": "ipython3",
   "version": "3.13.2"
  }
 },
 "nbformat": 4,
 "nbformat_minor": 5
}
