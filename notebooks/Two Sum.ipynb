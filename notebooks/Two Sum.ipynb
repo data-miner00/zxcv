{
 "cells": [
  {
   "cell_type": "markdown",
   "id": "bbe0e475-1a84-4c09-99a0-b53b60980ba7",
   "metadata": {},
   "source": [
    "# Two Sum\n",
    "\n",
    "Given an array of integers `nums` and an integer `target`, return indices of the two numbers such that they add up to `target`.\n",
    "\n",
    "You may assume that each input would have **exactly one solution**, and you may not use the same element twice.\n",
    "\n",
    "You can return the answer in any order.\n",
    "\n",
    "<!-- https://leetcode.com/problems/two-sum/description/ -->\n",
    "\n",
    "## Examples\n",
    "\n",
    "Example 1:\n",
    "\n",
    "Input: nums = [2,7,11,15], target = 9\n",
    "Output: [0,1]\n",
    "Explanation: Because nums[0] + nums[1] == 9, we return [0, 1].\n",
    "\n",
    "Example 2:\n",
    "\n",
    "Input: nums = [3,2,4], target = 6\n",
    "Output: [1,2]\n",
    "\n",
    "Example 3:\n",
    "\n",
    "Input: nums = [3,3], target = 6\n",
    "Output: [0,1]\n",
    "\n",
    "## Constraints\n",
    "\n",
    "- 2 <= nums.length <= 104\n",
    "- -109 <= nums[i] <= 109\n",
    "- -109 <= target <= 109\n",
    "- Only one valid answer exists.\n",
    "\n",
    "Follow-up: Can you come up with an algorithm that is less than O(n2) time complexity?"
   ]
  },
  {
   "cell_type": "markdown",
   "id": "9b9f3b08-612b-4104-9890-2812cdc61f27",
   "metadata": {},
   "source": [
    "## Brute Force"
   ]
  },
  {
   "cell_type": "markdown",
   "id": "0b834e30-059b-41a0-9736-c4c1b375b4a4",
   "metadata": {},
   "source": [
    "### Solution 1\n",
    "\n",
    "Using nested loops to check for the addition to see if they add up to `target`. If yes, return the indices `i` and `j` in an array of two values.\n",
    "\n",
    "Time complexity: $O(n^2)$\n",
    "\n",
    "Submission: https://leetcode.com/problems/two-sum/submissions/1599639969"
   ]
  },
  {
   "cell_type": "code",
   "execution_count": 42,
   "id": "dcc4853d-c9aa-400e-8c39-5c14124f7165",
   "metadata": {},
   "outputs": [],
   "source": [
    "class Solution:\n",
    "    def twoSum(self, nums, target):\n",
    "        for i in range(len(nums)):\n",
    "            for j in range(i + 1, len(nums)):\n",
    "                if nums[i] + nums[j] == target:\n",
    "                    return [i, j]\n",
    "        \n",
    "        return [-1, -1]"
   ]
  },
  {
   "cell_type": "markdown",
   "id": "6b949c85-e721-4ac4-b4d0-f00cee53f0d4",
   "metadata": {},
   "source": [
    "## Two Pointer"
   ]
  },
  {
   "cell_type": "markdown",
   "id": "4b6e014a-9733-4505-8a25-650e4e9e87ab",
   "metadata": {},
   "source": [
    "### Solution 1\n",
    "\n",
    "Intuition:\n",
    "If `num[low]` + `num[high]` is lesser than `target`, increment the `low` pointer by 1 and decreases the `high` pointer by 1 if the sum exceeds the `target`. If the sum equals to the target, return the index represented by `low` and `high`. Note that this will only work in a sorted array.\n",
    "\n",
    "Steps:\n",
    "1. Have two pointers `low` and `high` initialized to `0` and `len(nums) - 1`\n",
    "2. Convert the `nums` array into a tuple/dictionary that contains its value and the original index side by side. For example, the array `[3, 4, 1]` will be mapped to `[(0, 3), (1, 4), (2, 1)]`. This is because we will need to sort the `nums` array that will messed up the original indices.\n",
    "3. Sort the `nums` array by the value itself (second element in the tuple)\n",
    "4. Perform the intuition above in a while loop that terminates when `low` is more than `high`\n",
    "5. By the end, we are guaranteed a solution\n",
    "\n",
    "Time complexity: Sort $O(n\\:log\\:n)$ + Loop $O(n)$ = $O(n\\:log\\:n)$ - Loop is ignored\n",
    "\n",
    "Submission: https://leetcode.com/problems/two-sum/submissions/1599675146/\n"
   ]
  },
  {
   "cell_type": "code",
   "execution_count": 43,
   "id": "72eb21f2-464f-4116-b684-d66c80dde91c",
   "metadata": {},
   "outputs": [],
   "source": [
    "class Solution:\n",
    "    def twoSum(self, nums, target):\n",
    "        nums = sorted([*enumerate(nums)], key=lambda x: x[1])\n",
    "        \n",
    "        high = len(nums) - 1\n",
    "        low = 0\n",
    "\n",
    "        while low < high:\n",
    "            if nums[low][1] + nums[high][1] < target:\n",
    "                low += 1\n",
    "            elif nums[low][1] + nums[high][1] > target:\n",
    "                high -= 1\n",
    "            else:\n",
    "                break\n",
    "        \n",
    "        return [nums[low][0], nums[high][0]]"
   ]
  },
  {
   "cell_type": "markdown",
   "id": "ff968463-b01e-47a0-b661-58aee1e29aaf",
   "metadata": {},
   "source": [
    "## Single-Pass Hash Table\n",
    "\n",
    "A one-pass hash table refers to a technique where we traverse (or \"pass through\") a data structure (like an array or list) only once while using a hash table (or hash map) to store and look up values on-the-fly. This is often used in algorithmic problems to achieve better time efficiency, especially in problems involving lookups, counts, or pair matching."
   ]
  },
  {
   "cell_type": "markdown",
   "id": "ed1a19e0-180a-462a-94b2-0c40b88420fe",
   "metadata": {},
   "source": [
    "### Solution 1\n",
    "\n",
    "Intuition: Use a hash table to store the complement and check the current number against it.\n",
    "\n",
    "For each number:\n",
    "\n",
    "1. Check if the complement (target - current number) is already in the hash map.\n",
    "2. If not, store the current number and its index in the hash map.\n",
    "\n",
    "This allows us to find the answer in $O(n)$ time with $O(n)$ space."
   ]
  },
  {
   "cell_type": "code",
   "execution_count": 44,
   "id": "902d0f66-4936-44e2-a586-bfbfcfd836f2",
   "metadata": {},
   "outputs": [],
   "source": [
    "class Solution:\n",
    "    def twoSum(self, nums, target):\n",
    "        dic = dict()\n",
    "        \n",
    "        for index, num in enumerate(nums):\n",
    "            complement = target - num\n",
    "            if complement in dic:\n",
    "                return [dic[complement], index]\n",
    "            dic[num] = index"
   ]
  },
  {
   "cell_type": "markdown",
   "id": "ec8ee488-4180-4be0-a4f6-7ebaaa3fcdef",
   "metadata": {},
   "source": [
    "## Test Cases"
   ]
  },
  {
   "cell_type": "code",
   "execution_count": 45,
   "id": "767f1954-f442-4952-b897-2f87ef18a2b5",
   "metadata": {},
   "outputs": [],
   "source": [
    "nums = [2,7,11,15]\n",
    "target = 9\n",
    "expected = [0, 1]\n",
    "\n",
    "solution = Solution()\n",
    "actual = solution.twoSum(nums, target)\n",
    "\n",
    "assert actual == expected"
   ]
  },
  {
   "cell_type": "code",
   "execution_count": 46,
   "id": "91fae90d-8509-4229-b23f-80cfaa1e0b59",
   "metadata": {},
   "outputs": [],
   "source": [
    "nums = [3,2,4]\n",
    "target = 6 \n",
    "expected = [1,2]\n",
    "\n",
    "actual = solution.twoSum(nums, target)\n",
    "\n",
    "assert actual == expected"
   ]
  },
  {
   "cell_type": "code",
   "execution_count": 47,
   "id": "3b383f2f-d1d4-4004-9e2b-773c9c3ea4d2",
   "metadata": {},
   "outputs": [],
   "source": [
    "nums = [3,3]\n",
    "target = 6\n",
    "expected = [0,1]\n",
    "\n",
    "actual = solution.twoSum(nums, target)\n",
    "\n",
    "assert actual == expected"
   ]
  },
  {
   "cell_type": "code",
   "execution_count": null,
   "id": "1a1b25e2-6469-4172-8ca3-2f852e076a8e",
   "metadata": {},
   "outputs": [],
   "source": []
  }
 ],
 "metadata": {
  "kernelspec": {
   "display_name": "Python 3 (ipykernel)",
   "language": "python",
   "name": "python3"
  },
  "language_info": {
   "codemirror_mode": {
    "name": "ipython",
    "version": 3
   },
   "file_extension": ".py",
   "mimetype": "text/x-python",
   "name": "python",
   "nbconvert_exporter": "python",
   "pygments_lexer": "ipython3",
   "version": "3.13.2"
  }
 },
 "nbformat": 4,
 "nbformat_minor": 5
}
