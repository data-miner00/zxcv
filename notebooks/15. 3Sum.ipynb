{
 "cells": [
  {
   "cell_type": "markdown",
   "id": "dac4f1bc-fd9e-415a-8793-33a727c58223",
   "metadata": {},
   "source": [
    "# 3Sum\n",
    "\n",
    "Difficulty: Medium\n",
    "\n",
    "Given an integer array nums, return all the triplets `[nums[i], nums[j], nums[k]]` such that `i != j`, `i != k`, and `j != k`, and `nums[i] + nums[j] + nums[k]` == 0.\n",
    "\n",
    "Notice that the solution set must not contain duplicate triplets.\n",
    "\n",
    "## Examples\n",
    "\n",
    "Example 1:\n",
    "\n",
    "    Input: nums = [-1,0,1,2,-1,-4]\n",
    "    Output: [[-1,-1,2],[-1,0,1]]\n",
    "    Explanation: \n",
    "    nums[0] + nums[1] + nums[2] = (-1) + 0 + 1 = 0.\n",
    "    nums[1] + nums[2] + nums[4] = 0 + 1 + (-1) = 0.\n",
    "    nums[0] + nums[3] + nums[4] = (-1) + 2 + (-1) = 0.\n",
    "    The distinct triplets are [-1,0,1] and [-1,-1,2].\n",
    "    Notice that the order of the output and the order of the triplets does not matter.\n",
    "\n",
    "Example 2:\n",
    "\n",
    "    Input: nums = [0,1,1]\n",
    "    Output: []\n",
    "    Explanation: The only possible triplet does not sum up to 0.\n",
    "\n",
    "Example 3:\n",
    "\n",
    "    Input: nums = [0,0,0]\n",
    "    Output: [[0,0,0]]\n",
    "    Explanation: The only possible triplet sums up to 0.\n",
    "\n",
    " \n",
    "\n",
    "## Constraints\n",
    "\n",
    "- 3 <= nums.length <= 3000\n",
    "- -105 <= nums[i] <= 105\n",
    "\n",
    "<div class=\"tag-container\">\n",
    "    <div class=\"tag pink\">Array</div>\n",
    "    <div class=\"tag green\">Two Pointers</div>\n",
    "    <div class=\"tag yellow\">Sorting</div>\n",
    "</div>\n"
   ]
  },
  {
   "cell_type": "markdown",
   "id": "f9f8aa77-3b44-4847-973e-e41eec50b298",
   "metadata": {},
   "source": [
    "## Two Pointers\n",
    "\n",
    "### Solution 1 Attempt 1\n",
    "\n",
    "Use three pointer to iterate through the lists.\n",
    "\n",
    "Time complexity: $O(n^2)$\n",
    "\n",
    "Submission link (Wrong Answer): https://leetcode.com/problems/3sum/submissions/1765028469/"
   ]
  },
  {
   "cell_type": "code",
   "execution_count": 1,
   "id": "88a92acf-faf9-4ac3-85c5-b56673f43a69",
   "metadata": {},
   "outputs": [],
   "source": [
    "from typing import List\n",
    "\n",
    "class Solution:\n",
    "    def threeSum(self, nums: List[int]) -> List[List[int]]:\n",
    "        nums = sorted(nums)\n",
    "\n",
    "        ans = []\n",
    "        temp = []\n",
    "\n",
    "        for i in range(2, len(nums)):\n",
    "            wall = i\n",
    "            left = 0\n",
    "            right = wall - 1\n",
    "\n",
    "            while left < right:\n",
    "                result = nums[left] + nums[right] + nums[wall]\n",
    "\n",
    "                if result < 0:\n",
    "                    left += 1\n",
    "                elif result > 0:\n",
    "                    right -= 1\n",
    "                else:\n",
    "                    hash = str([nums[left], nums[right], nums[wall]])\n",
    "                    if not hash in temp:\n",
    "                        temp.append(hash)\n",
    "                        ans.append([nums[left], nums[right], nums[wall]])\n",
    "                    break\n",
    "\n",
    "        return ans"
   ]
  },
  {
   "cell_type": "markdown",
   "id": "254f1f82-f44e-455f-b15c-2485ed0fe8d1",
   "metadata": {},
   "source": [
    "### Solution 1 Attempt 2 (Help from Claude)\n",
    "\n",
    "I didn't really know how to efficiently **skip duplicate** and didn't know that I need to **advance the pointers** when found a solution.\n",
    "\n",
    "Submission link: https://leetcode.com/problems/3sum/submissions/1765046387/"
   ]
  },
  {
   "cell_type": "code",
   "execution_count": 2,
   "id": "62003d70-b664-4fcb-91a3-6646f1d5bf04",
   "metadata": {},
   "outputs": [],
   "source": [
    "from typing import List\n",
    "\n",
    "class Solution:\n",
    "    def threeSum(self, nums: List[int]) -> List[List[int]]:\n",
    "        nums.sort()\n",
    "\n",
    "        ans = []\n",
    "\n",
    "        for i in range(2, len(nums)):\n",
    "            if i < len(nums) - 1 and nums[i] == nums[i + 1]:\n",
    "                continue\n",
    "                \n",
    "            wall = i\n",
    "            left = 0\n",
    "            right = wall - 1\n",
    "\n",
    "            while left < right:\n",
    "                result = nums[left] + nums[right] + nums[wall]\n",
    "\n",
    "                if result < 0:\n",
    "                    left += 1\n",
    "                elif result > 0:\n",
    "                    right -= 1\n",
    "                else:\n",
    "                    ans.append([nums[left], nums[right], nums[wall]])\n",
    "\n",
    "                    while left < right and nums[left] == nums[left + 1]:\n",
    "                        left += 1\n",
    "                    while left < right and nums[right] == nums[right - 1]:\n",
    "                        right -= 1\n",
    "                    \n",
    "                    left += 1\n",
    "                    right -= 1\n",
    "\n",
    "        return ans"
   ]
  },
  {
   "cell_type": "markdown",
   "id": "5d0eca66-e243-41d1-b052-8f94b01b37e0",
   "metadata": {},
   "source": [
    "## Test Cases"
   ]
  },
  {
   "cell_type": "code",
   "execution_count": 3,
   "id": "6f4a5ec4-8677-49b3-a371-8082cbbeae73",
   "metadata": {},
   "outputs": [],
   "source": [
    "sln = Solution()"
   ]
  },
  {
   "cell_type": "code",
   "execution_count": 4,
   "id": "901d4195-3e58-406a-812b-b65bf75e0af4",
   "metadata": {},
   "outputs": [
    {
     "name": "stdout",
     "output_type": "stream",
     "text": [
      "Actual   :  [[-1, 0, 1], [-1, -1, 2]]\n",
      "Expected :  [[-1, -1, 2], [-1, 0, 1]]\n",
      "--------------------------------------------------\n",
      "Actual   :  []\n",
      "Expected :  []\n",
      "--------------------------------------------------\n",
      "Actual   :  [[0, 0, 0]]\n",
      "Expected :  [[0, 0, 0]]\n",
      "--------------------------------------------------\n",
      "Actual   :  [[0, 0, 0]]\n",
      "Expected :  [[0, 0, 0]]\n",
      "--------------------------------------------------\n",
      "Actual   :  [[-4, 2, 2], [-3, 1, 2], [-2, 0, 2], [-10, 5, 5], [-5, 0, 5], [-3, -2, 5]]\n",
      "Expected :  [[-10, 5, 5], [-5, 0, 5], [-4, 2, 2], [-3, -2, 5], [-3, 1, 2], [-2, 0, 2]]\n",
      "--------------------------------------------------\n"
     ]
    }
   ],
   "source": [
    "scenarios = [\n",
    "    [[-1,0,1,2,-1,-4], [[-1,-1,2],[-1,0,1]]],\n",
    "    [[0,1,1], []],\n",
    "    [[0,0,0], [[0,0,0]]],\n",
    "    [[0,0,0,0], [[0,0,0]]],\n",
    "    [[2,-3,0,-2,-5,-5,-4,1,2,-2,2,0,2,-4,5,5,-10], [[-10,5,5],[-5,0,5],[-4,2,2],[-3,-2,5],[-3,1,2],[-2,0,2]]],\n",
    "]\n",
    "\n",
    "for case in scenarios:\n",
    "    actual = sln.threeSum(case[0])\n",
    "    print('Actual   : ', actual)\n",
    "    print('Expected : ', case[1])\n",
    "    print('-' * 50)\n",
    "    assert len(actual) == len(case[1]), f\"Case '{case[0]}' failed. {len(actual)} does not equal to {len(case[1])}\""
   ]
  },
  {
   "cell_type": "code",
   "execution_count": null,
   "id": "ca4c9d63-bfbe-47bd-82c4-3f3b189b80e6",
   "metadata": {},
   "outputs": [],
   "source": []
  }
 ],
 "metadata": {
  "kernelspec": {
   "display_name": "Python 3 (ipykernel)",
   "language": "python",
   "name": "python3"
  },
  "language_info": {
   "codemirror_mode": {
    "name": "ipython",
    "version": 3
   },
   "file_extension": ".py",
   "mimetype": "text/x-python",
   "name": "python",
   "nbconvert_exporter": "python",
   "pygments_lexer": "ipython3",
   "version": "3.13.2"
  }
 },
 "nbformat": 4,
 "nbformat_minor": 5
}
