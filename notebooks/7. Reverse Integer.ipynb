{
 "cells": [
  {
   "cell_type": "markdown",
   "id": "9b9f20ba-96df-49e9-8f0a-7b9bc4070347",
   "metadata": {},
   "source": [
    "# Reverse Integer\n",
    "\n",
    "Difficulty: Medium\n",
    "\n",
    "Given a signed 32-bit integer x, return x with its digits reversed. If reversing x causes the value to go outside the signed 32-bit integer range [-231, 231 - 1], then return 0.\n",
    "\n",
    "Assume the environment does not allow you to store 64-bit integers (signed or unsigned).\n",
    " \n",
    "## Examples\n",
    "\n",
    "Example 1:\n",
    "\n",
    "Input: x = 123\n",
    "Output: 321\n",
    "\n",
    "Example 2:\n",
    "\n",
    "Input: x = -123\n",
    "Output: -321\n",
    "\n",
    "Example 3:\n",
    "\n",
    "Input: x = 120\n",
    "Output: 21\n",
    "\n",
    "## Constraints\n",
    "\n",
    "- -231 <= x <= 231 - 1\n"
   ]
  },
  {
   "cell_type": "markdown",
   "id": "eb7bd0bd-85b6-452e-b59d-678044aa10e3",
   "metadata": {},
   "source": [
    "## Logics\n",
    "\n",
    "### Solution 1\n",
    "\n",
    "1. Reverse the integer with traditional method.\n",
    "2. Capture if it is negative number\n",
    "3. Return 0 if bigger than 32-bit integer result\n",
    "4. Return result and with negative if it is negative\n",
    "\n",
    "Time complexity: $O(n)$\n",
    "\n",
    "Submission: https://leetcode.com/problems/reverse-integer/submissions/1624256814/"
   ]
  },
  {
   "cell_type": "code",
   "execution_count": 1,
   "id": "2d7c60d7-24fb-4da7-9dbd-09f42f75130c",
   "metadata": {},
   "outputs": [],
   "source": [
    "class Solution:\n",
    "    def reverse(self, x: int) -> int:\n",
    "        result = 0\n",
    "        negative = x < 0\n",
    "        if negative:\n",
    "            x *= -1\n",
    "\n",
    "        while x > 0:\n",
    "            result = (result * 10) + (x % 10)\n",
    "            x = x // 10\n",
    "\n",
    "        if result > 2**31 - 1:\n",
    "            return 0\n",
    "\n",
    "        return result if not negative else result * -1"
   ]
  },
  {
   "cell_type": "markdown",
   "id": "0c0976df-4ee3-4ff7-a883-9d332a1d8741",
   "metadata": {},
   "source": [
    "## Test Cases"
   ]
  },
  {
   "cell_type": "code",
   "execution_count": 2,
   "id": "7cffea40-a756-49ea-aabf-3b20a721b79e",
   "metadata": {},
   "outputs": [],
   "source": [
    "sln = Solution()"
   ]
  },
  {
   "cell_type": "code",
   "execution_count": 3,
   "id": "9c73725c-dcde-4f8c-85ba-7c41793c30a1",
   "metadata": {},
   "outputs": [],
   "source": [
    "num = 123\n",
    "expected = 321\n",
    "\n",
    "actual = sln.reverse(num)\n",
    "assert actual == expected"
   ]
  },
  {
   "cell_type": "code",
   "execution_count": 4,
   "id": "e7d78888-a818-4baa-9373-e12bf534d6db",
   "metadata": {},
   "outputs": [],
   "source": [
    "num = -123\n",
    "expected = -321\n",
    "\n",
    "actual = sln.reverse(num)\n",
    "assert actual == expected"
   ]
  },
  {
   "cell_type": "code",
   "execution_count": 5,
   "id": "1eb52376-7bb9-4f05-9a04-47cda1003197",
   "metadata": {},
   "outputs": [],
   "source": [
    "num = 120\n",
    "expected = 21\n",
    "\n",
    "actual = sln.reverse(num)\n",
    "assert actual == expected"
   ]
  },
  {
   "cell_type": "code",
   "execution_count": 6,
   "id": "cf52b69f-127c-42e2-9735-d65c41eb1be0",
   "metadata": {},
   "outputs": [],
   "source": [
    "num = 1534236469\n",
    "expected = 0\n",
    "\n",
    "actual = sln.reverse(num)\n",
    "assert actual == expected"
   ]
  },
  {
   "cell_type": "markdown",
   "id": "c169bb21-c060-4ac1-abea-b3b969f8d341",
   "metadata": {},
   "source": [
    "## Notes\n",
    "\n",
    "32-bit integer's maximum value is `2137483647`."
   ]
  },
  {
   "cell_type": "code",
   "execution_count": 7,
   "id": "7f6d1e89-8e37-4b7d-8f66-2bd0d73073bc",
   "metadata": {},
   "outputs": [
    {
     "data": {
      "text/plain": [
       "2147483647"
      ]
     },
     "execution_count": 7,
     "metadata": {},
     "output_type": "execute_result"
    }
   ],
   "source": [
    "2**31 - 1"
   ]
  },
  {
   "cell_type": "code",
   "execution_count": null,
   "id": "9a22c3ce-584b-4af8-b1dc-8f9e72f538d2",
   "metadata": {},
   "outputs": [],
   "source": []
  }
 ],
 "metadata": {
  "kernelspec": {
   "display_name": "Python 3 (ipykernel)",
   "language": "python",
   "name": "python3"
  },
  "language_info": {
   "codemirror_mode": {
    "name": "ipython",
    "version": 3
   },
   "file_extension": ".py",
   "mimetype": "text/x-python",
   "name": "python",
   "nbconvert_exporter": "python",
   "pygments_lexer": "ipython3",
   "version": "3.13.2"
  }
 },
 "nbformat": 4,
 "nbformat_minor": 5
}
