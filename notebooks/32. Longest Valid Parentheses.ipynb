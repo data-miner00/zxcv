{
 "cells": [
  {
   "cell_type": "markdown",
   "id": "981eccf6-bc43-47ed-95f4-495ce00bd05f",
   "metadata": {},
   "source": [
    "# Longest Valid Parentheses\n",
    "\n",
    "Difficulty: Hard\n",
    "\n",
    "Given a string containing just the characters '(' and ')', return the length of the longest valid (well-formed) parentheses substring.\n",
    "\n",
    "## Examples\n",
    "\n",
    "Example 1:\n",
    "\n",
    "    Input: s = \"(()\"\n",
    "    Output: 2\n",
    "    Explanation: The longest valid parentheses substring is \"()\".\n",
    "\n",
    "Example 2:\n",
    "\n",
    "    Input: s = \")()())\"\n",
    "    Output: 4\n",
    "    Explanation: The longest valid parentheses substring is \"()()\".\n",
    "\n",
    "Example 3:\n",
    "\n",
    "    Input: s = \"\"\n",
    "    Output: 0\n",
    "\n",
    "## Constraints\n",
    "\n",
    "- 0 <= s.length <= 3 * 104\n",
    "- s[i] is '(', or ')'.\n",
    "\n",
    "<div class=\"tag-container\">\n",
    "    <div class=\"tag orange\">String</div>\n",
    "    <div class=\"tag red\">Dynamic Programming</div>\n",
    "    <div class=\"tag purple\">Stack</div>\n",
    "</div>"
   ]
  },
  {
   "cell_type": "markdown",
   "id": "70cc7c33-8241-4e66-80be-0fcec8352ccc",
   "metadata": {},
   "source": [
    "## Dynamic Programming\n",
    "\n",
    "### Solution 1 (Claude)\n",
    "\n",
    "Complexity: $O(n)$ time, $O(1)$ space"
   ]
  },
  {
   "cell_type": "code",
   "execution_count": 1,
   "id": "82d67520-b024-495f-b51c-dcb48639c8ef",
   "metadata": {},
   "outputs": [],
   "source": [
    "class Solution:\n",
    "    def longestValidParentheses(self, s: str) -> int:\n",
    "        \"\"\"\n",
    "        DP approach where dp[i] = length of longest valid parentheses ending at index i\n",
    "        \n",
    "        Key insight:\n",
    "        - dp[i] = 0 if s[i] = '(' (can't end with open paren)\n",
    "        - If s[i] = ')':\n",
    "          - If s[i-1] = '(': dp[i] = dp[i-2] + 2 (matched pair)\n",
    "          - If s[i-1] = ')' and s[i-dp[i-1]-1] = '(': \n",
    "            dp[i] = dp[i-1] + 2 + dp[i-dp[i-1]-2] (extend previous valid sequence)\n",
    "        \"\"\"\n",
    "        if len(s) < 2:\n",
    "            return 0\n",
    "        \n",
    "        n = len(s)\n",
    "        dp = [0] * n\n",
    "        max_len = 0\n",
    "        \n",
    "        for i in range(1, n):\n",
    "            if s[i] == ')':\n",
    "                if s[i-1] == '(':\n",
    "                    # Case: ...()\n",
    "                    dp[i] = (dp[i-2] if i >= 2 else 0) + 2\n",
    "                elif i - dp[i-1] > 0 and s[i - dp[i-1] - 1] == '(':\n",
    "                    # Case: ...))\n",
    "                    # Check if there's a matching '(' before the previous valid sequence\n",
    "                    dp[i] = dp[i-1] + 2 + (dp[i - dp[i-1] - 2] if i - dp[i-1] >= 2 else 0)\n",
    "                \n",
    "                max_len = max(max_len, dp[i])\n",
    "        \n",
    "        return max_len"
   ]
  },
  {
   "cell_type": "markdown",
   "id": "8c052c53-3a2c-4a5a-96cb-ff6d59eef1ff",
   "metadata": {},
   "source": [
    "## Stack\n",
    "\n",
    "### Solution 1 (Claude)\n",
    "\n",
    "Complexity: $O(n)$ time, $O(n)$ space\n",
    "\n",
    "Submission link: https://leetcode.com/problems/longest-valid-parentheses/submissions/1790652332/"
   ]
  },
  {
   "cell_type": "code",
   "execution_count": 2,
   "id": "3050a210-53bb-4fba-be18-c9892d2a8306",
   "metadata": {},
   "outputs": [],
   "source": [
    "class Solution:\n",
    "    def longestValidParentheses(self, s: str) -> int:\n",
    "        \"\"\"\n",
    "        Use stack to track indices of unmatched parentheses\n",
    "        \n",
    "        Key insight: Valid substring is between unmatched parentheses\n",
    "        \"\"\"\n",
    "        stack = [-1]  # Initialize with base for length calculation\n",
    "        max_len = 0\n",
    "        \n",
    "        for i, ch in enumerate(s):\n",
    "            if ch == '(':\n",
    "                stack.append(i)\n",
    "            else:  # ch == ')'\n",
    "                stack.pop()\n",
    "                if not stack:\n",
    "                    # No matching '(', this ')' becomes new base\n",
    "                    stack.append(i)\n",
    "                else:\n",
    "                    # Valid match found, calculate length\n",
    "                    max_len = max(max_len, i - stack[-1])\n",
    "        \n",
    "        return max_len"
   ]
  },
  {
   "cell_type": "markdown",
   "id": "f69dc9a1-bb4c-4804-a277-97ff1178e22e",
   "metadata": {},
   "source": [
    "## Two Pass\n",
    "\n",
    "### Solution (Claude)\n",
    "\n",
    "Complexity: $O(n)$ time, $O(1)$ space"
   ]
  },
  {
   "cell_type": "code",
   "execution_count": 3,
   "id": "f80fd41a-68bb-47fb-91c9-5d63d667c8d3",
   "metadata": {},
   "outputs": [],
   "source": [
    "class Solution:\n",
    "    def longestValidParentheses(self, s: str) -> int:\n",
    "        \"\"\"\n",
    "        Scan left-to-right, then right-to-left\n",
    "        \n",
    "        Key insight: Track open/close counts. When equal, we have valid substring.\n",
    "        Need two passes to handle cases like '(()'\n",
    "        \"\"\"\n",
    "        max_len = 0\n",
    "        \n",
    "        # Left to right\n",
    "        left = right = 0\n",
    "        for ch in s:\n",
    "            if ch == '(':\n",
    "                left += 1\n",
    "            else:\n",
    "                right += 1\n",
    "            \n",
    "            if left == right:\n",
    "                max_len = max(max_len, 2 * right)\n",
    "            elif right > left:\n",
    "                left = right = 0\n",
    "        \n",
    "        # Right to left (to catch cases like '(()')\n",
    "        left = right = 0\n",
    "        for ch in reversed(s):\n",
    "            if ch == '(':\n",
    "                left += 1\n",
    "            else:\n",
    "                right += 1\n",
    "            \n",
    "            if left == right:\n",
    "                max_len = max(max_len, 2 * left)\n",
    "            elif left > right:\n",
    "                left = right = 0\n",
    "        \n",
    "        return max_len\n"
   ]
  },
  {
   "cell_type": "markdown",
   "id": "a83e41d7-73aa-4c64-9603-c7119ede27bd",
   "metadata": {},
   "source": [
    "## Test cases"
   ]
  },
  {
   "cell_type": "code",
   "execution_count": 4,
   "id": "18f99bb7-78ed-42ec-a150-541c470d64ab",
   "metadata": {},
   "outputs": [],
   "source": [
    "sln = Solution()"
   ]
  },
  {
   "cell_type": "code",
   "execution_count": 5,
   "id": "93043cfe-6fd3-4fbb-9062-9d266748a770",
   "metadata": {},
   "outputs": [
    {
     "name": "stdout",
     "output_type": "stream",
     "text": [
      "Actual   :  2\n",
      "Expected :  2\n",
      "Elapsed time: 0.00 seconds\n",
      "--------------------------------------------------\n",
      "Actual   :  4\n",
      "Expected :  4\n",
      "Elapsed time: 0.00 seconds\n",
      "--------------------------------------------------\n",
      "Actual   :  0\n",
      "Expected :  0\n",
      "Elapsed time: 0.00 seconds\n",
      "--------------------------------------------------\n",
      "Actual   :  2\n",
      "Expected :  2\n",
      "Elapsed time: 0.00 seconds\n",
      "--------------------------------------------------\n",
      "Actual   :  6\n",
      "Expected :  6\n",
      "Elapsed time: 0.00 seconds\n",
      "--------------------------------------------------\n"
     ]
    }
   ],
   "source": [
    "import time\n",
    "\n",
    "scenarios = [\n",
    "    (\"(()\", 2),\n",
    "    (\")()())\", 4),\n",
    "    (\"\", 0),\n",
    "    (\"()(()\", 2),\n",
    "    (\"()(())\", 6),\n",
    "]\n",
    "\n",
    "for case in scenarios:\n",
    "    start_time = time.time()\n",
    "    actual = sln.longestValidParentheses(case[0])\n",
    "    end_time = time.time()\n",
    "    print('Actual   : ', actual)\n",
    "    print('Expected : ', case[1])\n",
    "    elapsed_time = end_time - start_time\n",
    "    print(f\"Elapsed time: {elapsed_time:.2f} seconds\")\n",
    "    assert actual == case[1], f\"Case {case[0]} failed. {actual} does not equal to {case[1]}\"\n",
    "    print('-' * 50)"
   ]
  },
  {
   "cell_type": "code",
   "execution_count": null,
   "id": "7b041bdd-300e-47c5-9cc2-350a249e3f1f",
   "metadata": {},
   "outputs": [],
   "source": []
  }
 ],
 "metadata": {
  "kernelspec": {
   "display_name": "Python 3 (ipykernel)",
   "language": "python",
   "name": "python3"
  },
  "language_info": {
   "codemirror_mode": {
    "name": "ipython",
    "version": 3
   },
   "file_extension": ".py",
   "mimetype": "text/x-python",
   "name": "python",
   "nbconvert_exporter": "python",
   "pygments_lexer": "ipython3",
   "version": "3.13.2"
  }
 },
 "nbformat": 4,
 "nbformat_minor": 5
}
