{
 "cells": [
  {
   "cell_type": "markdown",
   "id": "5a0490c4-73f0-4844-bf89-9701e92e9ce3",
   "metadata": {},
   "source": [
    "# Remove Element\n",
    "\n",
    "Difficulty: Easy\n",
    "\n",
    "Given an integer array nums and an integer val, remove all occurrences of val in nums in-place. The order of the elements may be changed. Then return the number of elements in nums which are not equal to val.\n",
    "\n",
    "Consider the number of elements in nums which are not equal to val be `k`, to get accepted, you need to do the following things:\n",
    "\n",
    "    Change the array nums such that the first k elements of nums contain the elements which are not equal to val. The remaining elements of nums are not important as well as the size of nums.\n",
    "    Return k.\n",
    "\n",
    "Custom Judge:\n",
    "\n",
    "The judge will test your solution with the following code:\n",
    "\n",
    "```java\n",
    "int[] nums = [...]; // Input array\n",
    "int val = ...; // Value to remove\n",
    "int[] expectedNums = [...]; // The expected answer with correct length.\n",
    "                            // It is sorted with no values equaling val.\n",
    "\n",
    "int k = removeElement(nums, val); // Calls your implementation\n",
    "\n",
    "assert k == expectedNums.length;\n",
    "sort(nums, 0, k); // Sort the first k elements of nums\n",
    "for (int i = 0; i < actualLength; i++) {\n",
    "    assert nums[i] == expectedNums[i];\n",
    "}\n",
    "```\n",
    "\n",
    "If all assertions pass, then your solution will be accepted.\n",
    "\n",
    "## Examples\n",
    "\n",
    "Example 1:\n",
    "\n",
    "    Input: nums = [3,2,2,3], val = 3\n",
    "    Output: 2, nums = [2,2,_,_]\n",
    "    Explanation: Your function should return k = 2, with the first two elements of nums being 2.\n",
    "    It does not matter what you leave beyond the returned k (hence they are underscores).\n",
    "\n",
    "Example 2:\n",
    "\n",
    "    Input: nums = [0,1,2,2,3,0,4,2], val = 2\n",
    "    Output: 5, nums = [0,1,4,0,3,_,_,_]\n",
    "    Explanation: Your function should return k = 5, with the first five elements of nums containing 0, 0, 1, 3, and 4.\n",
    "    Note that the five elements can be returned in any order.\n",
    "    It does not matter what you leave beyond the returned k (hence they are underscores).\n",
    "\n",
    "## Constraints\n",
    "\n",
    "- 0 <= nums.length <= 100\n",
    "- 0 <= nums[i] <= 50\n",
    "- 0 <= val <= 100\n",
    "\n",
    "\n",
    "<div class=\"tag-container\">\n",
    "    <div class=\"tag blue\">Array</div>\n",
    "    <div class=\"tag purple\">Two Pointer</div>\n",
    "</div>\n"
   ]
  },
  {
   "cell_type": "markdown",
   "id": "34b77e8e-21fc-4b84-b3b5-64645a12e7e1",
   "metadata": {},
   "source": [
    "## Loop and Copy\n",
    "\n",
    "### Solution 1\n",
    "\n",
    "Similar to Remove Duplicate Elements, but with minor tweaks.\n",
    "1. Post increment the pointer instead of pre increment.\n",
    "2. Return the pointer as is without an additional increment.\n",
    "\n",
    "Submission link: https://leetcode.com/problems/remove-element/submissions/1784952931/"
   ]
  },
  {
   "cell_type": "code",
   "execution_count": 1,
   "id": "b7112b6e-cd57-4e78-ab4e-05b7c2d0150f",
   "metadata": {},
   "outputs": [],
   "source": [
    "from typing import List\n",
    "\n",
    "class Solution:\n",
    "    def removeElement(self, nums: List[int], val: int) -> int:\n",
    "        left = 0\n",
    "        for i in range(len(nums)):\n",
    "            if nums[i] != val:\n",
    "                nums[left] = nums[i]\n",
    "                left += 1\n",
    "\n",
    "        return left"
   ]
  },
  {
   "cell_type": "markdown",
   "id": "2b2e2dde-e4f2-496f-b578-aa0452abcf4b",
   "metadata": {},
   "source": [
    "## Test cases"
   ]
  },
  {
   "cell_type": "code",
   "execution_count": 2,
   "id": "2cf40691-54ad-4d75-a399-f16af52b5ba4",
   "metadata": {},
   "outputs": [],
   "source": [
    "sln = Solution()"
   ]
  },
  {
   "cell_type": "code",
   "execution_count": 3,
   "id": "31d4b832-7569-4c77-aa8c-12c23e102c40",
   "metadata": {},
   "outputs": [],
   "source": [
    "def assert_first_k_array(original: List[int], expected: List[int]):\n",
    "    for index, elem in enumerate(expected):\n",
    "        assert original[index] == elem, f\"Expect {original[index]} to be {elem}\""
   ]
  },
  {
   "cell_type": "code",
   "execution_count": 4,
   "id": "4584e886-2150-429c-b94e-fcdf55621f0e",
   "metadata": {},
   "outputs": [
    {
     "name": "stdout",
     "output_type": "stream",
     "text": [
      "Actual   :  2\n",
      "Expected :  2\n",
      "--------------------------------------------------\n",
      "Actual   :  5\n",
      "Expected :  5\n",
      "--------------------------------------------------\n"
     ]
    }
   ],
   "source": [
    "scenarios = [\n",
    "    [[3,2,2,3], 3, [2,2], 2],\n",
    "    [[0,1,2,2,3,0,4,2], 2, [0,1,3,0,4], 5],\n",
    "]\n",
    "\n",
    "for case in scenarios:\n",
    "    actual = sln.removeElement(case[0], case[1])\n",
    "    print('Actual   : ', actual)\n",
    "    print('Expected : ', case[3])\n",
    "    print('-' * 50)\n",
    "    assert_first_k_array(case[0], case[2])\n",
    "    assert actual == case[3], f\"Case '{case[0]}' failed. {actual} does not equal to {case[3]}\""
   ]
  },
  {
   "cell_type": "code",
   "execution_count": null,
   "id": "34236d7f-a9dc-476e-9108-cfdaab8bbf5b",
   "metadata": {},
   "outputs": [],
   "source": []
  }
 ],
 "metadata": {
  "kernelspec": {
   "display_name": "Python 3 (ipykernel)",
   "language": "python",
   "name": "python3"
  },
  "language_info": {
   "codemirror_mode": {
    "name": "ipython",
    "version": 3
   },
   "file_extension": ".py",
   "mimetype": "text/x-python",
   "name": "python",
   "nbconvert_exporter": "python",
   "pygments_lexer": "ipython3",
   "version": "3.13.2"
  }
 },
 "nbformat": 4,
 "nbformat_minor": 5
}
