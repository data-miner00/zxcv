{
 "cells": [
  {
   "cell_type": "markdown",
   "id": "54eec786-6b0c-44a1-abbd-22fbf437e605",
   "metadata": {},
   "source": [
    "# 39. Combination Sum\n",
    "\n",
    "Difficulty: Medium\n",
    "\n",
    "Given an array of distinct integers candidates and a target integer target, return a list of all unique combinations of candidates where the chosen numbers sum to target. You may return the combinations in any order.\n",
    "\n",
    "The same number may be chosen from candidates an unlimited number of times. Two combinations are unique if the\n",
    "\n",
    "of at least one of the chosen numbers is different.\n",
    "\n",
    "The test cases are generated such that the number of unique combinations that sum up to target is less than 150 combinations for the given input.\n",
    "\n",
    "## Examples\n",
    "\n",
    "Example 1:\n",
    "\n",
    "    Input: candidates = [2,3,6,7], target = 7\n",
    "    Output: [[2,2,3],[7]]\n",
    "    Explanation:\n",
    "    2 and 3 are candidates, and 2 + 2 + 3 = 7. Note that 2 can be used multiple times.\n",
    "    7 is a candidate, and 7 = 7.\n",
    "    These are the only two combinations.\n",
    "\n",
    "Example 2:\n",
    "\n",
    "    Input: candidates = [2,3,5], target = 8\n",
    "    Output: [[2,2,2,2],[2,3,3],[3,5]]\n",
    "\n",
    "Example 3:\n",
    "\n",
    "    Input: candidates = [2], target = 1\n",
    "    Output: []\n",
    "\n",
    "\n",
    "## Constraints\n",
    "\n",
    "- 1 <= candidates.length <= 30\n",
    "- 2 <= candidates[i] <= 40\n",
    "- All elements of candidates are distinct.\n",
    "- 1 <= target <= 40\n",
    "\n",
    "\n",
    "<div class=\"tag-container\">\n",
    "    <div class=\"tag blue\">Array</div>\n",
    "    <div class=\"tag red\">Backtracking</div>\n",
    "</div>"
   ]
  },
  {
   "cell_type": "markdown",
   "id": "a18393bc-1be4-46cf-aeb3-cbf5139fb2a7",
   "metadata": {},
   "source": [
    "## Backtracking\n",
    "\n",
    "### Solution 1 (Claude)\n",
    "\n",
    "Submission link: https://leetcode.com/problems/combination-sum/submissions/1800167432/"
   ]
  },
  {
   "cell_type": "code",
   "execution_count": 1,
   "id": "59ead568-a9fc-413c-a664-36b9432919cd",
   "metadata": {},
   "outputs": [],
   "source": [
    "from typing import List\n",
    "\n",
    "class Solution:\n",
    "    def combinationSum(self, candidates: List[int], target: int) -> List[List[int]]:\n",
    "        \"\"\"\n",
    "        Find all unique combinations where numbers sum to target.\n",
    "        \n",
    "        Args:\n",
    "            candidates: List of distinct integers\n",
    "            target: Target sum\n",
    "            \n",
    "        Returns:\n",
    "            List of all unique combinations that sum to target\n",
    "        \"\"\"\n",
    "        result = []\n",
    "        \n",
    "        def backtrack(combination, remaining_sum, start):\n",
    "            # Base case: found a valid combination\n",
    "            if remaining_sum == 0:\n",
    "                result.append(combination[:])  # Add a copy\n",
    "                return\n",
    "            \n",
    "            # Base case: sum exceeded target\n",
    "            if remaining_sum < 0:\n",
    "                return\n",
    "            \n",
    "            # Try each candidate starting from 'start' index\n",
    "            for i in range(start, len(candidates)):\n",
    "                num = candidates[i]\n",
    "                \n",
    "                # Choose: add current number to combination\n",
    "                combination.append(num)\n",
    "                \n",
    "                # Explore: recurse with reduced sum\n",
    "                # Use same index 'i' since we can reuse numbers\n",
    "                backtrack(combination, remaining_sum - num, i)\n",
    "                \n",
    "                # Unchoose: backtrack\n",
    "                combination.pop()\n",
    "        \n",
    "        backtrack([], target, 0)\n",
    "        return result\n",
    "            "
   ]
  },
  {
   "cell_type": "markdown",
   "id": "0c10aafd-9191-4585-9d1f-a0dcb6f2f380",
   "metadata": {},
   "source": [
    "## Test Cases"
   ]
  },
  {
   "cell_type": "code",
   "execution_count": 2,
   "id": "0660b36b-4ca1-4525-9a3d-f64819a17915",
   "metadata": {},
   "outputs": [],
   "source": [
    "sln = Solution()"
   ]
  },
  {
   "cell_type": "code",
   "execution_count": 3,
   "id": "da0add03-dc01-486e-be7a-ce057c38fd81",
   "metadata": {},
   "outputs": [
    {
     "name": "stdout",
     "output_type": "stream",
     "text": [
      "Actual   :  [[2, 2, 3], [7]]\n",
      "Expected :  [[2, 2, 3], [7]]\n",
      "Elapsed time: 0.00 seconds\n",
      "--------------------------------------------------\n",
      "Actual   :  [[2, 2, 2, 2], [2, 3, 3], [3, 5]]\n",
      "Expected :  [[2, 2, 2, 2], [2, 3, 3], [3, 5]]\n",
      "Elapsed time: 0.00 seconds\n",
      "--------------------------------------------------\n",
      "Actual   :  []\n",
      "Expected :  []\n",
      "Elapsed time: 0.00 seconds\n",
      "--------------------------------------------------\n"
     ]
    }
   ],
   "source": [
    "import time\n",
    "\n",
    "scenarios = [\n",
    "    ([2,3,6,7], 7, [[2,2,3],[7]]),\n",
    "    ([2,3,5], 8, [[2,2,2,2],[2,3,3],[3,5]]),\n",
    "    ([2], 1, [])\n",
    "]\n",
    "\n",
    "for case in scenarios:\n",
    "    start_time = time.time()\n",
    "    actual = sln.combinationSum(case[0], case[1])\n",
    "    end_time = time.time()\n",
    "    print('Actual   : ', actual)\n",
    "    print('Expected : ', case[2])\n",
    "    elapsed_time = end_time - start_time\n",
    "    print(f\"Elapsed time: {elapsed_time:.2f} seconds\")\n",
    "    assert actual == case[2], f\"Case {case[0]} failed. {actual} does not equal to {case[2]}\"\n",
    "    print('-' * 50)"
   ]
  },
  {
   "cell_type": "code",
   "execution_count": null,
   "id": "13c33c62-4eb0-4993-bc12-0928044156a7",
   "metadata": {},
   "outputs": [],
   "source": []
  }
 ],
 "metadata": {
  "kernelspec": {
   "display_name": "Python 3 (ipykernel)",
   "language": "python",
   "name": "python3"
  },
  "language_info": {
   "codemirror_mode": {
    "name": "ipython",
    "version": 3
   },
   "file_extension": ".py",
   "mimetype": "text/x-python",
   "name": "python",
   "nbconvert_exporter": "python",
   "pygments_lexer": "ipython3",
   "version": "3.13.2"
  }
 },
 "nbformat": 4,
 "nbformat_minor": 5
}
