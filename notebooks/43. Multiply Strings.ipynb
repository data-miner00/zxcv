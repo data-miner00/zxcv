{
 "cells": [
  {
   "cell_type": "markdown",
   "id": "1cd1a093-403d-47b1-b42f-973a67598e72",
   "metadata": {},
   "source": [
    "# 43. Multiply Strings\n",
    "\n",
    "Difficulty: Medium\n",
    "\n",
    "Given two non-negative integers num1 and num2 represented as strings, return the product of num1 and num2, also represented as a string.\n",
    "\n",
    "Note: You must not use any built-in BigInteger library or convert the inputs to integer directly.\n",
    "\n",
    "## Examples \n",
    "\n",
    "Example 1:\n",
    "\n",
    "    Input: num1 = \"2\", num2 = \"3\"\n",
    "    Output: \"6\"\n",
    "\n",
    "Example 2:\n",
    "\n",
    "    Input: num1 = \"123\", num2 = \"456\"\n",
    "    Output: \"56088\"\n",
    "\n",
    "## Constraints\n",
    "\n",
    "- 1 <= num1.length, num2.length <= 200\n",
    "- `num1` and `num2` consist of digits only.\n",
    "- Both `num1` and `num2` do not contain any leading zero, except the number 0 itself.\n",
    "\n",
    "<div class=\"tag-container\">\n",
    "    <div class=\"tag blue\">Math</div>\n",
    "    <div class=\"tag red\">String</div>\n",
    "    <div class=\"tag green\">Simulation</div>\n",
    "</div>\n"
   ]
  },
  {
   "cell_type": "markdown",
   "id": "3691bd81-90c4-4fe3-8eec-2faeb8f1877c",
   "metadata": {},
   "source": [
    "## Cheating\n",
    "\n",
    "### Solution 1\n",
    "\n",
    "Use the built in `int` and `str` conversion with `*` operator to get the answer directly."
   ]
  },
  {
   "cell_type": "code",
   "execution_count": 1,
   "id": "b3ffbc12-6aba-45d3-9c0d-a6ea9ab79b88",
   "metadata": {},
   "outputs": [],
   "source": [
    "class Solution:\n",
    "    def multiply(self, num1: str, num2: str) -> str:\n",
    "        return str(int(num1) * int(num2))"
   ]
  },
  {
   "cell_type": "markdown",
   "id": "cf5b25e6-793d-486d-a147-7f139fed9692",
   "metadata": {},
   "source": [
    "\n",
    "### Solution 2\n",
    "\n",
    "1. Convert `num1` and `num2` individually to int\n",
    "2. Make the multiplication with `*`\n",
    "3. Convert it back to the string\n",
    "\n",
    "I didn't use `str` or `int` conversion here.\n",
    "\n",
    "Submission link: https://leetcode.com/problems/multiply-strings/submissions/1813235971/\n",
    "\n",
    "Time complexity: $O(n)$"
   ]
  },
  {
   "cell_type": "code",
   "execution_count": 2,
   "id": "59f9357e-c194-498a-8ac0-58e50a7d8cd1",
   "metadata": {},
   "outputs": [],
   "source": [
    "class Solution:\n",
    "    def multiply(self, num1: str, num2: str) -> str:\n",
    "        num1_i = 0\n",
    "        num2_i = 0\n",
    "        for index, num in enumerate(num1[::-1]):\n",
    "            num1_i += (ord(num) - ord('0')) * 10 ** index\n",
    "        for index, num in enumerate(num2[::-1]):\n",
    "            num2_i += (ord(num) - ord('0')) * 10 ** index\n",
    "        ans = num1_i * num2_i\n",
    "        ans_str = ''\n",
    "        multiplier = 10\n",
    "        while ans > 0:\n",
    "            ans_str = chr((ans % multiplier) + ord('0')) + ans_str\n",
    "            ans //= multiplier\n",
    "\n",
    "        return ans_str if ans_str else \"0\""
   ]
  },
  {
   "cell_type": "markdown",
   "id": "e69a46a8-d747-41b6-bd11-a6c93666fbb0",
   "metadata": {},
   "source": [
    "## Simulation\n",
    "\n",
    "Simulate the calculation when doing by hand.\n",
    "\n",
    "### Solution 1 (Claude)\n",
    "\n",
    "Submission link: https://leetcode.com/problems/multiply-strings/submissions/1813241076/\n",
    "\n",
    "Time complexity: $O(n^2)$"
   ]
  },
  {
   "cell_type": "code",
   "execution_count": 3,
   "id": "007d48d4-f3db-438a-bc9a-51e9a2405e24",
   "metadata": {},
   "outputs": [],
   "source": [
    "class Solution:\n",
    "    def multiply(self, num1: str, num2: str) -> str:\n",
    "        # Edge case\n",
    "        if num1 == \"0\" or num2 == \"0\":\n",
    "            return \"0\"\n",
    "        \n",
    "        m, n = len(num1), len(num2)\n",
    "        # The result will have at most m + n digits\n",
    "        result = [0] * (m + n)\n",
    "        \n",
    "        # Multiply each digit of num1 with each digit of num2\n",
    "        for i in range(m - 1, -1, -1):\n",
    "            for j in range(n - 1, -1, -1):\n",
    "                # Get the digit values\n",
    "                digit1 = ord(num1[i]) - ord('0')\n",
    "                digit2 = ord(num2[j]) - ord('0')\n",
    "                \n",
    "                # Multiply and add to the correct position\n",
    "                mul = digit1 * digit2\n",
    "                pos1 = i + j      # Position for carry\n",
    "                pos2 = i + j + 1  # Position for current digit\n",
    "                \n",
    "                # Add to existing value at pos2\n",
    "                sum_val = mul + result[pos2]\n",
    "                \n",
    "                # Update positions with carry\n",
    "                result[pos2] = sum_val % 10\n",
    "                result[pos1] += sum_val // 10\n",
    "        \n",
    "        # Convert result array to string, skipping leading zeros\n",
    "        result_str = ''.join(map(str, result))\n",
    "        return result_str.lstrip('0') or '0'"
   ]
  },
  {
   "cell_type": "markdown",
   "id": "2c5ef65a-1948-4ee9-a6b7-1cad6089ab50",
   "metadata": {},
   "source": [
    "## Test case"
   ]
  },
  {
   "cell_type": "code",
   "execution_count": 4,
   "id": "6b7cdb39-ae22-4bcd-8d60-a6799c215d4c",
   "metadata": {},
   "outputs": [],
   "source": [
    "sln = Solution()"
   ]
  },
  {
   "cell_type": "code",
   "execution_count": 5,
   "id": "b9ead051-5088-40a3-9191-9ab2c74b692d",
   "metadata": {},
   "outputs": [
    {
     "name": "stdout",
     "output_type": "stream",
     "text": [
      "Actual   :  0\n",
      "Expected :  0\n",
      "Elapsed time: 0.00 seconds\n",
      "--------------------------------------------------\n",
      "Actual   :  6\n",
      "Expected :  6\n",
      "Elapsed time: 0.00 seconds\n",
      "--------------------------------------------------\n",
      "Actual   :  56088\n",
      "Expected :  56088\n",
      "Elapsed time: 0.00 seconds\n",
      "--------------------------------------------------\n"
     ]
    }
   ],
   "source": [
    "import time\n",
    "\n",
    "scenarios = [\n",
    "    (\"0\", \"0\", \"0\"),\n",
    "    (\"2\", \"3\", \"6\"),\n",
    "    (\"123\", \"456\", \"56088\"),\n",
    "]\n",
    "\n",
    "for case in scenarios:\n",
    "    start_time = time.time()\n",
    "    actual = sln.multiply(case[0], case[1])\n",
    "    end_time = time.time()\n",
    "    print('Actual   : ', actual)\n",
    "    print('Expected : ', case[2])\n",
    "    elapsed_time = end_time - start_time\n",
    "    print(f\"Elapsed time: {elapsed_time:.2f} seconds\")\n",
    "    assert actual == case[2], f\"Case {case[0]} {case[1]} failed. {actual} does not equal to {case[2]}\"\n",
    "    print('-' * 50)"
   ]
  },
  {
   "cell_type": "code",
   "execution_count": null,
   "id": "3b9109ee-2f75-4882-89b7-0e8e036cb61b",
   "metadata": {},
   "outputs": [],
   "source": []
  }
 ],
 "metadata": {
  "kernelspec": {
   "display_name": "Python 3 (ipykernel)",
   "language": "python",
   "name": "python3"
  },
  "language_info": {
   "codemirror_mode": {
    "name": "ipython",
    "version": 3
   },
   "file_extension": ".py",
   "mimetype": "text/x-python",
   "name": "python",
   "nbconvert_exporter": "python",
   "pygments_lexer": "ipython3",
   "version": "3.13.2"
  }
 },
 "nbformat": 4,
 "nbformat_minor": 5
}
