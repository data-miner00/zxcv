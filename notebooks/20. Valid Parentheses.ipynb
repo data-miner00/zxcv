{
 "cells": [
  {
   "cell_type": "markdown",
   "id": "dbef553b-af52-4f7a-b3b7-b7975b2e9456",
   "metadata": {},
   "source": [
    "# Valid Parentheses\n",
    "\n",
    "Difficulty: Easy\n",
    "\n",
    "Given a string s containing just the characters '(', ')', '{', '}', '[' and ']', determine if the input string is valid.\n",
    "\n",
    "An input string is valid if:\n",
    "\n",
    "- Open brackets must be closed by the same type of brackets.\n",
    "- Open brackets must be closed in the correct order.\n",
    "- Every close bracket has a corresponding open bracket of the same type.\n",
    "\n",
    "## Examples\n",
    "\n",
    "Example 1:\n",
    "\n",
    "Input: s = \"()\"\n",
    "\n",
    "Output: true\n",
    "\n",
    "Example 2:\n",
    "\n",
    "Input: s = \"()[]{}\"\n",
    "\n",
    "Output: true\n",
    "\n",
    "Example 3:\n",
    "\n",
    "Input: s = \"(]\"\n",
    "\n",
    "Output: false\n",
    "\n",
    "Example 4:\n",
    "\n",
    "Input: s = \"([])\"\n",
    "\n",
    "Output: true\n",
    "\n",
    "## Constraints\n",
    "\n",
    "- 1 <= s.length <= 104\n",
    "- s consists of parentheses only '()[]{}'.\n",
    "\n",
    "<div class=\"tag-container\">\n",
    "    <div class=\"tag blue\">string</div>\n",
    "    <div class=\"tag green\">stack</div>\n",
    "</div>\n"
   ]
  },
  {
   "cell_type": "markdown",
   "id": "fb31b88a-29f8-4019-80ac-67b5e4618ade",
   "metadata": {},
   "source": [
    "## Brute Force\n",
    "\n",
    "### Solution 1\n",
    "\n",
    "1. Create a stack\n",
    "2. If it is an opening parentheses, push to the stack\n",
    "3. If it is an closing parentheses, try to match its opening parentheses and pop it.\n",
    "4. Return the result of the stack to see if it is empty\n",
    "\n",
    "Time complexity: $O(n)$\n",
    "\n",
    "Submission link: https://leetcode.com/problems/valid-parentheses/submissions/1496348365/"
   ]
  },
  {
   "cell_type": "code",
   "execution_count": 1,
   "id": "f09d0c89-0ba0-4f0f-b00e-c7e5283262dc",
   "metadata": {},
   "outputs": [],
   "source": [
    "class Solution:\n",
    "    def isValid(self, s: str) -> bool:\n",
    "        stack = [s[0]]\n",
    "        for paren in s[1:]:\n",
    "            if len(stack) > 0 and (ord(paren) == ord(stack[-1]) + 1 or ord(paren) == ord(stack[-1]) + 2): # explain this\n",
    "                stack.pop()\n",
    "            else:\n",
    "                stack.append(paren)\n",
    "        \n",
    "        return len(stack) == 0"
   ]
  },
  {
   "cell_type": "markdown",
   "id": "4d243b7f-63d1-490c-b8f1-8164082ba261",
   "metadata": {},
   "source": [
    "## Test Cases"
   ]
  },
  {
   "cell_type": "code",
   "execution_count": 2,
   "id": "43b0ee84-7cbb-4989-b286-f10ba67b61fc",
   "metadata": {},
   "outputs": [],
   "source": [
    "sln = Solution()"
   ]
  },
  {
   "cell_type": "code",
   "execution_count": 3,
   "id": "31499965-d39e-4ab3-a658-3135c977a4fb",
   "metadata": {},
   "outputs": [],
   "source": [
    "paren = \"()\"\n",
    "expected = True\n",
    "\n",
    "actual = sln.isValid(paren)\n",
    "assert actual"
   ]
  },
  {
   "cell_type": "code",
   "execution_count": 4,
   "id": "e9e7cff6-b76e-492e-8475-8d841c1fb7ad",
   "metadata": {},
   "outputs": [],
   "source": [
    "paren = \"()[]{}\"\n",
    "expected = True\n",
    "\n",
    "actual = sln.isValid(paren)\n",
    "assert actual"
   ]
  },
  {
   "cell_type": "code",
   "execution_count": 5,
   "id": "a6d2fb6b-81f1-4f61-a6f2-119d40d5c80e",
   "metadata": {},
   "outputs": [],
   "source": [
    "paren = \"(]\"\n",
    "expected = True\n",
    "\n",
    "actual = sln.isValid(paren)\n",
    "assert not actual"
   ]
  },
  {
   "cell_type": "code",
   "execution_count": 6,
   "id": "1e64717e-2d76-4810-847d-e67cafe37f3e",
   "metadata": {},
   "outputs": [],
   "source": [
    "paren = \"([])\"\n",
    "expected = True\n",
    "\n",
    "actual = sln.isValid(paren)\n",
    "assert actual"
   ]
  },
  {
   "cell_type": "code",
   "execution_count": 7,
   "id": "1d9f55ba-b3b0-413b-98f6-d475c9233805",
   "metadata": {},
   "outputs": [],
   "source": [
    "paren = \"([({[]})])(())\"\n",
    "expected = True\n",
    "\n",
    "actual = sln.isValid(paren)\n",
    "assert actual"
   ]
  },
  {
   "cell_type": "code",
   "execution_count": null,
   "id": "5de111ba-b765-4b22-8e1e-380c2c510f01",
   "metadata": {},
   "outputs": [],
   "source": []
  }
 ],
 "metadata": {
  "kernelspec": {
   "display_name": "Python 3 (ipykernel)",
   "language": "python",
   "name": "python3"
  },
  "language_info": {
   "codemirror_mode": {
    "name": "ipython",
    "version": 3
   },
   "file_extension": ".py",
   "mimetype": "text/x-python",
   "name": "python",
   "nbconvert_exporter": "python",
   "pygments_lexer": "ipython3",
   "version": "3.13.2"
  }
 },
 "nbformat": 4,
 "nbformat_minor": 5
}
