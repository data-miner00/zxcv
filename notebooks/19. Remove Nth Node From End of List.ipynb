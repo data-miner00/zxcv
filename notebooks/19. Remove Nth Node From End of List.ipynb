{
 "cells": [
  {
   "cell_type": "markdown",
   "id": "5770ca91-5820-4004-a5ca-a4af18473d9b",
   "metadata": {},
   "source": [
    "# Remove Nth Node From End of List\n",
    "\n",
    "Difficulty: Medium\n",
    "\n",
    "Given the head of a linked list, remove the nth node from the end of the list and return its head.\n",
    "\n",
    " \n",
    "## Examples\n",
    "\n",
    "Example 1:\n",
    "\n",
    "    Input: head = [1,2,3,4,5], n = 2\n",
    "    Output: [1,2,3,5]\n",
    "\n",
    "Example 2:\n",
    "\n",
    "    Input: head = [1], n = 1\n",
    "    Output: []\n",
    "\n",
    "Example 3:\n",
    "\n",
    "    Input: head = [1,2], n = 1\n",
    "    Output: [1]\n",
    "\n",
    "\n",
    "## Constraints\n",
    "\n",
    "- The number of nodes in the list is sz.\n",
    "- 1 <= sz <= 30\n",
    "- 0 <= Node.val <= 100\n",
    "- 1 <= n <= sz\n",
    "\n",
    "\n",
    "Follow up: Could you do this in one pass?\n",
    "\n",
    "<div class=\"tag-container\">\n",
    "    <div class=\"tag yellow\">Linked list</div>\n",
    "    <div class=\"tag green\">Two Pointers</div>\n",
    "</div>\n",
    "\n"
   ]
  },
  {
   "cell_type": "markdown",
   "id": "3dff3411-53f4-4182-97ea-3be12725e26a",
   "metadata": {},
   "source": [
    "## Two-pass\n",
    "\n",
    "### Solution 1\n",
    "\n",
    "1. Have an initial scan to detect the length of the list\n",
    "2. Have second iteration to remove the targeted node\n",
    "\n",
    "Time complexity: $O(n)$\n",
    "\n",
    "Submission link: https://leetcode.com/problems/remove-nth-node-from-end-of-list/submissions/1505578341/"
   ]
  },
  {
   "cell_type": "code",
   "execution_count": 1,
   "id": "a3fe2229-1a10-457f-9bcd-73732d0d24fb",
   "metadata": {},
   "outputs": [],
   "source": [
    "from typing import Optional, List\n",
    "\n",
    "class ListNode:\n",
    "    def __init__(self, val=0, next=None):\n",
    "        self.val = val\n",
    "        self.next = next"
   ]
  },
  {
   "cell_type": "code",
   "execution_count": 2,
   "id": "7aa5604e-ed76-419b-b8a6-230581124570",
   "metadata": {},
   "outputs": [],
   "source": [
    "class Solution:\n",
    "    def removeNthFromEnd(self, head: Optional[ListNode], n: int) -> Optional[ListNode]:\n",
    "        if not head: return head\n",
    "\n",
    "        counter = 1\n",
    "        node = head\n",
    "        while node.next:\n",
    "            counter += 1\n",
    "            node = node.next\n",
    "        \n",
    "        target = counter - n\n",
    "\n",
    "        if target == 0:\n",
    "            head = head.next\n",
    "\n",
    "        node = head\n",
    "        for i in range(target):\n",
    "            if i == target -1:\n",
    "                node.next = node.next.next\n",
    "            else:\n",
    "                node = node.next\n",
    "\n",
    "        return head"
   ]
  },
  {
   "cell_type": "markdown",
   "id": "529c26bc-ce0a-479a-969b-d088bda4b7a3",
   "metadata": {},
   "source": [
    "## Test cases"
   ]
  },
  {
   "cell_type": "code",
   "execution_count": 3,
   "id": "9c1490d0-2d81-4e85-8d8e-5d330a3fb51a",
   "metadata": {},
   "outputs": [],
   "source": [
    "sln = Solution()"
   ]
  },
  {
   "cell_type": "code",
   "execution_count": 4,
   "id": "934d1a06-d47f-48e0-a042-e3f7b7a568e8",
   "metadata": {},
   "outputs": [],
   "source": [
    "def makeList(nums: List[int]) -> Optional[ListNode]:\n",
    "    if not nums: return None\n",
    "    head = None\n",
    "    pointer = None\n",
    "    \n",
    "    for i in nums:\n",
    "        current = ListNode(i)\n",
    "        if not head:\n",
    "            head = current\n",
    "            pointer = current\n",
    "        else:\n",
    "            pointer.next = current\n",
    "            pointer = pointer.next\n",
    "\n",
    "    return head"
   ]
  },
  {
   "cell_type": "code",
   "execution_count": 5,
   "id": "d3a940b2-8aac-46d8-b769-0af7accab86b",
   "metadata": {},
   "outputs": [],
   "source": [
    "def collectToList(nums: Optional[ListNode]) -> List[int]:\n",
    "    if not nums: return []\n",
    "    \n",
    "    node = nums\n",
    "    res = [node.val]\n",
    "    while node.next:\n",
    "        node = node.next\n",
    "        res.append(node.val)\n",
    "\n",
    "    return res"
   ]
  },
  {
   "cell_type": "code",
   "execution_count": 6,
   "id": "33787b3b-39d9-4e22-8c3f-720951ff5a2f",
   "metadata": {},
   "outputs": [
    {
     "name": "stdout",
     "output_type": "stream",
     "text": [
      "Actual   :  [1, 2, 3, 5]\n",
      "Expected :  [1, 2, 3, 5]\n",
      "--------------------------------------------------\n",
      "Actual   :  []\n",
      "Expected :  []\n",
      "--------------------------------------------------\n",
      "Actual   :  [1]\n",
      "Expected :  [1]\n",
      "--------------------------------------------------\n"
     ]
    }
   ],
   "source": [
    "scenarios = [\n",
    "    [makeList([1,2,3,4,5]), 2, [1,2,3,5]],\n",
    "    [makeList([1]), 1, []],\n",
    "    [makeList([1,2]), 1, [1]],\n",
    "]\n",
    "\n",
    "for case in scenarios:\n",
    "    actual = collectToList(sln.removeNthFromEnd(case[0], case[1]))\n",
    "    print('Actual   : ', actual)\n",
    "    print('Expected : ', case[2])\n",
    "    print('-' * 50)\n",
    "    assert actual == case[2], f\"Case '{case[0]}' failed. {actual} does not equal to {case[2]}\""
   ]
  },
  {
   "cell_type": "code",
   "execution_count": null,
   "id": "d35f7cdf-091c-4d0d-8361-5e74f81a2aed",
   "metadata": {},
   "outputs": [],
   "source": []
  }
 ],
 "metadata": {
  "kernelspec": {
   "display_name": "Python 3 (ipykernel)",
   "language": "python",
   "name": "python3"
  },
  "language_info": {
   "codemirror_mode": {
    "name": "ipython",
    "version": 3
   },
   "file_extension": ".py",
   "mimetype": "text/x-python",
   "name": "python",
   "nbconvert_exporter": "python",
   "pygments_lexer": "ipython3",
   "version": "3.13.2"
  }
 },
 "nbformat": 4,
 "nbformat_minor": 5
}
