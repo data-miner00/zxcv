{
 "cells": [
  {
   "cell_type": "markdown",
   "id": "9a8fa07f-14d2-4b33-afbe-fc20113e9dc4",
   "metadata": {},
   "source": [
    "# 35. Search Insert Position\n",
    "\n",
    "Difficulty: Easy\n",
    "\n",
    "Given a sorted array of distinct integers and a target value, return the index if the target is found. If not, return the index where it would be if it were inserted in order.\n",
    "\n",
    "You must write an algorithm with $O(log(n))$ runtime complexity.\n",
    "\n",
    "## Examples\n",
    "\n",
    "Example 1:\n",
    "\n",
    "    Input: nums = [1,3,5,6], target = 5\n",
    "    Output: 2\n",
    "\n",
    "Example 2:\n",
    "\n",
    "    Input: nums = [1,3,5,6], target = 2\n",
    "    Output: 1\n",
    "\n",
    "Example 3:\n",
    "\n",
    "    Input: nums = [1,3,5,6], target = 7\n",
    "    Output: 4\n",
    "\n",
    "## Constraints\n",
    "\n",
    "- 1 <= nums.length <= 104\n",
    "- -104 <= nums[i] <= 104\n",
    "- nums contains distinct values sorted in ascending order.\n",
    "- -104 <= target <= 104\n",
    "\n",
    "<div class=\"tag-container\">\n",
    "    <div class=\"tag yellow\">Array</div>\n",
    "    <div class=\"tag blue\">Binary Search</div>\n",
    "</div>"
   ]
  },
  {
   "cell_type": "markdown",
   "id": "99a1f66c-abfb-4347-8f09-1d92fe35e229",
   "metadata": {},
   "source": [
    "## Binary Search\n",
    "\n",
    "### Solution 1\n",
    "\n",
    "Normal binary search, if cannot found, the left should have the inserting index.\n",
    "\n",
    "Submission link: https://leetcode.com/problems/search-insert-position/submissions/1792687458/"
   ]
  },
  {
   "cell_type": "code",
   "execution_count": 1,
   "id": "7cace26e-782f-45b5-bd57-a0fabcdae3aa",
   "metadata": {},
   "outputs": [],
   "source": [
    "from typing import List\n",
    "\n",
    "class Solution:\n",
    "    def searchInsert(self, nums: List[int], target: int) -> int:\n",
    "        left, right = 0, len(nums) - 1\n",
    "\n",
    "        while left <= right:\n",
    "            mid = (left + right) // 2\n",
    "            current = nums[mid]\n",
    "\n",
    "            if current == target:\n",
    "                return mid\n",
    "\n",
    "            if current < target:\n",
    "                left = mid + 1\n",
    "            else:\n",
    "                right = mid - 1\n",
    "\n",
    "        return left"
   ]
  },
  {
   "cell_type": "markdown",
   "id": "b23ee53f-be63-4c10-b470-b23107e3186b",
   "metadata": {},
   "source": [
    "## Test cases"
   ]
  },
  {
   "cell_type": "code",
   "execution_count": 2,
   "id": "b5e074c6-cd1a-4f17-9c1b-31705e9022c8",
   "metadata": {},
   "outputs": [],
   "source": [
    "sln = Solution()"
   ]
  },
  {
   "cell_type": "code",
   "execution_count": 3,
   "id": "2da0c16c-4e8a-4a59-94df-b835f85e2952",
   "metadata": {},
   "outputs": [
    {
     "name": "stdout",
     "output_type": "stream",
     "text": [
      "Actual   :  2\n",
      "Expected :  2\n",
      "Elapsed time: 0.00 seconds\n",
      "--------------------------------------------------\n",
      "Actual   :  1\n",
      "Expected :  1\n",
      "Elapsed time: 0.00 seconds\n",
      "--------------------------------------------------\n",
      "Actual   :  4\n",
      "Expected :  4\n",
      "Elapsed time: 0.00 seconds\n",
      "--------------------------------------------------\n",
      "Actual   :  0\n",
      "Expected :  0\n",
      "Elapsed time: 0.00 seconds\n",
      "--------------------------------------------------\n"
     ]
    }
   ],
   "source": [
    "import time\n",
    "\n",
    "scenarios = [\n",
    "    ([1,3,5,6], 5, 2),\n",
    "    ([1,3,5,6], 2, 1),\n",
    "    ([1,3,5,6], 7, 4),\n",
    "    ([1,3,5,6], 0, 0),\n",
    "]\n",
    "\n",
    "for case in scenarios:\n",
    "    start_time = time.time()\n",
    "    actual = sln.searchInsert(case[0], case[1])\n",
    "    end_time = time.time()\n",
    "    print('Actual   : ', actual)\n",
    "    print('Expected : ', case[2])\n",
    "    elapsed_time = end_time - start_time\n",
    "    print(f\"Elapsed time: {elapsed_time:.2f} seconds\")\n",
    "    assert actual == case[2], f\"Case {case[0]} failed. {actual} does not equal to {case[2]}\"\n",
    "    print('-' * 50)"
   ]
  },
  {
   "cell_type": "code",
   "execution_count": null,
   "id": "c172fbd6-9745-4fd7-880c-92ebad2510fd",
   "metadata": {},
   "outputs": [],
   "source": []
  }
 ],
 "metadata": {
  "kernelspec": {
   "display_name": "Python 3 (ipykernel)",
   "language": "python",
   "name": "python3"
  },
  "language_info": {
   "codemirror_mode": {
    "name": "ipython",
    "version": 3
   },
   "file_extension": ".py",
   "mimetype": "text/x-python",
   "name": "python",
   "nbconvert_exporter": "python",
   "pygments_lexer": "ipython3",
   "version": "3.13.2"
  }
 },
 "nbformat": 4,
 "nbformat_minor": 5
}
