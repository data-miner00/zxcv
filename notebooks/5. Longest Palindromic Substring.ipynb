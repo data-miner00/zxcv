{
 "cells": [
  {
   "cell_type": "markdown",
   "id": "558f67af-5648-449d-b4a6-e18acf64655b",
   "metadata": {},
   "source": [
    "# Longest Palindromic Substring\n",
    "\n",
    "Given a string `s`, return the longest palindromic substring in `s`.\n",
    "\n",
    "## Examples\n",
    "\n",
    "Example 1:\n",
    "\n",
    "Input: s = \"babad\"\n",
    "Output: \"bab\"\n",
    "Explanation: \"aba\" is also a valid answer.\n",
    "\n",
    "Example 2:\n",
    "\n",
    "Input: s = \"cbbd\"\n",
    "Output: \"bb\"\n",
    "\n",
    "## Constraints\n",
    "\n",
    "- 1 <= s.length <= 1000\n",
    "- `s` consist of only digits and English letters.\n"
   ]
  },
  {
   "cell_type": "markdown",
   "id": "c072a0f3-13a1-437a-9caf-77b6ed2cf6c2",
   "metadata": {},
   "source": [
    "## Brute Force\n",
    "\n",
    "### Solution 1\n",
    "\n",
    "Loop through the string with nested loops to generate possible substrings. Then, if the substring is a palindrome and longer length than the `current` one, assign to it.\n",
    "\n",
    "Illustrations: `s` is `babad`\n",
    "\n",
    "length = 5\n",
    "\n",
    "| First Loop | Inner Loop | Substring | IsPalindrome | `current` |\n",
    "| --- | --- | --- | --- | --- |\n",
    "| 0 | 0 | `\"\"` | `True` | `\"\"` |\n",
    "|   | 1 | `\"b\"` | `True` | `\"b\"` |\n",
    "|   | 2 | `\"ba\"` | `False` | `\"b\"` |\n",
    "|   | 3 | `\"bab\"` | `True` | `\"bab\"` |\n",
    "|   | 4 | `\"baba\"` | `False` | `\"bab\"` |\n",
    "|   | 5 | `\"babad\"` | `False` | `\"bab\"` |\n",
    "| 1 | 1 | `\"\"` | `True` | `\"bab\"` |\n",
    "|   | 2 | `\"a\"` | `True` | `\"bab\"` |\n",
    "|   | 3 | `\"ab\"` | `False` | `\"bab\"` |\n",
    "|   | 4 | `\"aba\"` | `True` | `\"bab\"` |\n",
    "|   | 5 | `\"abad\"` | `False` | `\"bab\"` |\n",
    "| 2 | 2 | `\"\"` | `True` | `\"bab\"` |\n",
    "|   | 3 | `\"b\"` | `True` | `\"bab\"` |\n",
    "|   | 4 | `\"ba\"` | `False` | `\"bab\"` |\n",
    "|   | 5 | `\"bad\"` | `False` | `\"bab\"` |\n",
    "| 3 | 3 | `\"\"` | `True` | `\"bab\"` |\n",
    "|   | 4 | `\"a\"` | `True` | `\"bab\"` |\n",
    "|   | 5 | `\"ad\"` | `False` | `\"bab\"` |\n",
    "| 4 | 4 | `\"\"` | `True` | `\"bab\"` |\n",
    "|   | 5 | `\"d\"` | `True` | `\"bab\"` |\n",
    "| 5 | 5 | `\"\"` | `True` | `\"bab\"` |\n",
    "\n",
    "Time complexity: $O(n^2)$\n",
    "\n",
    "Submission: https://leetcode.com/problems/longest-palindromic-substring/submissions/1496890092/\n"
   ]
  },
  {
   "cell_type": "code",
   "execution_count": 1,
   "id": "af963a2c-c9d4-43de-aa1b-566c7030b23b",
   "metadata": {},
   "outputs": [],
   "source": [
    "class Solution:\n",
    "    def longestPalindrome(self, s: str) -> str:\n",
    "        def isPalindrome(st):\n",
    "            return st == st[::-1]\n",
    "        \n",
    "        if len(s) <= 1: return s\n",
    "        \n",
    "        current = \"\"\n",
    "\n",
    "        for i in range(len(s) + 1):\n",
    "            for j in range(i, len(s) + 1):\n",
    "                if isPalindrome(s[i:j]) and len(s[i:j]) > len(current):\n",
    "                    current = s[i:j]\n",
    "        \n",
    "        return current"
   ]
  },
  {
   "cell_type": "markdown",
   "id": "06d65b14-37aa-4c22-a479-5c38549a6453",
   "metadata": {},
   "source": [
    "## Test Cases"
   ]
  },
  {
   "cell_type": "code",
   "execution_count": 2,
   "id": "4bdbf080-06af-4995-8c9a-2c0d16c952d8",
   "metadata": {},
   "outputs": [],
   "source": [
    "sln = Solution()"
   ]
  },
  {
   "cell_type": "code",
   "execution_count": 3,
   "id": "86473ffc-b2b5-4c92-aa3b-ac60a3368624",
   "metadata": {},
   "outputs": [],
   "source": [
    "s = \"babad\"\n",
    "actual = sln.longestPalindrome(s)\n",
    "\n",
    "assert actual == \"bab\""
   ]
  },
  {
   "cell_type": "code",
   "execution_count": 4,
   "id": "98fc0b0a-a34f-4b04-9955-0507dce0e0a2",
   "metadata": {},
   "outputs": [],
   "source": [
    "s = \"cbbd\"\n",
    "actual = sln.longestPalindrome(s)\n",
    "\n",
    "assert actual == \"bb\""
   ]
  },
  {
   "cell_type": "markdown",
   "id": "4eb9f7cf-0372-4954-8da5-c7e29f23e85e",
   "metadata": {},
   "source": [
    "## Discovery\n",
    "\n",
    "Found out that Python string index while slicing can be out of bounds. It just return empty string if that happens."
   ]
  },
  {
   "cell_type": "code",
   "execution_count": 5,
   "id": "02026362-afde-4900-8dec-e07a5362e8a4",
   "metadata": {},
   "outputs": [
    {
     "data": {
      "text/plain": [
       "''"
      ]
     },
     "execution_count": 5,
     "metadata": {},
     "output_type": "execute_result"
    }
   ],
   "source": [
    "\"st\"[18:100]"
   ]
  },
  {
   "cell_type": "code",
   "execution_count": null,
   "id": "8ebf1637-e21f-4a05-b52e-25a6633bb4fb",
   "metadata": {},
   "outputs": [],
   "source": []
  }
 ],
 "metadata": {
  "kernelspec": {
   "display_name": "Python 3 (ipykernel)",
   "language": "python",
   "name": "python3"
  },
  "language_info": {
   "codemirror_mode": {
    "name": "ipython",
    "version": 3
   },
   "file_extension": ".py",
   "mimetype": "text/x-python",
   "name": "python",
   "nbconvert_exporter": "python",
   "pygments_lexer": "ipython3",
   "version": "3.13.2"
  }
 },
 "nbformat": 4,
 "nbformat_minor": 5
}
