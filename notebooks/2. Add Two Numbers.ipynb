{
 "cells": [
  {
   "cell_type": "markdown",
   "id": "d160b449-fb38-4717-b2bf-53aeca5f9638",
   "metadata": {},
   "source": [
    "# Add Two Numbers\n",
    "\n",
    "Difficulty: Medium\n",
    "\n",
    "You are given two non-empty linked lists representing two non-negative integers. The digits are stored in reverse order, and each of their nodes contains a single digit. Add the two numbers and return the sum as a linked list.\n",
    "\n",
    "You may assume the two numbers do not contain any leading zero, except the number 0 itself.\n",
    "\n",
    "## Examples\n",
    "\n",
    "Example 1:\n",
    "![Adding two numbers](https://assets.leetcode.com/uploads/2020/10/02/addtwonumber1.jpg)\n",
    "\n",
    "\n",
    "\n",
    "Input: l1 = [2,4,3], l2 = [5,6,4]\n",
    "Output: [7,0,8]\n",
    "Explanation: 342 + 465 = 807.\n",
    "\n",
    "Example 2:\n",
    "\n",
    "Input: l1 = [0], l2 = [0]\n",
    "Output: [0]\n",
    "\n",
    "Example 3:\n",
    "\n",
    "Input: l1 = [9,9,9,9,9,9,9], l2 = [9,9,9,9]\n",
    "Output: [8,9,9,9,0,0,0,1]\n",
    "\n",
    "## Constraints\n",
    "\n",
    "- The number of nodes in each linked list is in the range [1, 100].\n",
    "- 0 <= Node.val <= 9\n",
    "- It is guaranteed that the list represents a number that does not have leading zeros.\n"
   ]
  },
  {
   "cell_type": "markdown",
   "id": "d60dc67d-d99c-4b2d-882f-f917be814758",
   "metadata": {},
   "source": [
    "## Definitions"
   ]
  },
  {
   "cell_type": "code",
   "execution_count": 1,
   "id": "9b4b7c2a-f5e8-4d0b-8936-6bf515442721",
   "metadata": {},
   "outputs": [],
   "source": [
    "from typing import Optional, List\n",
    "\n",
    "class ListNode:\n",
    "    def __init__(self, val, next=None):\n",
    "        self.val = val\n",
    "        self.next = next"
   ]
  },
  {
   "cell_type": "markdown",
   "id": "0d2b7256-dd84-46a3-8e24-a942939c50ed",
   "metadata": {},
   "source": [
    "## Brute Force"
   ]
  },
  {
   "cell_type": "markdown",
   "id": "362ddbdf-1d48-4e81-9fbe-a142660169f2",
   "metadata": {},
   "source": [
    "### Solution 1\n",
    "\n",
    "Intuition:\n",
    "\n",
    "1. Get the length of both l1 and l2 by traversing all of them\n",
    "2. Assign both of them to `longest_chain` and `shortest_chain` respectively\n",
    "3. `longest_chain` will always be longer or equal to `shortest_chain`\n",
    "4. Define states\n",
    "| State | Description |\n",
    "| --- | --- |\n",
    "| `answer` | The \"head\" for the answer |\n",
    "| `ptr` | The pointer for traversing the answer to add new nodes |\n",
    "| `carry` | The carry forward value. It's either 0 or 1. Initialized to 0 to indicate no forwarding initially |\n",
    "\n",
    "5. Loop the longest chain\n",
    "6. Set a flag `reset_carry` to indicate is there an carry forward value from the previous iteration as it will need to be reset after being consumed\n",
    "7. Calculate the current sum by adding current longest and shortest node (cast to 0 if it is `None`) with the carry\n",
    "8. Advance pointers for `longest_chain` and `shortest_chain` (requires safe casting to `None` if not exist)\n",
    "9. Reset the carry if needs to\n",
    "10. Deduct if the sum is over 10 by 10. Mod 10 works fine too. Turn on the carry if this is the case.\n",
    "11. Construct and append the nodes for the final answer\n",
    "12. Add a final node if the `carry` is 1 after exit the for loop\n",
    "13. End\n",
    "\n",
    "Time complexity: $O(n)$\n",
    "\n",
    "Submission: https://leetcode.com/problems/add-two-numbers/submissions/1605077711/"
   ]
  },
  {
   "cell_type": "code",
   "execution_count": 2,
   "id": "e4afbf21-5b13-4d9d-ad1d-bf7ad50c1b46",
   "metadata": {},
   "outputs": [],
   "source": [
    "class Solution:\n",
    "    def addTwoNumbers(self, l1: Optional[ListNode], l2: Optional[ListNode]) -> Optional[ListNode]:\n",
    "        l1_len = self.countLength(l1)\n",
    "        l2_len = self.countLength(l2)\n",
    "\n",
    "        longest = l1_len if l1_len > l2_len else l2_len\n",
    "        longest_chain = l1 if l1_len > l2_len else l2\n",
    "        shortest_chain = l1 if l1_len <= l2_len else l2\n",
    "\n",
    "        answer = None\n",
    "        ptr = None\n",
    "\n",
    "        carry = 0\n",
    "\n",
    "        for i in range(longest):\n",
    "            reset_carry = carry != 0\n",
    "            current = longest_chain.val + self.safeConversion(shortest_chain) + carry\n",
    "\n",
    "            longest_chain = longest_chain.next\n",
    "            shortest_chain = shortest_chain.next if shortest_chain else None\n",
    "            \n",
    "            if reset_carry:\n",
    "                carry = 0\n",
    "            \n",
    "            if current >= 10:\n",
    "                current -= 10\n",
    "                carry = 1\n",
    "\n",
    "            if not answer:\n",
    "                answer = ListNode(current)\n",
    "                ptr = answer\n",
    "            else:\n",
    "                ptr.next = ListNode(current)\n",
    "                ptr = ptr.next\n",
    "\n",
    "        if carry == 1:\n",
    "            ptr.next = ListNode(1)\n",
    "\n",
    "        return answer\n",
    "\n",
    "    def countLength(self, l1: Optional[ListNode]) -> int:\n",
    "        length = 0\n",
    "        ptr = l1\n",
    "\n",
    "        while ptr:\n",
    "            length += 1\n",
    "            ptr = ptr.next\n",
    "\n",
    "        return length\n",
    "\n",
    "    def safeConversion(self, node: Optional[ListNode]) -> int:\n",
    "        if node:\n",
    "            return node.val\n",
    "        else:\n",
    "            return 0\n",
    "        "
   ]
  },
  {
   "cell_type": "markdown",
   "id": "d3e405a7-d9d1-4733-9280-c8b86708efc0",
   "metadata": {},
   "source": [
    "## Helper Methods"
   ]
  },
  {
   "cell_type": "code",
   "execution_count": 3,
   "id": "4f8df148-47b8-46b4-896c-7ffa84dc55ac",
   "metadata": {},
   "outputs": [],
   "source": [
    "def convertListToNodes(nums: List[int]) -> Optional[ListNode]:\n",
    "    head = None\n",
    "    ptr = None\n",
    "    \n",
    "    for num in nums:\n",
    "        if not head:\n",
    "            head = ListNode(num)\n",
    "            ptr = head\n",
    "        else:\n",
    "            ptr.next = ListNode(num)\n",
    "            ptr = ptr.next\n",
    "\n",
    "    return head"
   ]
  },
  {
   "cell_type": "code",
   "execution_count": 4,
   "id": "e6ca9cab-b784-459b-82ff-d759c5889951",
   "metadata": {},
   "outputs": [],
   "source": [
    "def collectNodesIntoList(head: Optional[ListNode]) -> List[int]:\n",
    "    nums = []\n",
    "    while head:\n",
    "        nums.append(head.val)\n",
    "        head = head.next\n",
    "\n",
    "    return nums"
   ]
  },
  {
   "cell_type": "markdown",
   "id": "1c9e7971-3db1-4763-81ea-065ca8d4417b",
   "metadata": {},
   "source": [
    "## Test Cases"
   ]
  },
  {
   "cell_type": "code",
   "execution_count": 5,
   "id": "cce560f6-b28d-42ca-819a-c9b6bdb4bb8d",
   "metadata": {},
   "outputs": [],
   "source": [
    "sln = Solution()"
   ]
  },
  {
   "cell_type": "code",
   "execution_count": 6,
   "id": "23ede576-cefa-4113-a99c-48be68eda8a4",
   "metadata": {},
   "outputs": [],
   "source": [
    "l1 = convertListToNodes([2,4,3])\n",
    "l2 = convertListToNodes([5,6,4])\n",
    "expected = [7,0,8]\n",
    "\n",
    "ans_head = sln.addTwoNumbers(l1, l2)\n",
    "actual = collectNodesIntoList(ans_head)\n",
    "\n",
    "assert actual == expected"
   ]
  },
  {
   "cell_type": "code",
   "execution_count": 7,
   "id": "84cdd29e-0c93-41d7-97ef-50c5983ae22a",
   "metadata": {},
   "outputs": [],
   "source": [
    "l1 = convertListToNodes([0])\n",
    "l2 = convertListToNodes([0])\n",
    "expected = [0]\n",
    "\n",
    "ans_head = sln.addTwoNumbers(l1, l2)\n",
    "actual = collectNodesIntoList(ans_head)\n",
    "\n",
    "assert actual == expected"
   ]
  },
  {
   "cell_type": "code",
   "execution_count": 8,
   "id": "f730c245-35e0-4872-a6d7-83ca45f518a5",
   "metadata": {},
   "outputs": [],
   "source": [
    "l1 = convertListToNodes([9,9,9,9,9,9,9])\n",
    "l2 = convertListToNodes([9,9,9,9])\n",
    "expected = [8,9,9,9,0,0,0,1]\n",
    "\n",
    "ans_head = sln.addTwoNumbers(l1, l2)\n",
    "actual = collectNodesIntoList(ans_head)\n",
    "\n",
    "assert actual == expected"
   ]
  },
  {
   "cell_type": "code",
   "execution_count": null,
   "id": "658abc2b-7c25-4dd3-8659-f2a39c0d3200",
   "metadata": {},
   "outputs": [],
   "source": []
  }
 ],
 "metadata": {
  "kernelspec": {
   "display_name": "Python 3 (ipykernel)",
   "language": "python",
   "name": "python3"
  },
  "language_info": {
   "codemirror_mode": {
    "name": "ipython",
    "version": 3
   },
   "file_extension": ".py",
   "mimetype": "text/x-python",
   "name": "python",
   "nbconvert_exporter": "python",
   "pygments_lexer": "ipython3",
   "version": "3.13.2"
  }
 },
 "nbformat": 4,
 "nbformat_minor": 5
}
