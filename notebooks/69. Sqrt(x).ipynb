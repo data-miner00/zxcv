{
 "cells": [
  {
   "cell_type": "markdown",
   "id": "7adf3e83-7ed4-454f-bf94-28195d4afa90",
   "metadata": {},
   "source": [
    "# Sqrt(x)\n",
    "\n",
    "Difficulty: Easy\n",
    "\n",
    "Given a non-negative integer x, return the square root of x rounded down to the nearest integer. The returned integer should be non-negative as well.\n",
    "\n",
    "You must not use any built-in exponent function or operator.\n",
    "\n",
    "> For example, do not use pow(x, 0.5) in c++ or x ** 0.5 in python.\n",
    "\n",
    "## Examples\n",
    "\n",
    "Example 1:\n",
    "\n",
    "```\n",
    "Input: x = 4\n",
    "Output: 2\n",
    "Explanation: The square root of 4 is 2, so we return 2.\n",
    "```\n",
    "\n",
    "Example 2:\n",
    "\n",
    "```\n",
    "Input: x = 8\n",
    "Output: 2\n",
    "Explanation: The square root of 8 is 2.82842..., and since we round it down to the nearest integer, 2 is returned.\n",
    "```\n",
    "\n",
    "## Constraints\n",
    "\n",
    "- 0 <= x <= $2^{31}$ - 1\n",
    "\n",
    "<div class=\"tag-container\">\n",
    "    <div class=\"tag green\">Math</div>\n",
    "    <div class=\"tag purple\">Binary Search</div>\n",
    "</div>\n",
    "\n"
   ]
  },
  {
   "cell_type": "markdown",
   "id": "15bb2994-01d4-4dc8-b69c-8a397b596adb",
   "metadata": {},
   "source": [
    "## Cheating\n",
    "\n",
    "### Solution 1\n",
    "\n",
    "Use power of $\\frac{1}{2}$.\n",
    "\n",
    "Time complexity: $O(1)$\n",
    "\n",
    "Submission link: https://leetcode.com/problems/sqrtx/submissions/1678446805/"
   ]
  },
  {
   "cell_type": "code",
   "execution_count": 1,
   "id": "5e4f3043-5c03-4d03-84d5-0956599b6506",
   "metadata": {},
   "outputs": [],
   "source": [
    "class Solution:\n",
    "    def mySqrt(self, x: int) -> int:\n",
    "        from math import floor\n",
    "        return floor(x ** (1/2))"
   ]
  },
  {
   "cell_type": "markdown",
   "id": "d10cc4f3-5304-49cf-bbfc-c2b1c2977e98",
   "metadata": {},
   "source": [
    "## For Perfect Square Only\n",
    "\n",
    "### Solution 1"
   ]
  },
  {
   "cell_type": "code",
   "execution_count": 2,
   "id": "9998e49f-1d32-496f-8d27-f4120851814c",
   "metadata": {},
   "outputs": [],
   "source": [
    "class Solution:\n",
    "    def mySqrt(self, x: int) -> int:\n",
    "        current = x\n",
    "        while current * current != x:\n",
    "            current -= 1\n",
    "\n",
    "        return current"
   ]
  },
  {
   "cell_type": "markdown",
   "id": "99eab7a8-7cc1-41de-905c-2323c6cfbea2",
   "metadata": {},
   "source": [
    "## Store Each Possible Perfect Square\n",
    "\n",
    "### Solution 1\n",
    "\n",
    "Let's give this a range of 0-256. \n",
    "1. This creates a dictionary that stores all the squares of the number for the range given. It should be stored in ascending order.\n",
    "2. Loop through the dictionary.\n",
    "3. If the `num` is equal to the value, means it is the perfect square of the `num` value. Return it.\n",
    "4. Otherwise, if the `num` is lower than the `value`, means the `floor(sqrt(num))` is it's previous record's `key`. Return `key - 1`."
   ]
  },
  {
   "cell_type": "code",
   "execution_count": 3,
   "id": "bbd87c3e-fa2e-4ef9-8afc-be5e43a84b3d",
   "metadata": {},
   "outputs": [],
   "source": [
    "class Solution:\n",
    "    def mySqrt(self, num: int) -> int:\n",
    "        current = 1\n",
    "        maximum = 256\n",
    "        \n",
    "        results = dict()\n",
    "        \n",
    "        while current != maximum:\n",
    "            results[current] = current * current\n",
    "            current += 1\n",
    "        \n",
    "        for key, value in results.items():\n",
    "            if num == value:\n",
    "                return key\n",
    "            if num < value:\n",
    "                return key - 1\n",
    "\n",
    "        raise \"Error\""
   ]
  },
  {
   "cell_type": "markdown",
   "id": "bf7b525c-6ea7-4baf-b231-12cbdadc0cde",
   "metadata": {},
   "source": [
    "## Binary Search\n",
    "\n",
    "### Solution 1\n",
    "\n",
    "Intuitive, take $x = 6$ for example\n",
    "\n",
    "```\n",
    "| 1 | 2 | 3 | 4 | 5 | 6 |\n",
    "\n",
    "\n",
    "Step 1: 1 + 6 // 2 = 3\n",
    "Step 2: 3\\*3 = 9\n",
    "Step 3: 9 > 6\n",
    "Step 4: Set R = 3 - 1 = 2\n",
    "Step 5: 1 + 2 // 2 = 1\n",
    "Step 6: 1\\*1 = 1\n",
    "Step 7: 1 < 6\n",
    "Step 8: Set L = 1 + 1 = 2\n",
    "Step 9: 2 == 2\n",
    "Step 10: Return 2\n",
    "```\n",
    "\n",
    "Time complexity: $O(log(n))$\n",
    "\n",
    "Submission link: https://leetcode.com/problems/sqrtx/submissions/1679354063/"
   ]
  },
  {
   "cell_type": "code",
   "execution_count": 4,
   "id": "a1fb48db-359a-4464-804c-581ab5c1fc07",
   "metadata": {},
   "outputs": [],
   "source": [
    "class Solution:\n",
    "    def mySqrt(self, x: int) -> int:\n",
    "        left, right = 1, x\n",
    "\n",
    "        while left <= right:\n",
    "            midpoint = (left + right) // 2\n",
    "            midpoint_squared = midpoint * midpoint\n",
    "\n",
    "            if midpoint_squared == x:\n",
    "                return midpoint\n",
    "            elif midpoint_squared < x:\n",
    "                left = midpoint + 1\n",
    "            else:\n",
    "                right = midpoint - 1\n",
    "\n",
    "        return right"
   ]
  },
  {
   "cell_type": "markdown",
   "id": "8d641750-a4df-4130-84da-75677e76133c",
   "metadata": {},
   "source": [
    "## Test Cases"
   ]
  },
  {
   "cell_type": "code",
   "execution_count": 5,
   "id": "7a053d61-1524-4acb-a745-57a97c0a2c67",
   "metadata": {},
   "outputs": [],
   "source": [
    "sln = Solution()"
   ]
  },
  {
   "cell_type": "code",
   "execution_count": 6,
   "id": "f16b0b86-bf0c-4a90-a4bd-d0710c10ded0",
   "metadata": {},
   "outputs": [
    {
     "name": "stdout",
     "output_type": "stream",
     "text": [
      "2\n"
     ]
    }
   ],
   "source": [
    "input = 4\n",
    "expected = 2\n",
    "\n",
    "actual = sln.mySqrt(input)\n",
    "print(actual)\n",
    "assert actual == expected"
   ]
  },
  {
   "cell_type": "code",
   "execution_count": 7,
   "id": "d72d7340-ae0d-4510-a1c5-ffc64d03df4e",
   "metadata": {},
   "outputs": [],
   "source": [
    "input = 16\n",
    "expected = 4\n",
    "\n",
    "actual = sln.mySqrt(input)\n",
    "\n",
    "assert actual == expected"
   ]
  },
  {
   "cell_type": "code",
   "execution_count": 8,
   "id": "ef518be7-ff2b-4f6b-92cc-57391b38fd33",
   "metadata": {},
   "outputs": [],
   "source": [
    "input = 8\n",
    "expected = 2\n",
    "\n",
    "actual = sln.mySqrt(input)\n",
    "\n",
    "assert actual == expected"
   ]
  },
  {
   "cell_type": "code",
   "execution_count": 9,
   "id": "85a9098c-0fb4-4db9-a3b9-26255de37f91",
   "metadata": {},
   "outputs": [],
   "source": [
    "input = 2147395599\n",
    "expected = 46339\n",
    "\n",
    "actual = sln.mySqrt(input)\n",
    "\n",
    "assert actual == expected"
   ]
  },
  {
   "cell_type": "code",
   "execution_count": 10,
   "id": "074755b7-5b61-44ee-9aeb-9b8d64c8b6cb",
   "metadata": {},
   "outputs": [],
   "source": [
    "input = 6\n",
    "expected = 2\n",
    "\n",
    "actual = sln.mySqrt(input)\n",
    "\n",
    "assert actual == expected"
   ]
  },
  {
   "cell_type": "code",
   "execution_count": null,
   "id": "f14134c6-b2f5-4163-97ec-70eebb21ae15",
   "metadata": {},
   "outputs": [],
   "source": []
  }
 ],
 "metadata": {
  "kernelspec": {
   "display_name": "Python 3 (ipykernel)",
   "language": "python",
   "name": "python3"
  },
  "language_info": {
   "codemirror_mode": {
    "name": "ipython",
    "version": 3
   },
   "file_extension": ".py",
   "mimetype": "text/x-python",
   "name": "python",
   "nbconvert_exporter": "python",
   "pygments_lexer": "ipython3",
   "version": "3.13.2"
  }
 },
 "nbformat": 4,
 "nbformat_minor": 5
}
