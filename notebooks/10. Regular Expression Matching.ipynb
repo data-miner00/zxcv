{
 "cells": [
  {
   "cell_type": "markdown",
   "id": "a9f8af5b-958a-4074-bc87-157cb6ba93cb",
   "metadata": {},
   "source": [
    "# Regular Expression Matching\n",
    "\n",
    "Difficulty: Hard\n",
    "\n",
    "Given an input string s and a pattern p, implement regular expression matching with support for '.' and '*' where:\n",
    "\n",
    "- '.' Matches any single character.\n",
    "- '*' Matches zero or more of the preceding element.\n",
    "\n",
    "The matching should cover the entire input string (not partial).\n",
    "\n",
    "## Examples\n",
    "\n",
    "Example 1:\n",
    "\n",
    "    Input: s = \"aa\", p = \"a\"\n",
    "    Output: false\n",
    "    Explanation: \"a\" does not match the entire string \"aa\".\n",
    "\n",
    "Example 2:\n",
    "\n",
    "    Input: s = \"aa\", p = \"a*\"\n",
    "    Output: true\n",
    "    Explanation: '*' means zero or more of the preceding element, 'a'. Therefore, by repeating 'a' once, it becomes \"aa\".\n",
    "\n",
    "Example 3:\n",
    "\n",
    "    Input: s = \"ab\", p = \".*\"\n",
    "    Output: true\n",
    "    Explanation: \".*\" means \"zero or more (*) of any character (.)\".\n",
    "\n",
    "## Constraints\n",
    "\n",
    "- 1 <= s.length <= 20\n",
    "- 1 <= p.length <= 20\n",
    "- s contains only lowercase English letters.\n",
    "- p contains only lowercase English letters, '.', and '*'.\n",
    "- It is guaranteed for each appearance of the character '*', there will be a previous valid character to match.\n",
    "\n",
    "<div class=\"tag-container\">\n",
    "    <div class=\"tag red\">Dynamic programming</div>\n",
    "    <div class=\"tag orange\">Recursion</div>\n",
    "    <div class=\"tag purple\">String</div>\n",
    "</div>\n"
   ]
  },
  {
   "cell_type": "markdown",
   "id": "e0f9f7e1-414a-416a-b78b-a3cc0365c0d2",
   "metadata": {},
   "source": [
    "## Greedy\n",
    "\n",
    "### Solution 1 (Failed)\n",
    "\n",
    "1. Trying to loop each character of the pattern\n",
    "2. If the character match `s[index]`, increment counter\n",
    "3. If the character is `*`, increment counter until it is not the same character\n",
    "4. If the character is `.`, increment counter + 1\n",
    "5. At the end, if the `s_ptr` is equal to `len(s)` then matching is completed.\n",
    "\n",
    "Failed due to `.*` pattern."
   ]
  },
  {
   "cell_type": "code",
   "execution_count": 1,
   "id": "51f415b5-83f4-4037-b316-908539367ab7",
   "metadata": {},
   "outputs": [],
   "source": [
    "class Solution:\n",
    "    def isMatch(self, s: str, p: str) -> bool:\n",
    "        sptr = 0\n",
    "\n",
    "        for idx, ch in enumerate(p):\n",
    "            if ch == '.':\n",
    "                if sptr < len(s):\n",
    "                    sptr += 1\n",
    "            elif ch == '*':\n",
    "                prev = p[idx - 1]\n",
    "                if prev == '.':\n",
    "                    while sptr < len(s) and idx + 1 < len(p) and s[sptr] != p[idx + 1]:\n",
    "                        sptr += 1\n",
    "                    while sptr < len(s) and idx + 1 < len(p) and s[sptr] != p[idx + 1]:\n",
    "                        sptr += 1\n",
    "                else:\n",
    "                    while sptr < len(s) and s[sptr] == prev:\n",
    "                        sptr += 1\n",
    "            else:\n",
    "                if ch != s[sptr]:\n",
    "                    return False\n",
    "                if sptr < len(s) - 1:\n",
    "                    sptr += 1\n",
    "\n",
    "        if sptr < len(s):\n",
    "            return False\n",
    "\n",
    "        return True"
   ]
  },
  {
   "cell_type": "markdown",
   "id": "d52cf487-bfce-4025-93f2-d0bc848fedf2",
   "metadata": {},
   "source": [
    "## Recursion\n",
    "\n",
    "### Solution 1\n",
    "\n",
    "Submission link: https://leetcode.com/problems/regular-expression-matching/submissions/1776530167/"
   ]
  },
  {
   "cell_type": "code",
   "execution_count": 2,
   "id": "ea771342-6404-4355-b2f2-eddaaf1baaad",
   "metadata": {},
   "outputs": [],
   "source": [
    "class Solution:\n",
    "    def isMatch(self, s: str, p: str) -> bool:\n",
    "        return self.helper(s, p, 0, 0)\n",
    "\n",
    "    def helper(self, s: str, p: str, s_idx: int, p_idx: int):\n",
    "        if p_idx >= len(p):\n",
    "            return s_idx == len(s)\n",
    "\n",
    "        # Check if next character is '*'\n",
    "        if p_idx + 1 < len(p) and p[p_idx + 1] == '*':\n",
    "            # Handle 'x*' pattern\n",
    "            char_to_match = p[p_idx]\n",
    "            \n",
    "            # Try matching 0 characters (skip x*)\n",
    "            if self.helper(s, p, s_idx, p_idx + 2):\n",
    "                return True\n",
    "            \n",
    "            # Try matching 1 or more characters\n",
    "            while s_idx < len(s) and (char_to_match == '.' or char_to_match == s[s_idx]):\n",
    "                s_idx += 1\n",
    "                if self.helper(s, p, s_idx, p_idx + 2):\n",
    "                    return True\n",
    "            \n",
    "            return False\n",
    "        else:\n",
    "            # Single character match\n",
    "            if s_idx >= len(s):\n",
    "                return False\n",
    "            if p[p_idx] != '.' and p[p_idx] != s[s_idx]:\n",
    "                return False\n",
    "            return self.helper(s, p, s_idx + 1, p_idx + 1)"
   ]
  },
  {
   "cell_type": "markdown",
   "id": "1c48e110-046b-481e-b644-c9bb02ab95f1",
   "metadata": {},
   "source": [
    "## Test cases"
   ]
  },
  {
   "cell_type": "code",
   "execution_count": 3,
   "id": "ce4d5308-0bf5-492c-b982-6175322796f7",
   "metadata": {},
   "outputs": [],
   "source": [
    "sln = Solution()"
   ]
  },
  {
   "cell_type": "code",
   "execution_count": 4,
   "id": "a41cdbb8-804c-4eec-b746-9bfb61872fbd",
   "metadata": {},
   "outputs": [
    {
     "name": "stdout",
     "output_type": "stream",
     "text": [
      "Actual   :  False\n",
      "Expected :  False\n",
      "--------------------------------------------------\n",
      "Actual   :  True\n",
      "Expected :  True\n",
      "--------------------------------------------------\n",
      "Actual   :  True\n",
      "Expected :  True\n",
      "--------------------------------------------------\n",
      "Actual   :  True\n",
      "Expected :  True\n",
      "--------------------------------------------------\n"
     ]
    }
   ],
   "source": [
    "scenarios = [\n",
    "    [\"aa\", \"a\", False],\n",
    "    [\"aa\", \"a*\", True],\n",
    "    [\"abbc\", \".*c\", True],\n",
    "    [\"ab\", \".*\", True],\n",
    "]\n",
    "\n",
    "for case in scenarios:\n",
    "    actual = sln.isMatch(case[0], case[1])\n",
    "    print('Actual   : ', actual)\n",
    "    print('Expected : ', case[2])\n",
    "    print('-' * 50)\n",
    "    assert actual == case[2], f\"Case '{case[0]} + {case[1]}' failed. {actual} does not equal to {case[2]}\""
   ]
  },
  {
   "cell_type": "code",
   "execution_count": null,
   "id": "ae217d9d-7d39-418c-b666-8d52c6416192",
   "metadata": {},
   "outputs": [],
   "source": []
  }
 ],
 "metadata": {
  "kernelspec": {
   "display_name": "Python 3 (ipykernel)",
   "language": "python",
   "name": "python3"
  },
  "language_info": {
   "codemirror_mode": {
    "name": "ipython",
    "version": 3
   },
   "file_extension": ".py",
   "mimetype": "text/x-python",
   "name": "python",
   "nbconvert_exporter": "python",
   "pygments_lexer": "ipython3",
   "version": "3.13.2"
  }
 },
 "nbformat": 4,
 "nbformat_minor": 5
}
