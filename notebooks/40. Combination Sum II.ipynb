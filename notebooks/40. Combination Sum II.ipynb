{
 "cells": [
  {
   "cell_type": "markdown",
   "id": "de151d2c-b050-4fa0-a08c-d06d0cda05e2",
   "metadata": {},
   "source": [
    "# 40. Combination Sum II\n",
    "\n",
    "Difficulty: Medium\n",
    "\n",
    "Given a collection of candidate numbers (candidates) and a target number (target), find all unique combinations in candidates where the candidate numbers sum to target.\n",
    "\n",
    "Each number in candidates may only be used once in the combination.\n",
    "\n",
    "Note: The solution set must not contain duplicate combinations.\n",
    "\n",
    "## Examples\n",
    "\n",
    "Example 1:\n",
    "\n",
    "    Input: candidates = [10,1,2,7,6,1,5], target = 8\n",
    "    Output: \n",
    "    [\n",
    "    [1,1,6],\n",
    "    [1,2,5],\n",
    "    [1,7],\n",
    "    [2,6]\n",
    "    ]\n",
    "\n",
    "Example 2:\n",
    "\n",
    "    Input: candidates = [2,5,2,1,2], target = 5\n",
    "    Output: \n",
    "    [\n",
    "    [1,2,2],\n",
    "    [5]\n",
    "    ]\n",
    "\n",
    "## Constraints\n",
    "\n",
    "- 1 <= candidates.length <= 100\n",
    "- 1 <= candidates[i] <= 50\n",
    "- 1 <= target <= 30\n",
    "\n",
    "<div class=\"tag-container\">\n",
    "    <div class=\"tag blue\">Array</div>\n",
    "    <div class=\"tag red\">Backtracking</div>\n",
    "</div>"
   ]
  },
  {
   "cell_type": "markdown",
   "id": "de88a962-63d5-443b-9d16-7679e7de2ff7",
   "metadata": {},
   "source": [
    "## Backtracking\n",
    "\n",
    "### Solution 1\n",
    "\n",
    "Submission link (Time Limit Exceeded): https://leetcode.com/problems/combination-sum-ii/submissions/1800194269/"
   ]
  },
  {
   "cell_type": "code",
   "execution_count": 1,
   "id": "27ea2edc-6d6d-4584-b459-abd3ebc25ae1",
   "metadata": {},
   "outputs": [],
   "source": [
    "from typing import List\n",
    "\n",
    "class Solution:\n",
    "    def combinationSum2(self, candidates: List[int], target: int) -> List[List[int]]:\n",
    "        candidates.sort()\n",
    "        result = []\n",
    "        def backtrack(combination, remaining_sum, start):\n",
    "            if remaining_sum == 0:\n",
    "                if combination not in result:\n",
    "                    result.append(combination[:])\n",
    "                return\n",
    "\n",
    "            if remaining_sum < 0:\n",
    "                return\n",
    "\n",
    "            for i in range(start, len(candidates)):\n",
    "                current = candidates[i]\n",
    "\n",
    "                combination.append(current)\n",
    "                \n",
    "                backtrack(combination, remaining_sum - current, i + 1)\n",
    "\n",
    "                combination.pop()\n",
    "\n",
    "        backtrack([], target, 0)\n",
    "        return result"
   ]
  },
  {
   "cell_type": "markdown",
   "id": "d925651c-a9bb-488b-8b0f-414dd624624e",
   "metadata": {},
   "source": [
    "### Solution 2\n",
    "\n",
    "With optimization\n",
    "\n",
    "Submission link: https://leetcode.com/problems/combination-sum-ii/submissions/1800206971/"
   ]
  },
  {
   "cell_type": "code",
   "execution_count": 2,
   "id": "099f588b-22a1-4cf6-b0b1-14a94d71d882",
   "metadata": {},
   "outputs": [],
   "source": [
    "class Solution:\n",
    "    def combinationSum2(self, candidates: List[int], target: int) -> List[List[int]]:\n",
    "        \"\"\"\n",
    "        Find all unique combinations where numbers sum to target.\n",
    "        Each number can be used AT MOST once (unlike Combination Sum 1).\n",
    "        Optimized to avoid duplicates during recursion.\n",
    "        \"\"\"\n",
    "        candidates.sort()\n",
    "        result = []\n",
    "        \n",
    "        def backtrack(combination, remaining_sum, start):\n",
    "            # Base case: found valid combination\n",
    "            if remaining_sum == 0:\n",
    "                result.append(combination[:])\n",
    "                return\n",
    "            \n",
    "            # Base case: exceeded target\n",
    "            if remaining_sum < 0:\n",
    "                return\n",
    "            \n",
    "            for i in range(start, len(candidates)):\n",
    "                # Skip duplicates: if current equals previous and previous wasn't used\n",
    "                # This is the KEY optimization - prevents duplicate combinations\n",
    "                if i > start and candidates[i] == candidates[i - 1]:\n",
    "                    continue\n",
    "                \n",
    "                current = candidates[i]\n",
    "                \n",
    "                # Choose\n",
    "                combination.append(current)\n",
    "                \n",
    "                # Explore: move to i+1 since each number used at most once\n",
    "                backtrack(combination, remaining_sum - current, i + 1)\n",
    "                \n",
    "                # Unchoose\n",
    "                combination.pop()\n",
    "        \n",
    "        backtrack([], target, 0)\n",
    "        return result"
   ]
  },
  {
   "cell_type": "markdown",
   "id": "e03d6861-3967-4072-95c7-a95c115bc37e",
   "metadata": {},
   "source": [
    "## Test cases"
   ]
  },
  {
   "cell_type": "code",
   "execution_count": 3,
   "id": "4c4b33d2-4226-4b62-a56d-b45c6c1f8787",
   "metadata": {},
   "outputs": [],
   "source": [
    "sln = Solution()"
   ]
  },
  {
   "cell_type": "code",
   "execution_count": 4,
   "id": "e20e96f5-122c-4f6d-af9d-90fd2f92e5c0",
   "metadata": {},
   "outputs": [
    {
     "name": "stdout",
     "output_type": "stream",
     "text": [
      "Actual   :  [[1, 1, 6], [1, 2, 5], [1, 7], [2, 6]]\n",
      "Expected :  [[1, 1, 6], [1, 2, 5], [1, 7], [2, 6]]\n",
      "Elapsed time: 0.00 seconds\n",
      "--------------------------------------------------\n",
      "Actual   :  [[1, 2, 2], [5]]\n",
      "Expected :  [[1, 2, 2], [5]]\n",
      "Elapsed time: 0.00 seconds\n",
      "--------------------------------------------------\n",
      "Actual   :  [[1, 1, 1, 1, 1, 1, 1, 1, 1, 1, 1, 1, 1, 1, 1, 1, 1, 1, 1, 1, 1, 1, 1, 1, 1, 1, 1, 1, 1, 1]]\n",
      "Expected :  [[1, 1, 1, 1, 1, 1, 1, 1, 1, 1, 1, 1, 1, 1, 1, 1, 1, 1, 1, 1, 1, 1, 1, 1, 1, 1, 1, 1, 1, 1]]\n",
      "Elapsed time: 0.00 seconds\n",
      "--------------------------------------------------\n",
      "Actual   :  []\n",
      "Expected :  []\n",
      "Elapsed time: 0.00 seconds\n",
      "--------------------------------------------------\n"
     ]
    }
   ],
   "source": [
    "import time\n",
    "\n",
    "scenarios = [\n",
    "    ([10,1,2,7,6,1,5], 8, [[1,1,6],[1,2,5],[1,7],[2,6]]),\n",
    "    ([2,5,2,1,2], 5, [[1,2,2],[5]]),\n",
    "    ([1,1,1,1,1,1,1,1,1,1,1,1,1,1,1,1,1,1,1,1,1,1,1,1,1,1,1,1,1,1,1,1,1,1,1,1,1,1,1,1,1,1,1,1,1,1,1,1,1,1,1,1,1,1,1,1,1,1,1,1,1,1,1,1,1,1,1,1,1,1,1,1,1,1,1,1,1,1,1,1,1,1,1,1,1,1,1,1,1,1,1,1,1,1,1,1,1,1,1,1], 30, [[1, 1, 1, 1, 1, 1, 1, 1, 1, 1, 1, 1, 1, 1, 1, 1, 1, 1, 1, 1, 1, 1, 1, 1, 1, 1, 1, 1, 1, 1]]),\n",
    "    ([1], 2, []),\n",
    "]\n",
    "\n",
    "for case in scenarios:\n",
    "    start_time = time.time()\n",
    "    actual = sln.combinationSum2(case[0], case[1])\n",
    "    end_time = time.time()\n",
    "    print('Actual   : ', actual)\n",
    "    print('Expected : ', case[2])\n",
    "    elapsed_time = end_time - start_time\n",
    "    print(f\"Elapsed time: {elapsed_time:.2f} seconds\")\n",
    "    assert actual == case[2], f\"Case {case[0]} failed. {actual} does not equal to {case[2]}\"\n",
    "    print('-' * 50)"
   ]
  },
  {
   "cell_type": "code",
   "execution_count": null,
   "id": "6fbf699f-c46f-4092-820d-ffe4fac11b0b",
   "metadata": {},
   "outputs": [],
   "source": []
  }
 ],
 "metadata": {
  "kernelspec": {
   "display_name": "Python 3 (ipykernel)",
   "language": "python",
   "name": "python3"
  },
  "language_info": {
   "codemirror_mode": {
    "name": "ipython",
    "version": 3
   },
   "file_extension": ".py",
   "mimetype": "text/x-python",
   "name": "python",
   "nbconvert_exporter": "python",
   "pygments_lexer": "ipython3",
   "version": "3.13.2"
  }
 },
 "nbformat": 4,
 "nbformat_minor": 5
}
