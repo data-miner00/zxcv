{
 "cells": [
  {
   "cell_type": "markdown",
   "id": "3b0cb87c-1b04-48ee-8f7d-db0ea5c77adc",
   "metadata": {},
   "source": [
    "# 38. Count and Say\n",
    "\n",
    "Difficulty: Medium\n",
    "\n",
    "The count-and-say sequence is a sequence of digit strings defined by the recursive formula:\n",
    "\n",
    "    countAndSay(1) = \"1\"\n",
    "    countAndSay(n) is the run-length encoding of countAndSay(n - 1).\n",
    "\n",
    "Run-length encoding (RLE) is a string compression method that works by replacing consecutive identical characters (repeated 2 or more times) with the concatenation of the character and the number marking the count of the characters (length of the run). For example, to compress the string \"3322251\" we replace \"33\" with \"23\", replace \"222\" with \"32\", replace \"5\" with \"15\" and replace \"1\" with \"11\". Thus the compressed string becomes \"23321511\".\n",
    "\n",
    "Given a positive integer n, return the nth element of the count-and-say sequence.\n",
    "\n",
    "## Examples\n",
    "\n",
    "Example 1:\n",
    "\n",
    "    Input: n = 4\n",
    "    \n",
    "    Output: \"1211\"\n",
    "    \n",
    "    Explanation:\n",
    "    \n",
    "    countAndSay(1) = \"1\"\n",
    "    countAndSay(2) = RLE of \"1\" = \"11\"\n",
    "    countAndSay(3) = RLE of \"11\" = \"21\"\n",
    "    countAndSay(4) = RLE of \"21\" = \"1211\"\n",
    "\n",
    "Example 2:\n",
    "\n",
    "    Input: n = 1\n",
    "    \n",
    "    Output: \"1\"\n",
    "    \n",
    "    Explanation:\n",
    "    \n",
    "    This is the base case.\n",
    "\n",
    "## Constraints\n",
    "\n",
    "- 1 <= n <= 30\n",
    "\n",
    " \n",
    "Follow up: Could you solve it iteratively?\n",
    "\n",
    "\n",
    "<div class=\"tag-container\">\n",
    "    <div class=\"tag blue\">String</div>\n",
    "</div>"
   ]
  },
  {
   "cell_type": "markdown",
   "id": "0a3e8e2a-dc1c-4032-8e6a-4be6fb63d9b4",
   "metadata": {},
   "source": [
    "## Iterative\n",
    "\n",
    "### Solution 1\n",
    "\n",
    "Intuitive:\n",
    "1. Construct the string $n - 1$ times\n",
    "2. Initial string is \"1\", after $n - 1$ times, it will be the result.\n",
    "3. Do RLE in the loop.\n",
    "\n",
    "Time complexity: $O(n)$ ?\n",
    "\n",
    "Submission link: https://leetcode.com/problems/count-and-say/submissions/1798991742/"
   ]
  },
  {
   "cell_type": "code",
   "execution_count": 1,
   "id": "caab0894-13c3-4f43-bc38-a480a768c7b8",
   "metadata": {},
   "outputs": [],
   "source": [
    "class Solution:\n",
    "    def countAndSay(self, n: int) -> str:\n",
    "        def rle(num):\n",
    "            count = 1\n",
    "            output = \"\"\n",
    "            current = num[0]\n",
    "            for i, o in enumerate(num[1:]):\n",
    "                if o != num[i]:\n",
    "                    output += f\"{count}{current}\"\n",
    "                    current = o\n",
    "                    count = 1\n",
    "                else:\n",
    "                    count += 1\n",
    "            \n",
    "            output += f\"{count}{current}\"\n",
    "\n",
    "            return output\n",
    "\n",
    "        ans = \"1\"\n",
    "        for _ in range(n - 1):\n",
    "            ans = rle(ans)\n",
    "\n",
    "        return ans\n",
    "        "
   ]
  },
  {
   "cell_type": "markdown",
   "id": "e52637fe-1f9c-4d32-aee2-69fbcb3d32aa",
   "metadata": {},
   "source": [
    "## Test cases"
   ]
  },
  {
   "cell_type": "code",
   "execution_count": 2,
   "id": "6ab2f5e3-8b69-4f7e-b6d1-010df36576b5",
   "metadata": {},
   "outputs": [],
   "source": [
    "sln = Solution()"
   ]
  },
  {
   "cell_type": "code",
   "execution_count": 3,
   "id": "35332fda-5199-4003-b1cb-0f17d3a884b6",
   "metadata": {},
   "outputs": [
    {
     "name": "stdout",
     "output_type": "stream",
     "text": [
      "Actual   :  1211\n",
      "Expected :  1211\n",
      "Elapsed time: 0.00 seconds\n",
      "--------------------------------------------------\n",
      "Actual   :  1\n",
      "Expected :  1\n",
      "Elapsed time: 0.00 seconds\n",
      "--------------------------------------------------\n"
     ]
    }
   ],
   "source": [
    "import time\n",
    "\n",
    "scenarios = [\n",
    "    (4, \"1211\"),\n",
    "    (1, \"1\"),\n",
    "]\n",
    "\n",
    "for case in scenarios:\n",
    "    start_time = time.time()\n",
    "    actual = sln.countAndSay(case[0])\n",
    "    end_time = time.time()\n",
    "    print('Actual   : ', actual)\n",
    "    print('Expected : ', case[1])\n",
    "    elapsed_time = end_time - start_time\n",
    "    print(f\"Elapsed time: {elapsed_time:.2f} seconds\")\n",
    "    assert actual == case[1], f\"Case {case[0]} failed. {actual} does not equal to {case[1]}\"\n",
    "    print('-' * 50)"
   ]
  },
  {
   "cell_type": "code",
   "execution_count": null,
   "id": "75b52ec3-061c-448d-890a-2b4e5b9f8f50",
   "metadata": {},
   "outputs": [],
   "source": []
  }
 ],
 "metadata": {
  "kernelspec": {
   "display_name": "Python 3 (ipykernel)",
   "language": "python",
   "name": "python3"
  },
  "language_info": {
   "codemirror_mode": {
    "name": "ipython",
    "version": 3
   },
   "file_extension": ".py",
   "mimetype": "text/x-python",
   "name": "python",
   "nbconvert_exporter": "python",
   "pygments_lexer": "ipython3",
   "version": "3.13.2"
  }
 },
 "nbformat": 4,
 "nbformat_minor": 5
}
