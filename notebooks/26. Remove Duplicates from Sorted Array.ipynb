{
 "cells": [
  {
   "cell_type": "markdown",
   "id": "eadd5652-7733-4428-80df-7e6525acaf99",
   "metadata": {},
   "source": [
    "# Remove Duplicates from Sorted Array\n",
    "\n",
    "Difficulty: Easy\n",
    "\n",
    "Given an integer array nums sorted in non-decreasing order, remove the duplicates in-place such that each unique element appears only once. The relative order of the elements should be kept the same. Then return the number of unique elements in nums.\n",
    "\n",
    "Consider the number of unique elements of nums to be k, to get accepted, you need to do the following things:\n",
    "\n",
    "    Change the array nums such that the first k elements of nums contain the unique elements in the order they were present in nums initially. The remaining elements of nums are not important as well as the size of nums.\n",
    "    Return k.\n",
    "\n",
    "Custom Judge:\n",
    "\n",
    "The judge will test your solution with the following code:\n",
    "\n",
    "```java\n",
    "int[] nums = [...]; // Input array\n",
    "int[] expectedNums = [...]; // The expected answer with correct length\n",
    "\n",
    "int k = removeDuplicates(nums); // Calls your implementation\n",
    "\n",
    "assert k == expectedNums.length;\n",
    "for (int i = 0; i < k; i++) {\n",
    "    assert nums[i] == expectedNums[i];\n",
    "}\n",
    "```\n",
    "\n",
    "If all assertions pass, then your solution will be accepted.\n",
    "\n",
    "## Examples\n",
    "\n",
    "Example 1:\n",
    "\n",
    "    Input: nums = [1,1,2]\n",
    "    Output: 2, nums = [1,2,_]\n",
    "    Explanation: Your function should return k = 2, with the first two elements of nums being 1 and 2 respectively.\n",
    "    It does not matter what you leave beyond the returned k (hence they are underscores).\n",
    "\n",
    "Example 2:\n",
    "\n",
    "    Input: nums = [0,0,1,1,1,2,2,3,3,4]\n",
    "    Output: 5, nums = [0,1,2,3,4,_,_,_,_,_]\n",
    "    Explanation: Your function should return k = 5, with the first five elements of nums being 0, 1, 2, 3, and 4 respectively.\n",
    "    It does not matter what you leave beyond the returned k (hence they are underscores).\n",
    "\n",
    " \n",
    "\n",
    "## Constraints\n",
    "\n",
    "- 1 <= nums.length <= 3 * 104\n",
    "- -100 <= nums[i] <= 100\n",
    "- nums is sorted in non-decreasing order.\n",
    "\n",
    "<div class=\"tag-container\">\n",
    "    <div class=\"tag blue\">Array</div>\n",
    "    <div class=\"tag purple\">Two Pointer</div>\n",
    "</div>\n"
   ]
  },
  {
   "cell_type": "markdown",
   "id": "0889c705-a110-4756-9819-ab18953fe6eb",
   "metadata": {},
   "source": [
    "## Loop and Flip\n",
    "\n",
    "### Solution 1 (Failed)\n",
    "\n",
    "Took me 2 hours for this simple question just to fail it.\n",
    "\n",
    "I was trying to swap while incrementing the pointer correctly.\n",
    "\n",
    "Submission link: https://leetcode.com/problems/remove-duplicates-from-sorted-array/submissions/1784908288/"
   ]
  },
  {
   "cell_type": "code",
   "execution_count": 1,
   "id": "f14735e0-9559-4470-bbbc-464ea4ea4f7e",
   "metadata": {},
   "outputs": [],
   "source": [
    "from typing import List\n",
    "\n",
    "class Solution:\n",
    "    def removeDuplicates(self, nums: List[int]) -> int:\n",
    "        if len(nums) == len(set(nums)):\n",
    "            return len(nums)\n",
    "        \n",
    "        left, right = 1, 2\n",
    "\n",
    "        while right < len(nums):\n",
    "            if nums[right] <= nums[left - 1]:\n",
    "                right += 1\n",
    "            else:\n",
    "                nums[left], nums[right] = nums[right], nums[left]\n",
    "                left += 1\n",
    "                right += 1\n",
    "\n",
    "        return left\n",
    "        "
   ]
  },
  {
   "cell_type": "markdown",
   "id": "be2e2877-2617-4ae1-80b4-fedcac5d087a",
   "metadata": {},
   "source": [
    "## Loop and Copy\n",
    "\n",
    "### Solution 1\n",
    "\n",
    "It is guaranteed to have at least 1 element.\n",
    "\n",
    "Submission link: https://leetcode.com/problems/remove-duplicates-from-sorted-array/submissions/1784941971/"
   ]
  },
  {
   "cell_type": "code",
   "execution_count": 2,
   "id": "cb2ac382-b956-4f27-a6b2-b3c2da5a504b",
   "metadata": {},
   "outputs": [],
   "source": [
    "from typing import List\n",
    "\n",
    "class Solution2:\n",
    "    def removeDuplicates(self, nums: List[int]) -> int:\n",
    "        left = 0\n",
    "\n",
    "        for i in range(len(nums)):\n",
    "            if nums[left] != nums[i]:\n",
    "                left += 1\n",
    "                nums[left] = nums[i]\n",
    "\n",
    "        return left + 1\n",
    "        "
   ]
  },
  {
   "cell_type": "markdown",
   "id": "06dfd59d-caf3-4a3f-a385-13e338737ed4",
   "metadata": {},
   "source": [
    "## Test cases"
   ]
  },
  {
   "cell_type": "code",
   "execution_count": 3,
   "id": "c090d3dd-559e-4494-b9e4-4d6721b0d232",
   "metadata": {},
   "outputs": [],
   "source": [
    "sln = Solution2()"
   ]
  },
  {
   "cell_type": "code",
   "execution_count": 4,
   "id": "d996fdf6-985b-4022-a987-76e6ac9fad04",
   "metadata": {},
   "outputs": [],
   "source": [
    "def assert_first_k_array(original: List[int], expected: List[int]):\n",
    "    for index, elem in enumerate(expected):\n",
    "        assert original[index] == elem, f\"Expect {original[index]} to be {elem}\""
   ]
  },
  {
   "cell_type": "code",
   "execution_count": 5,
   "id": "3fca1db1-73a8-4272-9995-f965ac22605e",
   "metadata": {},
   "outputs": [
    {
     "name": "stdout",
     "output_type": "stream",
     "text": [
      "Actual   :  1\n",
      "Expected :  1\n",
      "--------------------------------------------------\n",
      "Actual   :  1\n",
      "Expected :  1\n",
      "--------------------------------------------------\n",
      "Actual   :  2\n",
      "Expected :  2\n",
      "--------------------------------------------------\n",
      "Actual   :  2\n",
      "Expected :  2\n",
      "--------------------------------------------------\n",
      "Actual   :  3\n",
      "Expected :  3\n",
      "--------------------------------------------------\n",
      "Actual   :  5\n",
      "Expected :  5\n",
      "--------------------------------------------------\n",
      "Actual   :  3\n",
      "Expected :  3\n",
      "--------------------------------------------------\n"
     ]
    }
   ],
   "source": [
    "scenarios = [\n",
    "    [[1], 1, [1]],\n",
    "    [[1,1], 1, [1]],\n",
    "    [[1,2], 2, [1,2]],\n",
    "    [[1,1,2], 2, [1,2]],\n",
    "    [[1,2,3], 3, [1,2,3]],\n",
    "    [[0,0,1,1,1,2,2,3,3,4], 5, [0,1,2,3,4]],\n",
    "    [[1,2,3,3], 3, [1,2,3]], # failed for solution 1\n",
    "]\n",
    "\n",
    "for case in scenarios:\n",
    "    actual = sln.removeDuplicates(case[0])\n",
    "    print('Actual   : ', actual)\n",
    "    print('Expected : ', case[1])\n",
    "    print('-' * 50)\n",
    "    assert_first_k_array(case[0], case[2])\n",
    "    assert actual == case[1], f\"Case '{case[0]}' failed. {actual} does not equal to {case[1]}\""
   ]
  },
  {
   "cell_type": "code",
   "execution_count": null,
   "id": "689de1b0-95d4-4fb8-9c8d-72578bf30a29",
   "metadata": {},
   "outputs": [],
   "source": []
  }
 ],
 "metadata": {
  "kernelspec": {
   "display_name": "Python 3 (ipykernel)",
   "language": "python",
   "name": "python3"
  },
  "language_info": {
   "codemirror_mode": {
    "name": "ipython",
    "version": 3
   },
   "file_extension": ".py",
   "mimetype": "text/x-python",
   "name": "python",
   "nbconvert_exporter": "python",
   "pygments_lexer": "ipython3",
   "version": "3.13.2"
  }
 },
 "nbformat": 4,
 "nbformat_minor": 5
}
