{
 "cells": [
  {
   "cell_type": "markdown",
   "id": "0f442601-da2e-4d1e-a106-51f36c709ae9",
   "metadata": {},
   "source": [
    "# 3Sum Closest\n",
    "\n",
    "Given an integer array nums of length `n` and an integer `target`, find three integers in `nums` such that the sum is closest to `target`.\n",
    "\n",
    "Return the sum of the three integers.\n",
    "\n",
    "You may assume that each input would have exactly one solution.\n",
    "\n",
    "## Examples\n",
    "\n",
    "**Example 1**:\n",
    "\n",
    "Input: nums = [-1,2,1,-4], target = 1\n",
    "\n",
    "Output: 2\n",
    "\n",
    "Explanation: The sum that is closest to the target is 2. (-1 + 2 + 1 = 2).\n",
    "\n",
    "**Example 2**:\n",
    "\n",
    "Input: nums = [0,0,0], target = 1\n",
    "\n",
    "Output: 0\n",
    "\n",
    "Explanation: The sum that is closest to the target is 0. (0 + 0 + 0 = 0).\n",
    "\n",
    "## Constraints\n",
    "\n",
    "- 3 <= nums.length <= 500\n",
    "- -1000 <= nums[i] <= 1000\n",
    "- -104 <= target <= 104\n",
    "\n",
    "<div class=\"tag-container\">\n",
    "    <div class=\"tag blue\">Two Pointers</div>\n",
    "    <div class=\"tag red\">Array</div>\n",
    "    <div class=\"tag green\">Sorting</div>\n",
    "</div>\n"
   ]
  },
  {
   "cell_type": "markdown",
   "id": "130983e6-1368-48bd-95f3-403a6d1cf2bc",
   "metadata": {},
   "source": [
    "## Brute Force\n",
    "\n",
    "### Solution 1 (Wrong Answer Attempt)\n",
    "\n",
    "Initial idea is that have the list sorted, compute the sum for 3 adjacent numbers, calculate the diff with the target, and take the index of the lowest diff to resolve the actual value from the original diff array. All these are based on a false premise that the three adjacent sum will be the lowest and most optimal it can get.\n",
    "\n",
    "Submission link: https://leetcode.com/problems/3sum-closest/submissions/1506620214/"
   ]
  },
  {
   "cell_type": "code",
   "execution_count": 1,
   "id": "e66f8dd5-7969-4ac2-865d-3dc3c71a026e",
   "metadata": {},
   "outputs": [],
   "source": [
    "from typing import List"
   ]
  },
  {
   "cell_type": "code",
   "execution_count": 2,
   "id": "8ac81593-e92b-4a97-87e6-f51786f4f143",
   "metadata": {},
   "outputs": [],
   "source": [
    "class Solution:\n",
    "    def threeSumClosest(self, nums: List[int], target: int) -> int:\n",
    "        nums.sort()\n",
    "\n",
    "        sums = [sum(nums[i:i+3]) for i in range(len(nums) - 2)]\n",
    "\n",
    "        diff = [abs(i - target) for i in sums]\n",
    "\n",
    "        lowest_diff = min(diff)\n",
    "\n",
    "        index = diff.index(lowest_diff)\n",
    "        \n",
    "        return sums[index]"
   ]
  },
  {
   "cell_type": "markdown",
   "id": "733824eb-4234-4388-b4a0-4e7a46f3c859",
   "metadata": {},
   "source": [
    "## 2 Pointers\n",
    "\n",
    "### Solution 1\n",
    "\n",
    "<span style=\"color: red; font-style: italic;\">To be revised</span>\n",
    "\n",
    "Explanation with an example\n",
    "\n",
    "1. nums = [4,0,5,-5,3,3,0,-4,-5], len(nums) = 9, target = -2\n",
    "2. sorted = [-5,-5,-4,0,0,3,3,4,5]\n",
    "3. We need 3 pointers here, 1 fixed pointer and 2 dynamic pointer\n",
    "4. instantiate closest sum to large number\n",
    "5. For loop\n",
    "      1. Instantiate left to `i+1` and right to last position (`len(nums) - 1`)\n",
    "      2. For first iteration, we have `i` = 0, `left` = 1 and `right` = 8\n",
    "      3. current sum = `nums[0] + nums[1] + nums[8]` = -5 + -5 + 5 = -5\n",
    "      4. compute the magnitude of diff for `currentSum` and `closestSum` from `target`. if the current sum is lower, assign to closest sum.\n",
    "      5. since currentSum (-5) is lesser than target (-2), increment the left pointer\n",
    "      6. Now, we have `i` = 0, `left` = 2 and `right` = 8\n",
    "      7. current sum = `nums[0] + nums[2] + nums[8]` = -5 + -4 + 5 = -4\n",
    "      8. it has a more closer sum, then assign to closest_sum = -4\n",
    "      9. It is still lesser than target, increment the left\n",
    "      10. Repeat until exhausted\n",
    "11. return closest sum\n",
    "\n",
    "Submission link: https://leetcode.com/problems/3sum-closest/submissions/1756822493/\n",
    "\n",
    "Time complexity: $O(n^2)$"
   ]
  },
  {
   "cell_type": "code",
   "execution_count": 3,
   "id": "a6483772-06db-46ff-8679-5f53d8460c86",
   "metadata": {},
   "outputs": [],
   "source": [
    "import sys\n",
    "\n",
    "class Solution:\n",
    "    def threeSumClosest(self, nums: List[int], target: int) -> int:\n",
    "        nums.sort()\n",
    "        closestSum = sys.maxsize\n",
    "        \n",
    "        for i in range(len(nums) - 2):\n",
    "            left, right = i + 1, len(nums) - 1\n",
    "            while left < right:\n",
    "                currentSum = nums[i] + nums[left] + nums[right]\n",
    "\n",
    "                if abs(target - currentSum) < abs(target - closestSum):\n",
    "                    closestSum = currentSum\n",
    "\n",
    "                if currentSum < target:\n",
    "                    left += 1\n",
    "                else:\n",
    "                    right -= 1\n",
    "\n",
    "        return closestSum"
   ]
  },
  {
   "cell_type": "markdown",
   "id": "57197627-09f9-463a-b1fb-460168c2cc4f",
   "metadata": {},
   "source": [
    "## Test Cases"
   ]
  },
  {
   "cell_type": "code",
   "execution_count": 4,
   "id": "84af3f03-9912-4f50-bccc-76ed59ba3e76",
   "metadata": {},
   "outputs": [],
   "source": [
    "sln = Solution()"
   ]
  },
  {
   "cell_type": "code",
   "execution_count": 5,
   "id": "b6941dfc-011e-4196-9c31-e2fd61bd3c7f",
   "metadata": {},
   "outputs": [],
   "source": [
    "nums = [-1,2,1,-4]\n",
    "target = 1\n",
    "expected = 2\n",
    "\n",
    "actual = sln.threeSumClosest(nums, target)\n",
    "\n",
    "assert actual == expected"
   ]
  },
  {
   "cell_type": "code",
   "execution_count": 6,
   "id": "18bb55a6-75f4-46b6-bb00-11eadc85c349",
   "metadata": {},
   "outputs": [],
   "source": [
    "nums = [0,0,0]\n",
    "target = 1\n",
    "expected = 0\n",
    "\n",
    "actual = sln.threeSumClosest(nums, target)\n",
    "\n",
    "assert actual == expected"
   ]
  },
  {
   "cell_type": "code",
   "execution_count": 7,
   "id": "fd49266d-1b75-4ede-84b9-5bea0a2f8d2e",
   "metadata": {},
   "outputs": [],
   "source": [
    "nums = [4,0,5,-5,3,3,0,-4,-5]\n",
    "target = -2\n",
    "expected = -2\n",
    "\n",
    "actual = sln.threeSumClosest(nums, target)\n",
    "\n",
    "assert actual == expected"
   ]
  },
  {
   "cell_type": "code",
   "execution_count": null,
   "id": "ab8afc26-e0ea-43c5-81cd-43254d187202",
   "metadata": {},
   "outputs": [],
   "source": []
  }
 ],
 "metadata": {
  "kernelspec": {
   "display_name": "Python 3 (ipykernel)",
   "language": "python",
   "name": "python3"
  },
  "language_info": {
   "codemirror_mode": {
    "name": "ipython",
    "version": 3
   },
   "file_extension": ".py",
   "mimetype": "text/x-python",
   "name": "python",
   "nbconvert_exporter": "python",
   "pygments_lexer": "ipython3",
   "version": "3.13.2"
  }
 },
 "nbformat": 4,
 "nbformat_minor": 5
}
