{
 "cells": [
  {
   "cell_type": "markdown",
   "id": "e1eacd3d-50d0-48e8-b8ea-3cd0d6e328aa",
   "metadata": {},
   "source": [
    "# 4Sum\n",
    "\n",
    "Difficulty: Medium\n",
    "\n",
    "Given an array nums of n integers, return an array of all the unique quadruplets `[nums[a], nums[b], nums[c], nums[d]]` such that:\n",
    "\n",
    "- 0 <= a, b, c, d < n\n",
    "- a, b, c, and d are distinct.\n",
    "- `nums[a] + nums[b] + nums[c] + nums[d] == target`\n",
    "\n",
    "You may return the answer in any order.\n",
    "\n",
    "## Examples\n",
    "\n",
    "Example 1:\n",
    "\n",
    "    Input: nums = [1,0,-1,0,-2,2], target = 0\n",
    "    Output: [[-2,-1,1,2],[-2,0,0,2],[-1,0,0,1]]\n",
    "\n",
    "Example 2:\n",
    "\n",
    "    Input: nums = [2,2,2,2,2], target = 8\n",
    "    Output: [[2,2,2,2]]\n",
    "\n",
    "## Constraints\n",
    "\n",
    "    1 <= nums.length <= 200\n",
    "    -109 <= nums[i] <= 109\n",
    "    -109 <= target <= 109\n",
    "\n",
    "\n",
    "<div class=\"tag-container\">\n",
    "    <div class=\"tag blue\">Array</div>\n",
    "    <div class=\"tag green\">Two Pointers</div>\n",
    "    <div class=\"tag red\">Sorting</div>\n",
    "</div>"
   ]
  },
  {
   "cell_type": "markdown",
   "id": "3d157ad0-1099-44b7-8823-9f331e514be7",
   "metadata": {},
   "source": [
    "## Two Pointers\n",
    "\n",
    "### Solution 1\n",
    "\n",
    "Intuition:\n",
    "1. Initialize 2 fixed pointer and 2 dynamic pointer\n",
    "2. For example: `[1,0,-1,0,-2,2]`\n",
    "    1. First outer iteration: `i` will point to `nums[3]`, `j` will point to `nums[2]`, `left` will point to `nums[0]` and `right` to `nums[1]`\n",
    "    2. Second outer iteration: `i` will point to `nums[4]`, `j` will point to `nums[3]`, `left` will point to `nums[0]` and `right` to `nums[2]`\n",
    "    3. Third outer iteration: `i` will point to `nums[5]`, `j` will point to `nums[4]`, `left` will point to `nums[0]` and `right` to `nums[3]`\n",
    "    4. etc\n",
    "3. For each hit that equal `target`, add into `ans` array\n",
    "\n",
    "Time complexity: $O(n^3)$\n",
    "\n",
    "Submission link: https://leetcode.com/problems/4sum/submissions/1770019898/"
   ]
  },
  {
   "cell_type": "code",
   "execution_count": 1,
   "id": "201383a6-e5fb-4e4e-abad-6d9937829b45",
   "metadata": {},
   "outputs": [],
   "source": [
    "from typing import List\n",
    "\n",
    "class Solution:\n",
    "    def fourSum(self, nums: List[int], target: int) -> List[List[int]]:\n",
    "        nums.sort()\n",
    "\n",
    "        ans = []\n",
    "\n",
    "        for i in range(3, len(nums)):\n",
    "            if i < len(nums) - 1 and nums[i] == nums[i + 1]: continue\n",
    "            \n",
    "            for j in range(2, i):\n",
    "                if j < i - 1 and nums[j] == nums[j + 1]: continue\n",
    "                \n",
    "                left = 0\n",
    "                right = j - 1\n",
    "\n",
    "                while left < right:\n",
    "                    current = nums[left] + nums[right] + nums[j] + nums[i]\n",
    "                    if current > target:\n",
    "                        right -= 1\n",
    "                    elif current < target:\n",
    "                        left += 1\n",
    "                    else:\n",
    "                        ans.append([nums[left], nums[right], nums[j], nums[i]])\n",
    "\n",
    "                        while left < right and nums[left] == nums[left + 1]:\n",
    "                            left += 1\n",
    "                        while left < right and nums[right] == nums[right - 1]:\n",
    "                            right -= 1\n",
    "\n",
    "                        left += 1\n",
    "                        right -= 1\n",
    "\n",
    "        return ans\n",
    "                        "
   ]
  },
  {
   "cell_type": "markdown",
   "id": "83675438-3770-4942-856f-56b4373da2b6",
   "metadata": {},
   "source": [
    "## Test Cases"
   ]
  },
  {
   "cell_type": "code",
   "execution_count": 2,
   "id": "1c22d499-e505-47a8-9144-c55f8497fcb2",
   "metadata": {},
   "outputs": [],
   "source": [
    "sln = Solution()"
   ]
  },
  {
   "cell_type": "code",
   "execution_count": 3,
   "id": "792c7808-1a17-4a2f-a541-d8244b0f208a",
   "metadata": {},
   "outputs": [
    {
     "name": "stdout",
     "output_type": "stream",
     "text": [
      "Actual   :  [[-1, 0, 0, 1], [-2, 0, 0, 2], [-2, -1, 1, 2]]\n",
      "Expected :  [[-2, -1, 1, 2], [-2, 0, 0, 2], [-1, 0, 0, 1]]\n",
      "--------------------------------------------------\n",
      "Actual   :  [[2, 2, 2, 2]]\n",
      "Expected :  [[2, 2, 2, 2]]\n",
      "--------------------------------------------------\n",
      "Actual   :  [[-1, 0, 0, 1], [-2, 0, 0, 2], [-3, 0, 1, 2], [-2, -1, 1, 2], [-3, 0, 0, 3], [-2, -1, 0, 3], [-3, -1, 1, 3], [-3, -2, 2, 3]]\n",
      "Expected :  [[-3, -2, 2, 3], [-3, -1, 1, 3], [-3, 0, 0, 3], [-3, 0, 1, 2], [-2, -1, 0, 3], [-2, -1, 1, 2], [-2, 0, 0, 2], [-1, 0, 0, 1]]\n",
      "--------------------------------------------------\n"
     ]
    }
   ],
   "source": [
    "scenarios = [\n",
    "    [[1,0,-1,0,-2,2], 0, [[-2,-1,1,2],[-2,0,0,2],[-1,0,0,1]]],\n",
    "    [[2,2,2,2,2], 8, [[2,2,2,2]]],\n",
    "    [[-3,-2,-1,0,0,1,2,3], 0, [[-3,-2,2,3],[-3,-1,1,3],[-3,0,0,3],[-3,0,1,2],[-2,-1,0,3],[-2,-1,1,2],[-2,0,0,2],[-1,0,0,1]]],\n",
    "]\n",
    "\n",
    "for case in scenarios:\n",
    "    actual = sln.fourSum(case[0], case[1])\n",
    "    print('Actual   : ', actual)\n",
    "    print('Expected : ', case[2])\n",
    "    print('-' * 50)\n",
    "    assert len(actual) == len(case[2]), f\"Case '{case[0]}' failed. {len(actual)} does not equal to {len(case[2])}\""
   ]
  },
  {
   "cell_type": "code",
   "execution_count": null,
   "id": "413a8d20-2345-4301-8cec-7cb0dcc980b0",
   "metadata": {},
   "outputs": [],
   "source": []
  }
 ],
 "metadata": {
  "kernelspec": {
   "display_name": "Python 3 (ipykernel)",
   "language": "python",
   "name": "python3"
  },
  "language_info": {
   "codemirror_mode": {
    "name": "ipython",
    "version": 3
   },
   "file_extension": ".py",
   "mimetype": "text/x-python",
   "name": "python",
   "nbconvert_exporter": "python",
   "pygments_lexer": "ipython3",
   "version": "3.13.2"
  }
 },
 "nbformat": 4,
 "nbformat_minor": 5
}
