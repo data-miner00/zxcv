{
 "cells": [
  {
   "cell_type": "markdown",
   "id": "5de554ef-69ba-40dd-9683-0edf4d920c69",
   "metadata": {},
   "source": [
    "# 41. First Missing Positive\n",
    "\n",
    "Difficulty: Hard\n",
    "\n",
    "Given an unsorted integer array nums. Return the smallest positive integer that is not present in nums.\n",
    "\n",
    "You must implement an algorithm that runs in O(n) time and uses O(1) auxiliary space.\n",
    "\n",
    "## Examples\n",
    "\n",
    "Example 1:\n",
    "\n",
    "    Input: nums = [1,2,0]\n",
    "    Output: 3\n",
    "    Explanation: The numbers in the range [1,2] are all in the array.\n",
    "\n",
    "Example 2:\n",
    "\n",
    "    Input: nums = [3,4,-1,1]\n",
    "    Output: 2\n",
    "    Explanation: 1 is in the array but 2 is missing.\n",
    "\n",
    "Example 3:\n",
    "\n",
    "    Input: nums = [7,8,9,11,12]\n",
    "    Output: 1\n",
    "    Explanation: The smallest positive integer 1 is missing.\n",
    "\n",
    "## Constraints\n",
    "\n",
    "- 1 <= nums.length <= $10^5$\n",
    "- $-2^{31}$ <= nums[i] <= $2^{31} - 1$\n",
    "\n",
    "<div class=\"tag-container\">\n",
    "    <div class=\"tag blue\">Array</div>\n",
    "    <div class=\"tag purple\">Hash Table</div>\n",
    "</div>"
   ]
  },
  {
   "cell_type": "markdown",
   "id": "6401b3a0-b603-46cc-9671-ae61be2b0307",
   "metadata": {},
   "source": [
    "## Loop, Two Pass\n",
    "\n",
    "### Solution 1\n",
    "\n",
    "Intuition:\n",
    "1. Find the min and max\n",
    "2. Populate the hashtable\n",
    "3. If list is all negative or 0, return 1\n",
    "4. Loop from 1 to max, if not found in the table, return i\n",
    "5. Else, return max + 1\n",
    "\n",
    "Time complexity: $O(n)$\n",
    "Space complexity: Might not be $O(1)$\n",
    "\n",
    "Submission link: https://leetcode.com/problems/first-missing-positive/submissions/1804242014/"
   ]
  },
  {
   "cell_type": "code",
   "execution_count": 1,
   "id": "acc2adfa-ac9a-4fe9-81df-e5ed0316a171",
   "metadata": {},
   "outputs": [],
   "source": [
    "from typing import List\n",
    "import sys\n",
    "\n",
    "class Solution:\n",
    "    def firstMissingPositive(self, nums: List[int]) -> int:\n",
    "        min_pos = sys.maxsize\n",
    "        max_pos = 0\n",
    "\n",
    "        table = dict()\n",
    "        \n",
    "        for num in nums:\n",
    "            if num <= 0:\n",
    "                continue\n",
    "\n",
    "            table[num] = 1\n",
    "            \n",
    "            if num < min_pos: min_pos = num\n",
    "            if num > max_pos: max_pos = num\n",
    "\n",
    "        if min_pos == sys.maxsize:\n",
    "            return 1\n",
    "        \n",
    "        for i in range(1, max_pos + 1):\n",
    "            if i not in table:\n",
    "                return i\n",
    "\n",
    "        return max_pos + 1"
   ]
  },
  {
   "cell_type": "markdown",
   "id": "69a4d641-2cc8-4521-9c99-73c182540348",
   "metadata": {},
   "source": [
    "## Test cases"
   ]
  },
  {
   "cell_type": "code",
   "execution_count": 2,
   "id": "2184e410-bc28-462a-914c-3079e1063be5",
   "metadata": {},
   "outputs": [],
   "source": [
    "sln = Solution()"
   ]
  },
  {
   "cell_type": "code",
   "execution_count": 3,
   "id": "36ed2cbc-0850-4c6d-b151-40209ea1690d",
   "metadata": {},
   "outputs": [
    {
     "name": "stdout",
     "output_type": "stream",
     "text": [
      "Actual   :  3\n",
      "Expected :  3\n",
      "Elapsed time: 0.00 seconds\n",
      "--------------------------------------------------\n",
      "Actual   :  2\n",
      "Expected :  2\n",
      "Elapsed time: 0.00 seconds\n",
      "--------------------------------------------------\n",
      "Actual   :  1\n",
      "Expected :  1\n",
      "Elapsed time: 0.00 seconds\n",
      "--------------------------------------------------\n"
     ]
    }
   ],
   "source": [
    "import time\n",
    "\n",
    "scenarios = [\n",
    "    ([1,2,0], 3),\n",
    "    ([3,4,-1,1], 2),\n",
    "    ([7,8,9,11,12], 1),\n",
    "]\n",
    "\n",
    "for case in scenarios:\n",
    "    start_time = time.time()\n",
    "    actual = sln.firstMissingPositive(case[0])\n",
    "    end_time = time.time()\n",
    "    print('Actual   : ', actual)\n",
    "    print('Expected : ', case[1])\n",
    "    elapsed_time = end_time - start_time\n",
    "    print(f\"Elapsed time: {elapsed_time:.2f} seconds\")\n",
    "    assert actual == case[1], f\"Case {case[0]} failed. {actual} does not equal to {case[1]}\"\n",
    "    print('-' * 50)"
   ]
  },
  {
   "cell_type": "code",
   "execution_count": null,
   "id": "93563d1b-b826-45b2-80f5-dae7e9346c39",
   "metadata": {},
   "outputs": [],
   "source": []
  }
 ],
 "metadata": {
  "kernelspec": {
   "display_name": "Python 3 (ipykernel)",
   "language": "python",
   "name": "python3"
  },
  "language_info": {
   "codemirror_mode": {
    "name": "ipython",
    "version": 3
   },
   "file_extension": ".py",
   "mimetype": "text/x-python",
   "name": "python",
   "nbconvert_exporter": "python",
   "pygments_lexer": "ipython3",
   "version": "3.13.2"
  }
 },
 "nbformat": 4,
 "nbformat_minor": 5
}
