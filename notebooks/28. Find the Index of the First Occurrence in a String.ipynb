{
 "cells": [
  {
   "cell_type": "markdown",
   "id": "5440e284-8076-49c0-9db2-524acbdbed80",
   "metadata": {},
   "source": [
    "# Find the Index of the First Occurrence in a String\n",
    "\n",
    "Given two strings needle and haystack, return the index of the first occurrence of needle in haystack, or -1 if needle is not part of haystack.\n",
    "\n",
    "## Examples\n",
    "\n",
    "Example 1:\n",
    "\n",
    "    Input: haystack = \"sadbutsad\", needle = \"sad\"\n",
    "    Output: 0\n",
    "    Explanation: \"sad\" occurs at index 0 and 6.\n",
    "    The first occurrence is at index 0, so we return 0.\n",
    "\n",
    "Example 2:\n",
    "\n",
    "    Input: haystack = \"leetcode\", needle = \"leeto\"\n",
    "    Output: -1\n",
    "    Explanation: \"leeto\" did not occur in \"leetcode\", so we return -1.\n",
    "\n",
    "## Constraints\n",
    "\n",
    "- 1 <= haystack.length, needle.length <= 104\n",
    "- haystack and needle consist of only lowercase English characters.\n",
    "\n",
    "<div class=\"tag-container\">\n",
    "    <div class=\"tag blue\">String</div>\n",
    "    <div class=\"tag yellow\">Two Pointer</div>\n",
    "    <div class=\"tag green\">String matching</div>\n",
    "</div>"
   ]
  },
  {
   "cell_type": "markdown",
   "id": "aa58d604-f5f7-4471-99d4-0b83242efd9f",
   "metadata": {},
   "source": [
    "## Builtins\n",
    "\n",
    "### Solution 1\n",
    "\n",
    "Just use `find`.\n",
    "\n",
    "Submission link: https://leetcode.com/problems/find-the-index-of-the-first-occurrence-in-a-string/submissions/1786978702/"
   ]
  },
  {
   "cell_type": "code",
   "execution_count": 1,
   "id": "0d16685b-3af6-4e5d-be54-25a020887809",
   "metadata": {},
   "outputs": [],
   "source": [
    "class Solution:\n",
    "    def strStr(self, haystack: str, needle: str) -> int:\n",
    "        return haystack.find(needle)"
   ]
  },
  {
   "cell_type": "markdown",
   "id": "d5fb4174-796a-49a5-93e9-8edf71d35015",
   "metadata": {},
   "source": [
    "## Test cases"
   ]
  },
  {
   "cell_type": "code",
   "execution_count": 2,
   "id": "16c51c1e-7821-4d44-84e8-4aa7f34c8a90",
   "metadata": {},
   "outputs": [],
   "source": [
    "sln = Solution()"
   ]
  },
  {
   "cell_type": "code",
   "execution_count": 4,
   "id": "5e4d2f70-bbb3-4481-aac5-c69a36f455bf",
   "metadata": {},
   "outputs": [
    {
     "name": "stdout",
     "output_type": "stream",
     "text": [
      "Actual   :  0\n",
      "Expected :  0\n",
      "--------------------------------------------------\n",
      "Actual   :  -1\n",
      "Expected :  -1\n",
      "--------------------------------------------------\n"
     ]
    }
   ],
   "source": [
    "scenarios = [\n",
    "    [\"sadbutsad\", \"sad\", 0],\n",
    "    [\"leetcode\", \"leeto\", -1],\n",
    "]\n",
    "\n",
    "for case in scenarios:\n",
    "    actual = sln.strStr(case[0], case[1])\n",
    "    print('Actual   : ', actual)\n",
    "    print('Expected : ', case[2])\n",
    "    print('-' * 50)\n",
    "    assert actual == case[2], f\"Case '{case[0]}' failed. {actual} does not equal to {case[2]}\""
   ]
  },
  {
   "cell_type": "code",
   "execution_count": null,
   "id": "b15867e1-43b3-42eb-9aa6-b56bd9e32f2c",
   "metadata": {},
   "outputs": [],
   "source": []
  }
 ],
 "metadata": {
  "kernelspec": {
   "display_name": "Python 3 (ipykernel)",
   "language": "python",
   "name": "python3"
  },
  "language_info": {
   "codemirror_mode": {
    "name": "ipython",
    "version": 3
   },
   "file_extension": ".py",
   "mimetype": "text/x-python",
   "name": "python",
   "nbconvert_exporter": "python",
   "pygments_lexer": "ipython3",
   "version": "3.13.2"
  }
 },
 "nbformat": 4,
 "nbformat_minor": 5
}
