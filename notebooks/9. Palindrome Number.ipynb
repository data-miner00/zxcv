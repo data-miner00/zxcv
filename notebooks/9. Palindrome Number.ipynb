{
 "cells": [
  {
   "cell_type": "markdown",
   "id": "65ecc646-ee50-4b1b-bbfd-e0fa05258ce7",
   "metadata": {},
   "source": [
    "# Palindrome Number\n",
    "\n",
    "Difficulty: Easy\n",
    "\n",
    "Given an integer x, return true if x is a palindrome, and false otherwise.\n",
    " \n",
    "## Examples\n",
    "\n",
    "Example 1:\n",
    "\n",
    "Input: x = 121\n",
    "Output: true\n",
    "Explanation: 121 reads as 121 from left to right and from right to left.\n",
    "\n",
    "Example 2:\n",
    "\n",
    "Input: x = -121\n",
    "Output: false\n",
    "Explanation: From left to right, it reads -121. From right to left, it becomes 121-. Therefore it is not a palindrome.\n",
    "\n",
    "Example 3:\n",
    "\n",
    "Input: x = 10\n",
    "Output: false\n",
    "Explanation: Reads 01 from right to left. Therefore it is not a palindrome.\n",
    "\n",
    "Constraints:\n",
    "- -231 <= x <= 231 - 1\n",
    "\n",
    "Follow up: Could you solve it without converting the integer to a string?"
   ]
  },
  {
   "cell_type": "markdown",
   "id": "c8f5cbac-a533-4e4b-99e7-ef3c1735d9f3",
   "metadata": {},
   "source": [
    "## Brute Force\n",
    "\n",
    "### Solution 1\n",
    "\n",
    "1. If is negative number, it is not a palindrome\n",
    "2. Otherwise, compare the stringified version of the number with its reverse\n",
    "\n",
    "Time complexity: $O(1)$ ?\n",
    "\n",
    "Submission: https://leetcode.com/problems/palindrome-number/submissions/1496240038/"
   ]
  },
  {
   "cell_type": "code",
   "execution_count": 1,
   "id": "e650aa14-3b56-4829-9879-3b9d7b235a9e",
   "metadata": {},
   "outputs": [],
   "source": [
    "class Solution:\n",
    "    def isPalindrome(self, x: int) -> bool:\n",
    "        if x < 0: return False\n",
    "\n",
    "        return str(x) == str(x)[::-1]"
   ]
  },
  {
   "cell_type": "markdown",
   "id": "3031bda1-6a41-4e34-8993-9377f26256cf",
   "metadata": {},
   "source": [
    "## Test Cases"
   ]
  },
  {
   "cell_type": "code",
   "execution_count": 2,
   "id": "d7fd19f2-32b6-461e-b626-f2f3238e371e",
   "metadata": {},
   "outputs": [],
   "source": [
    "sln = Solution()"
   ]
  },
  {
   "cell_type": "code",
   "execution_count": 3,
   "id": "4cbd5890-6c3d-4b11-9d70-c00379a52ab4",
   "metadata": {},
   "outputs": [],
   "source": [
    "num = 121\n",
    "actual = sln.isPalindrome(num)\n",
    "\n",
    "assert actual"
   ]
  },
  {
   "cell_type": "code",
   "execution_count": 4,
   "id": "43487cf3-c483-4a19-a86a-a5ec883ff2fb",
   "metadata": {},
   "outputs": [],
   "source": [
    "num = -121\n",
    "actual = sln.isPalindrome(num)\n",
    "\n",
    "assert not actual"
   ]
  },
  {
   "cell_type": "code",
   "execution_count": 5,
   "id": "b7843b7f-d788-4400-8ec5-9231a05aa954",
   "metadata": {},
   "outputs": [],
   "source": [
    "num = 10\n",
    "actual = sln.isPalindrome(num)\n",
    "\n",
    "assert not actual"
   ]
  },
  {
   "cell_type": "code",
   "execution_count": null,
   "id": "73a3803f-ba12-4530-be67-87d92e48b8e4",
   "metadata": {},
   "outputs": [],
   "source": []
  }
 ],
 "metadata": {
  "kernelspec": {
   "display_name": "Python 3 (ipykernel)",
   "language": "python",
   "name": "python3"
  },
  "language_info": {
   "codemirror_mode": {
    "name": "ipython",
    "version": 3
   },
   "file_extension": ".py",
   "mimetype": "text/x-python",
   "name": "python",
   "nbconvert_exporter": "python",
   "pygments_lexer": "ipython3",
   "version": "3.13.2"
  }
 },
 "nbformat": 4,
 "nbformat_minor": 5
}
