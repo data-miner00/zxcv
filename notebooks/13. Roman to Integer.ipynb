{
 "cells": [
  {
   "cell_type": "markdown",
   "id": "3273cbe7-1910-4ba2-818e-eb536a0511a0",
   "metadata": {},
   "source": [
    "# Roman to Integer\n",
    "\n",
    "Difficulty: Easy\n",
    "\n",
    "Roman numerals are represented by seven different symbols: I, V, X, L, C, D and M.\n",
    "\n",
    "| Symbol | Value |\n",
    "| --- | --- |\n",
    "| I | 1 |\n",
    "| V | 5 |\n",
    "| X | 10 |\n",
    "| L | 50 |\n",
    "| C | 100 |\n",
    "| D | 500 |\n",
    "| M | 1000 |\n",
    "\n",
    "For example, 2 is written as II in Roman numeral, just two ones added together. 12 is written as XII, which is simply X + II. The number 27 is written as XXVII, which is XX + V + II.\n",
    "\n",
    "Roman numerals are usually written largest to smallest from left to right. However, the numeral for four is not IIII. Instead, the number four is written as IV. Because the one is before the five we subtract it making four. The same principle applies to the number nine, which is written as IX. There are six instances where subtraction is used:\n",
    "\n",
    "- I can be placed before V (5) and X (10) to make 4 and 9. \n",
    "- X can be placed before L (50) and C (100) to make 40 and 90. \n",
    "- C can be placed before D (500) and M (1000) to make 400 and 900.\n",
    "\n",
    "Given a roman numeral, convert it to an integer.\n",
    "\n",
    "## Examples\n",
    "\n",
    "Example 1:\n",
    "\n",
    "Input: s = \"III\"\n",
    "Output: 3\n",
    "Explanation: III = 3.\n",
    "\n",
    "Example 2:\n",
    "\n",
    "Input: s = \"LVIII\"\n",
    "Output: 58\n",
    "Explanation: L = 50, V= 5, III = 3.\n",
    "\n",
    "Example 3:\n",
    "\n",
    "Input: s = \"MCMXCIV\"\n",
    "Output: 1994\n",
    "Explanation: M = 1000, CM = 900, XC = 90 and IV = 4.\n",
    "\n",
    "\n",
    "## Constraints\n",
    "\n",
    "- 1 <= s.length <= 15\n",
    "- s contains only the characters ('I', 'V', 'X', 'L', 'C', 'D', 'M').\n",
    "- It is guaranteed that s is a valid roman numeral in the range [1, 3999].\n",
    "\n",
    "<div class=\"tag-container\">\n",
    "    <div class=\"tag purple\">Hash table</div>\n",
    "    <div class=\"tag yellow\">Math</div>\n",
    "    <div class=\"tag pink\">String</div>\n",
    "</div>"
   ]
  },
  {
   "cell_type": "markdown",
   "id": "4cf67089-dd03-4666-abde-d5577a12b984",
   "metadata": {},
   "source": [
    "## Math\n",
    "\n",
    "### Solution 1\n",
    "\n",
    "Intuition:\n",
    "1. Reverse the roman string.\n",
    "2. Access each character, assign it to `previous` each time.\n",
    "3. Compared to previous, if it is smaller than `previous`, deduct from total and add to total otherwise\n",
    "4. By the end, should get a converted number\n",
    "\n",
    "Example:\n",
    "1. IV as we all known is 4\n",
    "2. Reverse it become `VI`\n",
    "3. First is `V` = 5. Add to total. Total = 4\n",
    "4. Second is `I`. It is smaller than `V`, so deduct `I` from total. 5 - 1 = 4\n",
    "5. Answer is 4\n",
    "\n",
    "Time complexity: $O(n)$\n",
    "\n",
    "Submission link: https://leetcode.com/problems/roman-to-integer/submissions/1496285840/"
   ]
  },
  {
   "cell_type": "code",
   "execution_count": 1,
   "id": "979460ef-0ce2-4c28-b09b-c1ff3b99ef4c",
   "metadata": {},
   "outputs": [],
   "source": [
    "class Solution:\n",
    "    def romanToInt(self, s: str) -> int:\n",
    "        symbols = {\n",
    "            \"I\": 1,\n",
    "            \"V\": 5,\n",
    "            \"X\": 10,\n",
    "            \"L\": 50,\n",
    "            \"C\": 100,\n",
    "            \"D\": 500,\n",
    "            \"M\": 1000\n",
    "        }\n",
    "\n",
    "        result = 0\n",
    "        previous = None\n",
    "\n",
    "        for ch in s[::-1]:\n",
    "            if previous is not None and symbols[ch] < symbols[previous]:\n",
    "                result -= symbols[ch]\n",
    "            else:\n",
    "                result += symbols[ch]\n",
    "\n",
    "            previous = ch\n",
    "        \n",
    "        return result"
   ]
  },
  {
   "cell_type": "markdown",
   "id": "ba781903-9358-45c5-a83e-1f3cf4977a14",
   "metadata": {},
   "source": [
    "## Test cases"
   ]
  },
  {
   "cell_type": "code",
   "execution_count": 2,
   "id": "c43514d3-4cc6-43b5-b317-fe0a69ea7be2",
   "metadata": {},
   "outputs": [],
   "source": [
    "sln = Solution()"
   ]
  },
  {
   "cell_type": "code",
   "execution_count": 12,
   "id": "40c6635f-b979-4e4d-99a0-1425dcaffe85",
   "metadata": {},
   "outputs": [],
   "source": [
    "scenarios = [\n",
    "    [\"IV\", 4],\n",
    "    [\"III\", 3],\n",
    "    [\"LVIII\", 58],\n",
    "    [\"MCMXCIV\", 1994],\n",
    "]\n",
    "\n",
    "for case in scenarios:\n",
    "    actual = sln.romanToInt(case[0])\n",
    "\n",
    "    assert actual == case[1], f\"Case '{case[0]}' failed. {actual} does not equal to {case[1]}\""
   ]
  }
 ],
 "metadata": {
  "kernelspec": {
   "display_name": "Python 3 (ipykernel)",
   "language": "python",
   "name": "python3"
  },
  "language_info": {
   "codemirror_mode": {
    "name": "ipython",
    "version": 3
   },
   "file_extension": ".py",
   "mimetype": "text/x-python",
   "name": "python",
   "nbconvert_exporter": "python",
   "pygments_lexer": "ipython3",
   "version": "3.13.2"
  }
 },
 "nbformat": 4,
 "nbformat_minor": 5
}
