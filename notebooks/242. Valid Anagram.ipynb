{
 "cells": [
  {
   "cell_type": "markdown",
   "id": "6231ec77-dbfd-4686-8555-861d35481e88",
   "metadata": {},
   "source": [
    "# Valid Anagram\n",
    "\n",
    "Difficulty: Easy\n",
    "\n",
    "Given two strings `s` and `t`, return true if `t` is an of `s`, and false otherwise.\n",
    "\n",
    "\n",
    "## Examples\n",
    "\n",
    "Example 1:\n",
    "\n",
    "Input: s = \"anagram\", t = \"nagaram\"\n",
    "\n",
    "Output: true\n",
    "\n",
    "Example 2:\n",
    "\n",
    "Input: s = \"rat\", t = \"car\"\n",
    "\n",
    "Output: false\n",
    "\n",
    "\n",
    "## Constraints\n",
    "\n",
    "1. 1 <= s.length, t.length <= 5 * 104\n",
    "2. s and t consist of lowercase English letters.\n",
    "\n",
    "Follow up: What if the inputs contain Unicode characters? How would you adapt your solution to such a case?\n",
    "\n",
    "<div class=\"tag-container\">\n",
    "    <div class=\"tag red\">Hash Table</div>\n",
    "    <div class=\"tag orange\">String</div>\n",
    "    <div class=\"tag blue\">Sorting</div>\n",
    "</div>"
   ]
  },
  {
   "cell_type": "markdown",
   "id": "75a08172-eef1-4f63-bbbe-478b0bfd1f23",
   "metadata": {},
   "source": [
    "## Brute Force\n",
    "\n",
    "### Solution 1\n",
    "\n",
    "Steps:\n",
    "\n",
    "1. Construct 2 dictionaries to keep track of the count for each characters in both strings\n",
    "2. Compare the equality for both dictionaries\n",
    "\n",
    "Time complexity: $O(n)$\n",
    "\n",
    "Submission link: https://leetcode.com/problems/valid-anagram/submissions/1497028012/"
   ]
  },
  {
   "cell_type": "code",
   "execution_count": 1,
   "id": "6954f826-fc13-4958-8dbb-f3f2d3bd7162",
   "metadata": {},
   "outputs": [],
   "source": [
    "class Solution:\n",
    "    def isAnagram(self, s: str, t: str) -> bool:\n",
    "        sdic = dict()\n",
    "        tdic = dict()\n",
    "        for ch in s:\n",
    "            if ch in sdic:\n",
    "                sdic[ch] += 1\n",
    "            else:\n",
    "                sdic[ch] = 1\n",
    "        \n",
    "        for ch in t:\n",
    "            if ch in tdic:\n",
    "                tdic[ch] += 1\n",
    "            else:\n",
    "                tdic[ch] = 1\n",
    "\n",
    "        return sdic == tdic"
   ]
  },
  {
   "cell_type": "markdown",
   "id": "3141280e-29a7-4422-986a-c04bb8339cad",
   "metadata": {},
   "source": [
    "### Solution 2\n",
    "\n",
    "Use built-in `Counter`.\n",
    "\n",
    "Time complexity: $O(n)$\n",
    "\n",
    "Space complexity: $O(n)$\n",
    "\n",
    "Submission link: https://leetcode.com/problems/valid-anagram/submissions/1675081651/"
   ]
  },
  {
   "cell_type": "code",
   "execution_count": 2,
   "id": "9a1fb69e-1f11-406e-b3e3-300cbf78b4d5",
   "metadata": {},
   "outputs": [],
   "source": [
    "class Solution:\n",
    "    def isAnagram(self, s: str, t: str) -> bool:\n",
    "        from collections import Counter\n",
    "        \n",
    "        s_counter = Counter(s)\n",
    "        t_counter = Counter(t)\n",
    "\n",
    "        return s_counter == t_counter"
   ]
  },
  {
   "cell_type": "markdown",
   "id": "c1863724-bdd8-4f4e-870c-78519ae5367f",
   "metadata": {},
   "source": [
    "## Sorting\n",
    "\n",
    "### Solution 1\n",
    "\n",
    "Steps:\n",
    "\n",
    "1. Sort both strings in a certain order\n",
    "2. They should be the same if they are having the same amount of character appearance\n",
    "\n",
    "Time complexity: Sort $O(n log n)$\n",
    "\n",
    "Submission link: https://leetcode.com/problems/valid-anagram/submissions/1675074055/"
   ]
  },
  {
   "cell_type": "code",
   "execution_count": 3,
   "id": "a39348d0-5d6e-44f4-bd9b-36f2cc8ac179",
   "metadata": {},
   "outputs": [],
   "source": [
    "class Solution:\n",
    "    def isAnagram(self, s: str, t: str) -> bool:\n",
    "        s = sorted(s)\n",
    "        t = sorted(t)\n",
    "\n",
    "        return s == t"
   ]
  },
  {
   "cell_type": "markdown",
   "id": "0226bf0d-1c59-44e8-b5c9-e30946f7deeb",
   "metadata": {},
   "source": [
    "## Test cases"
   ]
  },
  {
   "cell_type": "code",
   "execution_count": 4,
   "id": "0e3bb36f-d1f6-4aa0-aa8b-64f0601c0706",
   "metadata": {},
   "outputs": [],
   "source": [
    "sln = Solution()"
   ]
  },
  {
   "cell_type": "code",
   "execution_count": 5,
   "id": "3aadfe3a-15aa-480b-b548-1e184ae9bea2",
   "metadata": {},
   "outputs": [],
   "source": [
    "s = \"anagram\"\n",
    "t = \"nagaram\"\n",
    "\n",
    "expected = True\n",
    "\n",
    "actual = sln.isAnagram(s, t)\n",
    "\n",
    "assert actual == expected"
   ]
  },
  {
   "cell_type": "code",
   "execution_count": 6,
   "id": "6b6b183a-bc80-4906-b2d9-dfb1281fcb1b",
   "metadata": {},
   "outputs": [],
   "source": [
    "s = \"rat\"\n",
    "t = \"car\"\n",
    "\n",
    "expected = False\n",
    "\n",
    "actual = sln.isAnagram(s, t)\n",
    "\n",
    "assert actual == expected"
   ]
  },
  {
   "cell_type": "code",
   "execution_count": null,
   "id": "2c3512fa-f456-4595-ba86-32c81cf571e7",
   "metadata": {},
   "outputs": [],
   "source": []
  }
 ],
 "metadata": {
  "kernelspec": {
   "display_name": "Python 3 (ipykernel)",
   "language": "python",
   "name": "python3"
  },
  "language_info": {
   "codemirror_mode": {
    "name": "ipython",
    "version": 3
   },
   "file_extension": ".py",
   "mimetype": "text/x-python",
   "name": "python",
   "nbconvert_exporter": "python",
   "pygments_lexer": "ipython3",
   "version": "3.13.2"
  }
 },
 "nbformat": 4,
 "nbformat_minor": 5
}
