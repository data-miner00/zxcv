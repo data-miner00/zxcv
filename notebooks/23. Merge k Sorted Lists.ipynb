{
 "cells": [
  {
   "cell_type": "markdown",
   "id": "cd3cb08f-f59a-4ee3-9f3b-6e8e899eb76d",
   "metadata": {},
   "source": [
    "# Merge k Sorted Lists\n",
    "\n",
    "Difficulty: Hard\n",
    "\n",
    "You are given an array of k linked-lists lists, each linked-list is sorted in ascending order.\n",
    "\n",
    "Merge all the linked-lists into one sorted linked-list and return it.\n",
    "\n",
    "## Examples\n",
    "\n",
    "Example 1:\n",
    "\n",
    "    Input: lists = [[1,4,5],[1,3,4],[2,6]]\n",
    "    Output: [1,1,2,3,4,4,5,6]\n",
    "    Explanation: The linked-lists are:\n",
    "    [\n",
    "      1->4->5,\n",
    "      1->3->4,\n",
    "      2->6\n",
    "    ]\n",
    "    merging them into one sorted linked list:\n",
    "    1->1->2->3->4->4->5->6\n",
    "\n",
    "Example 2:\n",
    "\n",
    "    Input: lists = []\n",
    "    Output: []\n",
    "\n",
    "Example 3:\n",
    "\n",
    "    Input: lists = [[]]\n",
    "    Output: []\n",
    "\n",
    "## Constraints\n",
    "\n",
    "- k == lists.length\n",
    "- 0 <= k <= 104\n",
    "- 0 <= lists[i].length <= 500\n",
    "- -104 <= lists[i][j] <= 104\n",
    "- lists[i] is sorted in ascending order.\n",
    "- The sum of lists[i].length will not exceed 104.\n",
    "\n",
    "<div class=\"tag-container\">\n",
    "    <div class=\"tag red\">Linked list</div>\n",
    "    <div class=\"tag green\">Divide and Conquer</div>\n",
    "    <div class=\"tag blue\">Heap/Priority Queue</div>\n",
    "    <div class=\"tag yellow\">Merge sort</div>\n",
    "</div>"
   ]
  },
  {
   "cell_type": "markdown",
   "id": "e4c1cab7-54f7-480c-b902-3c68bee1b1b3",
   "metadata": {},
   "source": [
    "## Use mergeTwoLists\n",
    "\n",
    "### Solution 1\n",
    "\n",
    "Beats: 5.04% (need a better solution)\n",
    "\n",
    "Submission link: https://leetcode.com/problems/merge-k-sorted-lists/submissions/1776535901/"
   ]
  },
  {
   "cell_type": "code",
   "execution_count": 1,
   "id": "fd67af82-b9ed-48c1-8da2-48eed4172b41",
   "metadata": {},
   "outputs": [],
   "source": [
    "from typing import Optional, List\n",
    "\n",
    "class ListNode:\n",
    "    def __init__(self, val=0, next=None):\n",
    "        self.val = val\n",
    "        self.next = next"
   ]
  },
  {
   "cell_type": "code",
   "execution_count": 2,
   "id": "407059a7-6f48-491e-8436-7e2e7f9dcc37",
   "metadata": {},
   "outputs": [],
   "source": [
    "class Solution:\n",
    "    def mergeKLists(self, lists: List[Optional[ListNode]]) -> Optional[ListNode]:\n",
    "        node = None\n",
    "        for l in lists:\n",
    "            if not node:\n",
    "                node = l\n",
    "            else:\n",
    "                node = self.mergeTwoLists(node, l)\n",
    "\n",
    "        return node\n",
    "        \n",
    "    def mergeTwoLists(self, list1: Optional[ListNode], list2: Optional[ListNode]) -> Optional[ListNode]:\n",
    "        if not list1: return list2\n",
    "        if not list2: return list1\n",
    "\n",
    "        if list1.val < list2.val:\n",
    "            list1.next = self.mergeTwoLists(list1.next, list2)\n",
    "            return list1\n",
    "        else:\n",
    "            list2.next = self.mergeTwoLists(list1, list2.next)\n",
    "            return list2"
   ]
  },
  {
   "cell_type": "markdown",
   "id": "4380d94a-5189-4fe2-bbad-782ad3d03caf",
   "metadata": {},
   "source": [
    "## Test cases\n"
   ]
  },
  {
   "cell_type": "code",
   "execution_count": 3,
   "id": "ea06fd34-3843-47c2-8898-d524e95ed611",
   "metadata": {},
   "outputs": [],
   "source": [
    "sln = Solution()"
   ]
  },
  {
   "cell_type": "code",
   "execution_count": 4,
   "id": "f17b4a9a-add2-49cc-86ac-90e54fa1db57",
   "metadata": {},
   "outputs": [],
   "source": [
    "def makeList(nums: List[int]) -> Optional[ListNode]:\n",
    "    if not nums: return None\n",
    "    head = None\n",
    "    pointer = None\n",
    "    \n",
    "    for i in nums:\n",
    "        current = ListNode(i)\n",
    "        if not head:\n",
    "            head = current\n",
    "            pointer = current\n",
    "        else:\n",
    "            pointer.next = current\n",
    "            pointer = pointer.next\n",
    "\n",
    "    return head"
   ]
  },
  {
   "cell_type": "code",
   "execution_count": 5,
   "id": "4b5b69c8-727c-4385-90c0-d17ba7ea29f4",
   "metadata": {},
   "outputs": [],
   "source": [
    "def collectToList(nums: Optional[ListNode]) -> List[int]:\n",
    "    if not nums: return []\n",
    "    \n",
    "    node = nums\n",
    "    res = [node.val]\n",
    "    while node.next:\n",
    "        node = node.next\n",
    "        res.append(node.val)\n",
    "\n",
    "    return res"
   ]
  },
  {
   "cell_type": "code",
   "execution_count": 6,
   "id": "04819e58-eab7-47f4-9db2-cdd41aa39ecc",
   "metadata": {},
   "outputs": [
    {
     "name": "stdout",
     "output_type": "stream",
     "text": [
      "Actual   :  [1, 1, 2, 3, 4, 4, 5, 6]\n",
      "Expected :  [1, 1, 2, 3, 4, 4, 5, 6]\n",
      "--------------------------------------------------\n",
      "Actual   :  []\n",
      "Expected :  []\n",
      "--------------------------------------------------\n",
      "Actual   :  []\n",
      "Expected :  []\n",
      "--------------------------------------------------\n"
     ]
    }
   ],
   "source": [
    "scenarios = [\n",
    "    [[\n",
    "        makeList([1,4,5]),\n",
    "        makeList([1,3,4]),\n",
    "        makeList([2,6])\n",
    "    ], [1,1,2,3,4,4,5,6]],\n",
    "    [[], []],\n",
    "    [[makeList([])], []],\n",
    "]\n",
    "\n",
    "for case in scenarios:\n",
    "    actual = collectToList(sln.mergeKLists(case[0]))\n",
    "    print('Actual   : ', actual)\n",
    "    print('Expected : ', case[1])\n",
    "    print('-' * 50)\n",
    "    assert actual == case[1], f\"Case '{case[0]}' failed. {actual} does not equal to {case[1]}\""
   ]
  }
 ],
 "metadata": {
  "kernelspec": {
   "display_name": "Python 3 (ipykernel)",
   "language": "python",
   "name": "python3"
  },
  "language_info": {
   "codemirror_mode": {
    "name": "ipython",
    "version": 3
   },
   "file_extension": ".py",
   "mimetype": "text/x-python",
   "name": "python",
   "nbconvert_exporter": "python",
   "pygments_lexer": "ipython3",
   "version": "3.13.2"
  }
 },
 "nbformat": 4,
 "nbformat_minor": 5
}
