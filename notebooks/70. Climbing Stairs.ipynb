{
 "cells": [
  {
   "cell_type": "markdown",
   "id": "f9526d1e-20c6-41d8-b0bd-a29f37e18a56",
   "metadata": {},
   "source": [
    "# Climbing Stairs\n",
    "\n",
    "Difficulty: Easy\n",
    "\n",
    "You are climbing a staircase. It takes n steps to reach the top.\n",
    "\n",
    "Each time you can either climb 1 or 2 steps. In how many distinct ways can you climb to the top?\n",
    "\n",
    "## Examples\n",
    "\n",
    "Example 1:\n",
    "\n",
    "    Input: n = 2\n",
    "    Output: 2\n",
    "    Explanation: There are two ways to climb to the top.\n",
    "    1. 1 step + 1 step\n",
    "    2. 2 steps\n",
    "\n",
    "Example 2:\n",
    "\n",
    "    Input: n = 3\n",
    "    Output: 3\n",
    "    Explanation: There are three ways to climb to the top.\n",
    "    1. 1 step + 1 step + 1 step\n",
    "    2. 1 step + 2 steps\n",
    "    3. 2 steps + 1 step\n",
    "\n",
    "## Constraints\n",
    "\n",
    "- 1 <= n <= 45\n",
    "\n",
    "<div class=\"tag-container\">\n",
    "    <div class=\"tag purple\">math</div>\n",
    "    <div class=\"tag blue\">dynamic programming</div>\n",
    "    <div class=\"tag orange\">memoization</div>\n",
    "</div>"
   ]
  },
  {
   "cell_type": "markdown",
   "id": "99cb7af3-70c1-4910-8a58-023b7ebabbb3",
   "metadata": {},
   "source": [
    "## Brute Force Recursion\n",
    "\n",
    "### Solution 1\n",
    "\n",
    "1. Define a `__climb` method that takes in `step` for current step (1 or 2) and `left` (how much steps left to reach the top)\n",
    "2. If the is no more `left` steps, means it is at the top. Increment the `ways` variable as 1 route was discovered.\n",
    "3. Otherwise, continue to climb for 1 step and additionally 2 step if the `left - step` is more than 2\n",
    "4. The main method will attempt for both route that starts with 1 and 2 steps.\n",
    "5. The end of the function will return total discovered ways to the caller\n",
    "\n",
    "Time complexity: $O(2^n)$\n",
    "\n",
    "Submission link (Runtime Error): https://leetcode.com/problems/climbing-stairs/submissions/1746622622/\n",
    "\n",
    "Error: \n",
    "```\n",
    "RecursionError: maximum recursion depth exceeded\n",
    "  [Previous line repeated 997 more times]\n",
    "    self.__climb(1, left - step)\n",
    "Line 14 in __climb (Solution.py)\n",
    "    self.__climb(1, left - step)\n",
    "Line 14 in __climb (Solution.py)\n",
    "    self.__climb(1, left - step)\n",
    "Line 14 in __climb (Solution.py)\n",
    "```"
   ]
  },
  {
   "cell_type": "code",
   "execution_count": 1,
   "id": "2fa48037-c6c7-4014-b420-b1157335578d",
   "metadata": {},
   "outputs": [],
   "source": [
    "class Solution:\n",
    "    def climbStairs(self, n: int) -> int:\n",
    "        self.__ways = 0\n",
    "        self.__climb(1, n)\n",
    "        self.__climb(2, n)\n",
    "\n",
    "        return self.__ways\n",
    "\n",
    "    def __climb(self, step: int, left: int):\n",
    "        if left == 0:\n",
    "            self.__ways += 1\n",
    "            return\n",
    "\n",
    "        self.__climb(1, left - step)\n",
    "\n",
    "        if left - step >= 2:\n",
    "            self.__climb(2, left - step)\n"
   ]
  },
  {
   "cell_type": "markdown",
   "id": "34d9410d-2545-4744-a17e-b29907d670db",
   "metadata": {},
   "source": [
    "## Solution 2\n",
    "\n",
    "Solution 1 with memoization.\n",
    "\n",
    "Time complexity: $O(n)$\n",
    "\n",
    "Submission link: https://leetcode.com/problems/climbing-stairs/submissions/1746639446/\n"
   ]
  },
  {
   "cell_type": "code",
   "execution_count": 2,
   "id": "ee6f60b6-25a4-475f-b3b0-59978f3ac941",
   "metadata": {},
   "outputs": [],
   "source": [
    "class Solution:\n",
    "    memo = {}\n",
    "    \n",
    "    def climbStairs(self, n: int) -> int:\n",
    "        if n < 0:\n",
    "            return 0\n",
    "        if n == 0:\n",
    "            return 1\n",
    "        if n in self.memo:\n",
    "            return self.memo[n]\n",
    "\n",
    "        current = self.climbStairs(n - 1) + self.climbStairs(n - 2)\n",
    "        self.memo[n] = current\n",
    "        return current\n"
   ]
  },
  {
   "cell_type": "markdown",
   "id": "fe8b24b6-8f26-4b80-9337-42b4bd630ee7",
   "metadata": {},
   "source": [
    "### Solution 3\n",
    "\n",
    "Solution 2 with built-in `lru_cache`\n",
    "\n",
    "Time complexity: $O(n)$\n",
    "\n",
    "Submission link: https://leetcode.com/problems/climbing-stairs/submissions/1746643436/"
   ]
  },
  {
   "cell_type": "code",
   "execution_count": 3,
   "id": "eee7ebcd-33a7-41d0-a32f-b154ddf2ec31",
   "metadata": {},
   "outputs": [],
   "source": [
    "from functools import lru_cache\n",
    "\n",
    "class Solution:\n",
    "    @lru_cache(maxsize=None)\n",
    "    def climbStairs(self, n: int) -> int:\n",
    "        if n < 0:\n",
    "            return 0\n",
    "        if n == 0:\n",
    "            return 1\n",
    "        return self.climbStairs(n - 1) + self.climbStairs(n - 2)\n"
   ]
  },
  {
   "cell_type": "markdown",
   "id": "d5063d54-a531-4839-b68d-bb681b144720",
   "metadata": {},
   "source": [
    "## Dynamic Programming\n",
    "\n",
    "Todo"
   ]
  },
  {
   "cell_type": "markdown",
   "id": "9b0db5d5-58ec-4cc4-916f-a1edb6a401fc",
   "metadata": {},
   "source": [
    "## Test Cases"
   ]
  },
  {
   "cell_type": "code",
   "execution_count": 4,
   "id": "7702835a-7e78-4f68-a764-006b2ecb5ac7",
   "metadata": {},
   "outputs": [],
   "source": [
    "sln = Solution()"
   ]
  },
  {
   "cell_type": "code",
   "execution_count": 5,
   "id": "fba01fa0-d3a8-4ee4-8dc1-4f4eff70b9b2",
   "metadata": {},
   "outputs": [],
   "source": [
    "input_val = 2\n",
    "expected = 2\n",
    "actual = sln.climbStairs(input_val)\n",
    "\n",
    "assert actual == expected"
   ]
  },
  {
   "cell_type": "code",
   "execution_count": 6,
   "id": "61881c86-8381-4a95-a8ab-95ff2e49b9f6",
   "metadata": {},
   "outputs": [],
   "source": [
    "input_val = 3\n",
    "expected = 3\n",
    "actual = sln.climbStairs(input_val)\n",
    "\n",
    "assert actual == expected"
   ]
  },
  {
   "cell_type": "code",
   "execution_count": null,
   "id": "f6ef8a89-7f9c-4664-92c7-39720260aa3b",
   "metadata": {},
   "outputs": [],
   "source": []
  }
 ],
 "metadata": {
  "kernelspec": {
   "display_name": "Python 3 (ipykernel)",
   "language": "python",
   "name": "python3"
  },
  "language_info": {
   "codemirror_mode": {
    "name": "ipython",
    "version": 3
   },
   "file_extension": ".py",
   "mimetype": "text/x-python",
   "name": "python",
   "nbconvert_exporter": "python",
   "pygments_lexer": "ipython3",
   "version": "3.13.2"
  }
 },
 "nbformat": 4,
 "nbformat_minor": 5
}
