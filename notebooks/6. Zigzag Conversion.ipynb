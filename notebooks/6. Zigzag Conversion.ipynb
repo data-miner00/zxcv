{
 "cells": [
  {
   "cell_type": "markdown",
   "id": "a88d32ff-d03b-408e-abd9-17d91f9ca78f",
   "metadata": {},
   "source": [
    "# Zigzag Conversion\n",
    "\n",
    "Difficulty: Medium\n",
    "\n",
    "The string \"PAYPALISHIRING\" is written in a zigzag pattern on a given number of rows like this: (you may want to display this pattern in a fixed font for better legibility)\n",
    "\n",
    "```\n",
    "P   A   H   N\n",
    "A P L S I I G\n",
    "Y   I   R\n",
    "```\n",
    "\n",
    "And then read line by line: \"PAHNAPLSIIGYIR\"\n",
    "\n",
    "Write the code that will take a string and make this conversion given a number of rows:\n",
    "\n",
    "```\n",
    "string convert(string s, int numRows);\n",
    "```\n",
    "\n",
    "## Examples\n",
    "\n",
    "Example 1:\n",
    "\n",
    "Input: s = \"PAYPALISHIRING\", numRows = 3\n",
    "Output: \"PAHNAPLSIIGYIR\"\n",
    "\n",
    "Example 2:\n",
    "\n",
    "Input: s = \"PAYPALISHIRING\", numRows = 4\n",
    "Output: \"PINALSIGYAHRPI\"\n",
    "Explanation:\n",
    "\n",
    "```\n",
    "P     I    N\n",
    "A   L S  I G\n",
    "Y A   H R\n",
    "P     I\n",
    "```\n",
    "\n",
    "Example 3:\n",
    "\n",
    "Input: s = \"A\", numRows = 1\n",
    "Output: \"A\"\n",
    "\n",
    "## Constraints\n",
    "\n",
    "- 1 <= s.length <= 1000\n",
    "- s consists of English letters (lower-case and upper-case), ',' and '.'.\n",
    "- 1 <= numRows <= 1000\n",
    "\n",
    "<div class=\"tag-container\">\n",
    "    <div class=\"tag green\">String</div>\n",
    "</div>\n"
   ]
  },
  {
   "cell_type": "markdown",
   "id": "c63cf5fc-4186-4529-b8fe-8a6ed477c149",
   "metadata": {},
   "source": [
    "## Brute Force\n",
    "\n",
    "### Solution 1\n",
    "\n",
    "Intuition\n",
    "\n",
    "1. If the number of row is 1, just return the string\n",
    "2. Create a matrix array that represents each row in the zigzag\n",
    "3. Have a `move_down` flag that indicates the movement\n",
    "4. Have a pointer that points to the current row array in the matrix\n",
    "5. Initialize all rows as empty array in the matrix\n",
    "6. Loop through each characters inside the string\n",
    "7. Attach each characters into the rows respectively\n",
    "8. Increment or decrement the pointer to the rows on each iteration\n",
    "9. Additionally, if the pointer hit both ends, namely `0` and `numRows - 1`, flip the `move_down` flag\n",
    "10. Loop through each rows to construct the final output\n",
    "\n",
    "Time complexity: $O(n)$ or $O(n^2)$? I am not sure, even though it has nested loops but they are affected by different factors\n",
    "\n",
    "Submission: https://leetcode.com/problems/zigzag-conversion/submissions/1675023471/"
   ]
  },
  {
   "cell_type": "code",
   "execution_count": 1,
   "id": "091f5527-a72a-4efa-bbca-540334d3d47a",
   "metadata": {},
   "outputs": [],
   "source": [
    "class Solution:\n",
    "    def convert(self, s: str, numRows: int) -> str:\n",
    "        if numRows == 1:\n",
    "            return s\n",
    "        \n",
    "        matrix = []\n",
    "\n",
    "        move_down = True\n",
    "        pointer = 0\n",
    "\n",
    "        for i in range(numRows):\n",
    "            matrix.append([])\n",
    "\n",
    "        for ch in s:\n",
    "            matrix[pointer].append(ch)\n",
    "\n",
    "            if move_down:\n",
    "                pointer += 1\n",
    "            else:\n",
    "                pointer -= 1\n",
    "                \n",
    "            if pointer == 0 or pointer == numRows - 1:\n",
    "                move_down = not move_down\n",
    "\n",
    "        result = \"\"\n",
    "\n",
    "        for i in matrix:\n",
    "            for ch in i:\n",
    "                result += ch\n",
    "\n",
    "        return result\n",
    "                "
   ]
  },
  {
   "cell_type": "markdown",
   "id": "43673a8e-7d65-4d90-a005-7701f0f5b87a",
   "metadata": {},
   "source": [
    "## Test Cases"
   ]
  },
  {
   "cell_type": "code",
   "execution_count": 2,
   "id": "7b855bdf-ca61-434b-8534-c260af19b5ab",
   "metadata": {},
   "outputs": [],
   "source": [
    "sln = Solution()"
   ]
  },
  {
   "cell_type": "code",
   "execution_count": 3,
   "id": "b6285102-3f08-4c13-b9c9-8e2f24ff7e63",
   "metadata": {},
   "outputs": [],
   "source": [
    "text = \"PAYPALISHIRING\"\n",
    "rows = 3\n",
    "\n",
    "expected = \"PAHNAPLSIIGYIR\"\n",
    "\n",
    "actual = sln.convert(text, rows)\n",
    "\n",
    "assert expected == actual"
   ]
  },
  {
   "cell_type": "code",
   "execution_count": 4,
   "id": "7cdb93c8-4e69-4ff4-909d-687ed36576cc",
   "metadata": {},
   "outputs": [],
   "source": [
    "text = \"PAYPALISHIRING\"\n",
    "rows = 4\n",
    "\n",
    "expected = \"PINALSIGYAHRPI\"\n",
    "\n",
    "actual = sln.convert(text, rows)\n",
    "\n",
    "assert expected == actual"
   ]
  },
  {
   "cell_type": "code",
   "execution_count": 5,
   "id": "5fccdbc0-90eb-494e-98b5-a344ca37e640",
   "metadata": {},
   "outputs": [],
   "source": [
    "text = \"A\"\n",
    "rows = 1\n",
    "\n",
    "expected = \"A\"\n",
    "\n",
    "actual = sln.convert(text, rows)\n",
    "\n",
    "assert expected == actual"
   ]
  },
  {
   "cell_type": "code",
   "execution_count": 6,
   "id": "4113eb57-49da-4a7e-8ae2-6cd6043b8b36",
   "metadata": {},
   "outputs": [],
   "source": [
    "text = \"AB\"\n",
    "rows = 1\n",
    "\n",
    "expected = \"AB\"\n",
    "\n",
    "actual = sln.convert(text, rows)\n",
    "\n",
    "assert expected == actual"
   ]
  },
  {
   "cell_type": "code",
   "execution_count": null,
   "id": "06fb3b6f-dbb0-4824-bd54-66768c385dfa",
   "metadata": {},
   "outputs": [],
   "source": []
  }
 ],
 "metadata": {
  "kernelspec": {
   "display_name": "Python 3 (ipykernel)",
   "language": "python",
   "name": "python3"
  },
  "language_info": {
   "codemirror_mode": {
    "name": "ipython",
    "version": 3
   },
   "file_extension": ".py",
   "mimetype": "text/x-python",
   "name": "python",
   "nbconvert_exporter": "python",
   "pygments_lexer": "ipython3",
   "version": "3.13.2"
  }
 },
 "nbformat": 4,
 "nbformat_minor": 5
}
