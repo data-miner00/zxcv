{
 "cells": [
  {
   "cell_type": "markdown",
   "id": "c380ea5d-8164-4eb6-81fe-42b8d9c27254",
   "metadata": {},
   "source": [
    "# Longest Common Prefix\n",
    "\n",
    "Difficulty: Easy\n",
    "\n",
    "Write a function to find the longest common prefix string amongst an array of strings.\n",
    "\n",
    "If there is no common prefix, return an empty string `\"\"`.\n",
    "\n",
    "## Examples\n",
    "\n",
    "Example 1:\n",
    "\n",
    "    Input: strs = [\"flower\",\"flow\",\"flight\"]\n",
    "    Output: \"fl\"\n",
    "\n",
    "Example 2:\n",
    "\n",
    "    Input: strs = [\"dog\",\"racecar\",\"car\"]\n",
    "    Output: \"\"\n",
    "\n",
    "Explanation: There is no common prefix among the input strings.\n",
    "\n",
    "## Constraints\n",
    "\n",
    "- 1 <= strs.length <= 200\n",
    "- 0 <= strs[i].length <= 200\n",
    "- strs[i] consists of only lowercase English letters if it is non-empty.\n",
    "\n",
    "<div class=\"tag-container\">\n",
    "    <div class=\"tag pink\">Array</div>\n",
    "    <div class=\"tag green\">String</div>\n",
    "    <div class=\"tag yellow\">Trie</div>\n",
    "</div>"
   ]
  },
  {
   "cell_type": "markdown",
   "id": "cc0a5132-810b-4fbc-850a-9c170962d8a3",
   "metadata": {},
   "source": [
    "## Brute Force\n",
    "\n",
    "### Solution 1\n",
    "\n",
    "1. Find the shortest string in the list\n",
    "2. Create a variable `result` assigned to empty string\n",
    "3. Use the shortest string, loop through each characters\n",
    "4. If all of them are the same, append the character to the `result`\n",
    "5. If not, break and return `result`\n",
    "\n",
    "Time complexity: $O(n^2)$ - Outer loop + `all` & `map`\n",
    "\n",
    "Submission link: https://leetcode.com/problems/longest-common-prefix/submissions/1764942018/"
   ]
  },
  {
   "cell_type": "code",
   "execution_count": 1,
   "id": "42813642-7692-4aec-a27f-15af018c06de",
   "metadata": {},
   "outputs": [],
   "source": [
    "from typing import List"
   ]
  },
  {
   "cell_type": "code",
   "execution_count": 2,
   "id": "f43ea0ed-676f-49b0-8501-9d0514c7f6c5",
   "metadata": {},
   "outputs": [],
   "source": [
    "class Solution:\n",
    "    def longestCommonPrefix(self, strs: List[str]) -> str:\n",
    "        shortest = min(strs, key=len)\n",
    "        result = \"\"\n",
    "\n",
    "        for index, ch in enumerate(shortest):\n",
    "            isAllSame = all(map(lambda x: x[index] == ch, strs))\n",
    "            if isAllSame:\n",
    "                result += ch\n",
    "            else:\n",
    "                break\n",
    "\n",
    "        return result\n"
   ]
  },
  {
   "cell_type": "markdown",
   "id": "2cbaa75b-1254-4698-9e74-17f8588b5b1a",
   "metadata": {},
   "source": [
    "### Solution 2\n",
    "\n",
    "Similar approach, but using index and substring instead.\n",
    "\n",
    "Time complexity: $O(n^2)$\n",
    "\n",
    "Submission link: https://leetcode.com/problems/longest-common-prefix/submissions/1496329983/"
   ]
  },
  {
   "cell_type": "code",
   "execution_count": 3,
   "id": "32ea0b11-b1c2-4e65-8dd7-e7a3b101e63f",
   "metadata": {},
   "outputs": [],
   "source": [
    "class Solution:\n",
    "    def longestCommonPrefix(self, strs: List[str]) -> str:\n",
    "        shortest = min(strs, key=len)\n",
    "        i = 0\n",
    "\n",
    "        while i < len(shortest):\n",
    "            if all(map(lambda x: x[i] == shortest[i], strs)):\n",
    "                i += 1\n",
    "            else:\n",
    "                break\n",
    "\n",
    "        return shortest[:i]\n"
   ]
  },
  {
   "cell_type": "markdown",
   "id": "d5e82438-8137-4552-91d7-d9bafc96d42b",
   "metadata": {},
   "source": [
    "### Solution 3\n",
    "\n",
    "Reduce the prefix.\n",
    "\n",
    "1. Get the first in array as `prefix`\n",
    "2. Loop through the subsequent array without the first one\n",
    "3. Have another loop that compare the current prefix is it equal to the current string `strs[i]`. Use `[:len(prefix)]` to access the string prefix.\n",
    "4. If not equal, remove one character in `prefix` from behind. E.g. `flower` becomes `flowe`.\n",
    "5. This will preserve the prefix at the end of the loops. Otherwise, empty string will be returned.\n",
    "\n",
    "Time complexity: $O(n)$\n",
    "\n",
    "Submission link: https://leetcode.com/problems/longest-common-prefix/submissions/1764966734/\n"
   ]
  },
  {
   "cell_type": "code",
   "execution_count": 4,
   "id": "aadc7119-3bd3-4b32-a5a8-e9df3c84ca24",
   "metadata": {},
   "outputs": [],
   "source": [
    "class Solution:\n",
    "    def longestCommonPrefix(self, strs: List[str]) -> str:\n",
    "        if not strs: return \"\"\n",
    "\n",
    "        prefix = strs[0]\n",
    "\n",
    "        for i in range(1, len(strs)):\n",
    "            while prefix != strs[i][:len(prefix)]:\n",
    "                prefix = prefix[:-1]\n",
    "                if not prefix:\n",
    "                    return \"\"\n",
    "\n",
    "        return prefix\n"
   ]
  },
  {
   "cell_type": "markdown",
   "id": "b6aab1d4-8035-4b54-b566-49656458f44d",
   "metadata": {},
   "source": [
    "## Test Cases"
   ]
  },
  {
   "cell_type": "code",
   "execution_count": 5,
   "id": "6b360921-0b94-4f1c-acc1-5889f15d7baf",
   "metadata": {},
   "outputs": [],
   "source": [
    "sln = Solution()"
   ]
  },
  {
   "cell_type": "code",
   "execution_count": 6,
   "id": "2a2f6b51-ce51-43cf-8deb-a3ca46f15316",
   "metadata": {},
   "outputs": [],
   "source": [
    "scenarios = [\n",
    "    [[\"flower\",\"flow\",\"flight\"], \"fl\"],\n",
    "    [[\"dog\",\"racecar\",\"car\"], \"\"],\n",
    "]\n",
    "\n",
    "for case in scenarios:\n",
    "    actual = sln.longestCommonPrefix(case[0])\n",
    "\n",
    "    assert actual == case[1], f\"Case '{case[0]}' failed. {actual} does not equal to {case[1]}\""
   ]
  },
  {
   "cell_type": "code",
   "execution_count": null,
   "id": "00bbf681-f4ab-442c-8067-a44158b6b513",
   "metadata": {},
   "outputs": [],
   "source": []
  }
 ],
 "metadata": {
  "kernelspec": {
   "display_name": "Python 3 (ipykernel)",
   "language": "python",
   "name": "python3"
  },
  "language_info": {
   "codemirror_mode": {
    "name": "ipython",
    "version": 3
   },
   "file_extension": ".py",
   "mimetype": "text/x-python",
   "name": "python",
   "nbconvert_exporter": "python",
   "pygments_lexer": "ipython3",
   "version": "3.13.2"
  }
 },
 "nbformat": 4,
 "nbformat_minor": 5
}
