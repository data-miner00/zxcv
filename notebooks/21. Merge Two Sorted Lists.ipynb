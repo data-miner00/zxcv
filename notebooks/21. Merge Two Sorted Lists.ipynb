{
 "cells": [
  {
   "cell_type": "markdown",
   "id": "305e21f3-26cb-4be0-b7f5-86a15296b0ac",
   "metadata": {},
   "source": [
    "# Merge Two Sorted Lists\n",
    "\n",
    "Difficulty: Easy\n",
    "\n",
    "You are given the heads of two sorted linked lists `list1` and `list2`.\n",
    "\n",
    "Merge the two lists into one sorted list. The list should be made by splicing together the nodes of the first two lists.\n",
    "\n",
    "Return the head of the merged linked list.\n",
    "\n",
    "## Examples\n",
    "\n",
    "Example 1\n",
    "\n",
    "    Input: list1 = [1,2,4], list2 = [1,3,4]\n",
    "    Output: [1,1,2,3,4,4]\n",
    "\n",
    "Example 2:\n",
    "\n",
    "    Input: list1 = [], list2 = []\n",
    "    Output: []\n",
    "\n",
    "Example 3:\n",
    "\n",
    "    Input: list1 = [], list2 = [0]\n",
    "    Output: [0]\n",
    "\n",
    "## Constraints\n",
    "\n",
    "- The number of nodes in both lists is in the range [0, 50].\n",
    "- -100 <= Node.val <= 100\n",
    "- Both list1 and list2 are sorted in non-decreasing order.\n",
    "\n",
    "<div class=\"tag-container\">\n",
    "    <div class=\"tag yellow\">Linked list</div>\n",
    "    <div class=\"tag green\">Recursion</div>\n",
    "</div>\n",
    "\n"
   ]
  },
  {
   "cell_type": "markdown",
   "id": "720a834d-8d24-4490-b15e-466a828bd632",
   "metadata": {},
   "source": [
    "## Single Pass\n",
    "\n",
    "### Solution 1\n",
    "\n",
    "First attempt (To fix)"
   ]
  },
  {
   "cell_type": "code",
   "execution_count": 1,
   "id": "b6168976-1fe1-4964-8c62-d57423bc5874",
   "metadata": {},
   "outputs": [],
   "source": [
    "from typing import Optional, List\n",
    "\n",
    "class ListNode:\n",
    "    def __init__(self, val=0, next=None):\n",
    "        self.val = val\n",
    "        self.next = next"
   ]
  },
  {
   "cell_type": "code",
   "execution_count": 2,
   "id": "01d7d919-9b37-4995-b9f1-21d864c9398a",
   "metadata": {},
   "outputs": [],
   "source": [
    "class Solution:\n",
    "    def mergeTwoLists(self, list1: Optional[ListNode], list2: Optional[ListNode]) -> Optional[ListNode]:\n",
    "        if not list1: return list2\n",
    "        if not list2: return list1\n",
    "        \n",
    "        head = list1\n",
    "\n",
    "        while list2 and list1:\n",
    "            while list1.val <= list2.val:\n",
    "                if list1.next:\n",
    "                    list1 = list1.next\n",
    "                else:\n",
    "                    break\n",
    "\n",
    "            list1next = list1.next\n",
    "            list1.next = list2\n",
    "            list2 = list2.next\n",
    "            list1.next.next = list1next\n",
    "\n",
    "        return head"
   ]
  },
  {
   "cell_type": "markdown",
   "id": "c81487cf-88e1-4751-b60e-e26ad2ba32f3",
   "metadata": {},
   "source": [
    "### Solution 2\n",
    "\n",
    "Use a dummy node to simplify logic. (With help from Claude)\n",
    "\n",
    "Time complexity: $O(n)$\n",
    "\n",
    "Submission link: https://leetcode.com/problems/merge-two-sorted-lists/submissions/1771235616/"
   ]
  },
  {
   "cell_type": "code",
   "execution_count": 3,
   "id": "6f49e65a-1830-42fc-9215-ebb0a79795ab",
   "metadata": {},
   "outputs": [],
   "source": [
    "class Solution:\n",
    "    def mergeTwoLists(self, list1: Optional[ListNode], list2: Optional[ListNode]) -> Optional[ListNode]:\n",
    "        dummy = ListNode(-999)\n",
    "        current = dummy\n",
    "\n",
    "        while list1 and list2:\n",
    "            if list1.val < list2.val:\n",
    "                current.next = list1\n",
    "                list1 = list1.next\n",
    "            else:\n",
    "                current.next = list2\n",
    "                list2 = list2.next\n",
    "            current = current.next\n",
    "\n",
    "        current.next = list1 if list1 else list2\n",
    "\n",
    "        return dummy.next"
   ]
  },
  {
   "cell_type": "markdown",
   "id": "edf4360a-dd68-4f09-b216-8a0243e87b39",
   "metadata": {},
   "source": [
    "## Recursion\n",
    "\n",
    "### Solution 1\n",
    "\n",
    "Illustration:\n",
    "\n",
    "    mergeTwoLists([1,3], [2,4])\n",
    "    ├── Pick 1 (1 ≤ 2)\n",
    "    ├── 1.next = mergeTwoLists([3], [2,4])\n",
    "        ├── Pick 2 (2 < 3)  \n",
    "        ├── 2.next = mergeTwoLists([3], [4])\n",
    "            ├── Pick 3 (3 < 4)\n",
    "            ├── 3.next = mergeTwoLists([], [4])\n",
    "                └── Return [4] (base case)\n",
    "            └── Return [3->4]\n",
    "        └── Return [2->3->4] \n",
    "    └── Return [1->2->3->4]\n",
    "\n",
    "Time complexity: $O(n)$\n",
    "\n",
    "Submission link: https://leetcode.com/problems/merge-two-sorted-lists/submissions/1771246894/"
   ]
  },
  {
   "cell_type": "code",
   "execution_count": 4,
   "id": "626e54d6-87a0-43fc-8558-b6627e47e15c",
   "metadata": {},
   "outputs": [],
   "source": [
    "class Solution:\n",
    "    def mergeTwoLists(self, list1: Optional[ListNode], list2: Optional[ListNode]) -> Optional[ListNode]:\n",
    "        if not list1: return list2\n",
    "        if not list2: return list1\n",
    "\n",
    "        if list1.val < list2.val:\n",
    "            list1.next = self.mergeTwoLists(list1.next, list2)\n",
    "            return list1\n",
    "        else:\n",
    "            list2.next = self.mergeTwoLists(list1, list2.next)\n",
    "            return list2"
   ]
  },
  {
   "cell_type": "markdown",
   "id": "201b3abf-f9c2-48fc-b99d-b7c23bce8f0e",
   "metadata": {},
   "source": [
    "## Test cases"
   ]
  },
  {
   "cell_type": "code",
   "execution_count": 5,
   "id": "98f21040-f63c-4ff6-a0ac-80e1bd25411d",
   "metadata": {},
   "outputs": [],
   "source": [
    "sln = Solution()"
   ]
  },
  {
   "cell_type": "code",
   "execution_count": 6,
   "id": "6eb88e97-d4ee-46bf-97a6-62924701c093",
   "metadata": {},
   "outputs": [],
   "source": [
    "def makeList(nums: List[int]) -> Optional[ListNode]:\n",
    "    if not nums: return None\n",
    "    head = None\n",
    "    pointer = None\n",
    "    \n",
    "    for i in nums:\n",
    "        current = ListNode(i)\n",
    "        if not head:\n",
    "            head = current\n",
    "            pointer = current\n",
    "        else:\n",
    "            pointer.next = current\n",
    "            pointer = pointer.next\n",
    "\n",
    "    return head"
   ]
  },
  {
   "cell_type": "code",
   "execution_count": 7,
   "id": "d5123fc9-b40f-4350-9049-f24e68281585",
   "metadata": {},
   "outputs": [],
   "source": [
    "def collectToList(nums: Optional[ListNode]) -> List[int]:\n",
    "    if not nums: return []\n",
    "    \n",
    "    node = nums\n",
    "    res = [node.val]\n",
    "    while node.next:\n",
    "        node = node.next\n",
    "        res.append(node.val)\n",
    "\n",
    "    return res"
   ]
  },
  {
   "cell_type": "code",
   "execution_count": 8,
   "id": "5fd2c3b8-0bed-47c2-89e2-b03eb765e81f",
   "metadata": {},
   "outputs": [
    {
     "name": "stdout",
     "output_type": "stream",
     "text": [
      "Actual   :  [1, 1, 2, 3, 4, 4]\n",
      "Expected :  [1, 1, 2, 3, 4, 4]\n",
      "--------------------------------------------------\n",
      "Actual   :  []\n",
      "Expected :  []\n",
      "--------------------------------------------------\n",
      "Actual   :  [0]\n",
      "Expected :  [0]\n",
      "--------------------------------------------------\n"
     ]
    }
   ],
   "source": [
    "scenarios = [\n",
    "    [makeList([1,2,4]), makeList([1,3,4]), [1,1,2,3,4,4]],\n",
    "    [makeList([]), makeList([]), []],\n",
    "    [makeList([]), makeList([0]), [0]],\n",
    "]\n",
    "\n",
    "for case in scenarios:\n",
    "    actual = collectToList(sln.mergeTwoLists(case[0], case[1]))\n",
    "    print('Actual   : ', actual)\n",
    "    print('Expected : ', case[2])\n",
    "    print('-' * 50)\n",
    "    assert actual == case[2], f\"Case '{case[0]}' failed. {actual} does not equal to {case[2]}\""
   ]
  },
  {
   "cell_type": "code",
   "execution_count": null,
   "id": "9df6596d-6b18-4872-9dd3-10332f62f98a",
   "metadata": {},
   "outputs": [],
   "source": []
  }
 ],
 "metadata": {
  "kernelspec": {
   "display_name": "Python 3 (ipykernel)",
   "language": "python",
   "name": "python3"
  },
  "language_info": {
   "codemirror_mode": {
    "name": "ipython",
    "version": 3
   },
   "file_extension": ".py",
   "mimetype": "text/x-python",
   "name": "python",
   "nbconvert_exporter": "python",
   "pygments_lexer": "ipython3",
   "version": "3.13.2"
  }
 },
 "nbformat": 4,
 "nbformat_minor": 5
}
