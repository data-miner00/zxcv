{
 "cells": [
  {
   "cell_type": "markdown",
   "id": "a132132d-c1a9-4d30-93d0-f7f09d5eb601",
   "metadata": {},
   "source": [
    "# 42. Trapping Rain Water\n",
    "\n",
    "Difficulty: Hard\n",
    "\n",
    "Given n non-negative integers representing an elevation map where the width of each bar is 1, compute how much water it can trap after raining.\n",
    "\n",
    "## Examples\n",
    "\n",
    "Example 1:\n",
    "\n",
    "<img src=\"https://assets.leetcode.com/uploads/2018/10/22/rainwatertrap.png\" width=\"300\" />\n",
    "\n",
    "    Input: height = [0,1,0,2,1,0,1,3,2,1,2,1]\n",
    "    Output: 6\n",
    "    Explanation: The above elevation map (black section) is represented by array [0,1,0,2,1,0,1,3,2,1,2,1]. In this case, 6 units of rain water (blue section) are being trapped.\n",
    "\n",
    "Example 2:\n",
    "\n",
    "    Input: height = [4,2,0,3,2,5]\n",
    "    Output: 9\n",
    "\n",
    "## Constraints\n",
    "\n",
    "- n == height.length\n",
    "- 1 <= n <= 2 * $10^4$\n",
    "- 0 <= height[i] <= $10^5$\n",
    "\n",
    "<div class=\"tag-container\">\n",
    "    <div class=\"tag blue\">Array</div>\n",
    "    <div class=\"tag purple\">Two Pointers</div>\n",
    "    <div class=\"tag red\">Dynamic Programming</div>\n",
    "    <div class=\"tag yellow\">Stack</div>\n",
    "    <div class=\"tag green\">Monotonic Stack</div>\n",
    "</div>\n"
   ]
  },
  {
   "cell_type": "markdown",
   "id": "ebc45eb0-7d12-425c-9b07-addc8f5e3023",
   "metadata": {},
   "source": [
    "## Two Pointers\n",
    "\n",
    "### Solution 1 (Claude)\n",
    "\n",
    "Algorithm:\n",
    "\n",
    "1. Use two pointers (left and right) at both ends\n",
    "2. Track left_max and right_max - the highest bars seen so far from each side\n",
    "3. Move the pointer with the smaller max height inward\n",
    "4. At each step, calculate trapped water based on the current max\n",
    "\n",
    "Why it works:\n",
    "\n",
    "1. If left_max < right_max, we know the water level at left is determined by left_max (since there's definitely a higher bar on the right)\n",
    "2. We can safely calculate water at position left without knowing exact right maximum\n",
    "\n",
    "Time complexity: $O(n)$\n",
    "\n",
    "Space complexity: $O(1)$\n",
    "\n",
    "Submission link: https://leetcode.com/problems/trapping-rain-water/submissions/1804281812/"
   ]
  },
  {
   "cell_type": "code",
   "execution_count": 1,
   "id": "c374db10-264d-44a0-9fef-f80173c81ebc",
   "metadata": {},
   "outputs": [],
   "source": [
    "from typing import List\n",
    "\n",
    "class Solution:\n",
    "    def trap(self, height: List[int]) -> int:\n",
    "        \"\"\"\n",
    "        Calculate trapped rainwater using two pointers approach.\n",
    "        Time: O(n), Space: O(1)\n",
    "        \"\"\"\n",
    "        if not height:\n",
    "            return 0\n",
    "        \n",
    "        left, right = 0, len(height) - 1\n",
    "        left_max, right_max = 0, 0\n",
    "        water = 0\n",
    "        \n",
    "        while left < right:\n",
    "            if height[left] < height[right]:\n",
    "                # Process left side\n",
    "                if height[left] >= left_max:\n",
    "                    left_max = height[left]\n",
    "                else:\n",
    "                    water += left_max - height[left]\n",
    "                left += 1\n",
    "            else:\n",
    "                # Process right side\n",
    "                if height[right] >= right_max:\n",
    "                    right_max = height[right]\n",
    "                else:\n",
    "                    water += right_max - height[right]\n",
    "                right -= 1\n",
    "        \n",
    "        return water"
   ]
  },
  {
   "cell_type": "markdown",
   "id": "20cccffe-a2ab-4b89-b753-6c5c32914c1b",
   "metadata": {},
   "source": [
    "## Test cases"
   ]
  },
  {
   "cell_type": "code",
   "execution_count": 2,
   "id": "f7b35cdf-7a8d-469f-a67f-5fda19f41236",
   "metadata": {},
   "outputs": [],
   "source": [
    "sln = Solution()"
   ]
  },
  {
   "cell_type": "code",
   "execution_count": 3,
   "id": "953e5398-5e19-4fef-a574-f25bf0836fc7",
   "metadata": {},
   "outputs": [
    {
     "name": "stdout",
     "output_type": "stream",
     "text": [
      "Actual   :  6\n",
      "Expected :  6\n",
      "Elapsed time: 0.00 seconds\n",
      "--------------------------------------------------\n",
      "Actual   :  9\n",
      "Expected :  9\n",
      "Elapsed time: 0.00 seconds\n",
      "--------------------------------------------------\n"
     ]
    }
   ],
   "source": [
    "import time\n",
    "\n",
    "scenarios = [\n",
    "    ([0,1,0,2,1,0,1,3,2,1,2,1], 6),\n",
    "    ([4,2,0,3,2,5], 9),\n",
    "]\n",
    "\n",
    "for case in scenarios:\n",
    "    start_time = time.time()\n",
    "    actual = sln.trap(case[0])\n",
    "    end_time = time.time()\n",
    "    print('Actual   : ', actual)\n",
    "    print('Expected : ', case[1])\n",
    "    elapsed_time = end_time - start_time\n",
    "    print(f\"Elapsed time: {elapsed_time:.2f} seconds\")\n",
    "    assert actual == case[1], f\"Case {case[0]} failed. {actual} does not equal to {case[1]}\"\n",
    "    print('-' * 50)"
   ]
  },
  {
   "cell_type": "code",
   "execution_count": null,
   "id": "57cf7a1d-8af8-4370-a84b-507254ad671c",
   "metadata": {},
   "outputs": [],
   "source": []
  }
 ],
 "metadata": {
  "kernelspec": {
   "display_name": "Python 3 (ipykernel)",
   "language": "python",
   "name": "python3"
  },
  "language_info": {
   "codemirror_mode": {
    "name": "ipython",
    "version": 3
   },
   "file_extension": ".py",
   "mimetype": "text/x-python",
   "name": "python",
   "nbconvert_exporter": "python",
   "pygments_lexer": "ipython3",
   "version": "3.13.2"
  }
 },
 "nbformat": 4,
 "nbformat_minor": 5
}
